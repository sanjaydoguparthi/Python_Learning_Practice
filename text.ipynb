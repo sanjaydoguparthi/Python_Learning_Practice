{
 "cells": [
  {
   "cell_type": "code",
   "execution_count": 155,
   "id": "00f06262",
   "metadata": {},
   "outputs": [
    {
     "data": {
      "text/plain": [
       "4"
      ]
     },
     "execution_count": 155,
     "metadata": {},
     "output_type": "execute_result"
    }
   ],
   "source": [
    "2+2"
   ]
  },
  {
   "cell_type": "code",
   "execution_count": 156,
   "id": "f8082d82",
   "metadata": {},
   "outputs": [
    {
     "data": {
      "text/plain": [
       "10"
      ]
     },
     "execution_count": 156,
     "metadata": {},
     "output_type": "execute_result"
    }
   ],
   "source": [
    "2*5"
   ]
  },
  {
   "cell_type": "code",
   "execution_count": 157,
   "id": "7da2261c",
   "metadata": {},
   "outputs": [
    {
     "data": {
      "text/plain": [
       "'sanjay doguparthi'"
      ]
     },
     "execution_count": 157,
     "metadata": {},
     "output_type": "execute_result"
    }
   ],
   "source": [
    "\n",
    "'sanjay doguparthi'"
   ]
  },
  {
   "cell_type": "code",
   "execution_count": null,
   "id": "03bb368f",
   "metadata": {},
   "outputs": [],
   "source": []
  },
  {
   "cell_type": "code",
   "execution_count": 158,
   "id": "aa5f2c3c",
   "metadata": {},
   "outputs": [
    {
     "name": "stdout",
     "output_type": "stream",
     "text": [
      "sanjay doguparthi\n"
     ]
    }
   ],
   "source": [
    "print('sanjay doguparthi')"
   ]
  },
  {
   "cell_type": "code",
   "execution_count": 159,
   "id": "6fcd5a2e",
   "metadata": {},
   "outputs": [],
   "source": [
    "list = [1,2,3,4,5,6]"
   ]
  },
  {
   "cell_type": "code",
   "execution_count": 160,
   "id": "fa16dfd0",
   "metadata": {},
   "outputs": [
    {
     "data": {
      "text/plain": [
       "[1, 2, 3, 4, 5, 6]"
      ]
     },
     "execution_count": 160,
     "metadata": {},
     "output_type": "execute_result"
    }
   ],
   "source": [
    "list"
   ]
  },
  {
   "cell_type": "code",
   "execution_count": 161,
   "id": "c1bd96ad",
   "metadata": {},
   "outputs": [],
   "source": [
    "list.append('sanjay')"
   ]
  },
  {
   "cell_type": "code",
   "execution_count": 162,
   "id": "00d92ba7",
   "metadata": {},
   "outputs": [
    {
     "data": {
      "text/plain": [
       "[1, 2, 3, 4, 5, 6, 'sanjay']"
      ]
     },
     "execution_count": 162,
     "metadata": {},
     "output_type": "execute_result"
    }
   ],
   "source": [
    "list"
   ]
  },
  {
   "cell_type": "code",
   "execution_count": 163,
   "id": "c6a6dc38",
   "metadata": {},
   "outputs": [],
   "source": [
    "list.extend([9,8,7])"
   ]
  },
  {
   "cell_type": "code",
   "execution_count": 164,
   "id": "008c121c",
   "metadata": {},
   "outputs": [
    {
     "data": {
      "text/plain": [
       "[1, 2, 3, 4, 5, 6, 'sanjay', 9, 8, 7]"
      ]
     },
     "execution_count": 164,
     "metadata": {},
     "output_type": "execute_result"
    }
   ],
   "source": [
    "list"
   ]
  },
  {
   "cell_type": "code",
   "execution_count": 165,
   "id": "11d5ba1d",
   "metadata": {},
   "outputs": [
    {
     "data": {
      "text/plain": [
       "7"
      ]
     },
     "execution_count": 165,
     "metadata": {},
     "output_type": "execute_result"
    }
   ],
   "source": [
    "list.pop()"
   ]
  },
  {
   "cell_type": "code",
   "execution_count": 166,
   "id": "ce8be521",
   "metadata": {},
   "outputs": [
    {
     "data": {
      "text/plain": [
       "9"
      ]
     },
     "execution_count": 166,
     "metadata": {},
     "output_type": "execute_result"
    }
   ],
   "source": [
    "list.pop(7)"
   ]
  },
  {
   "cell_type": "code",
   "execution_count": 167,
   "id": "87b2a0a0",
   "metadata": {},
   "outputs": [
    {
     "data": {
      "text/plain": [
       "'sanjay'"
      ]
     },
     "execution_count": 167,
     "metadata": {},
     "output_type": "execute_result"
    }
   ],
   "source": [
    "list.pop(6)"
   ]
  },
  {
   "cell_type": "code",
   "execution_count": 168,
   "id": "d69bcb17",
   "metadata": {},
   "outputs": [
    {
     "data": {
      "text/plain": [
       "[1, 2, 3, 4, 5, 6, 8]"
      ]
     },
     "execution_count": 168,
     "metadata": {},
     "output_type": "execute_result"
    }
   ],
   "source": [
    "list\n",
    "#sum((int)list)"
   ]
  },
  {
   "cell_type": "code",
   "execution_count": 169,
   "id": "f31e6294",
   "metadata": {},
   "outputs": [
    {
     "data": {
      "text/plain": [
       "[1, 2, 3, 4, 5, 6, 8]"
      ]
     },
     "execution_count": 169,
     "metadata": {},
     "output_type": "execute_result"
    }
   ],
   "source": [
    "list"
   ]
  },
  {
   "cell_type": "code",
   "execution_count": 170,
   "id": "25f13e4d",
   "metadata": {},
   "outputs": [],
   "source": [
    "names=('sanjay','doguparthi','klayan','doguparthy')"
   ]
  },
  {
   "cell_type": "code",
   "execution_count": 171,
   "id": "07ca2ce7",
   "metadata": {},
   "outputs": [
    {
     "data": {
      "text/plain": [
       "('sanjay', 'doguparthi', 'klayan', 'doguparthy')"
      ]
     },
     "execution_count": 171,
     "metadata": {},
     "output_type": "execute_result"
    }
   ],
   "source": [
    "names"
   ]
  },
  {
   "cell_type": "code",
   "execution_count": 172,
   "id": "ab4183b3",
   "metadata": {},
   "outputs": [],
   "source": [
    "list.append(3)"
   ]
  },
  {
   "cell_type": "code",
   "execution_count": 173,
   "id": "5e058ec0",
   "metadata": {},
   "outputs": [
    {
     "data": {
      "text/plain": [
       "[1, 2, 3, 4, 5, 6, 8, 3]"
      ]
     },
     "execution_count": 173,
     "metadata": {},
     "output_type": "execute_result"
    }
   ],
   "source": [
    "list"
   ]
  },
  {
   "cell_type": "code",
   "execution_count": 174,
   "id": "3486533f",
   "metadata": {},
   "outputs": [],
   "source": [
    "namelist = list"
   ]
  },
  {
   "cell_type": "code",
   "execution_count": 175,
   "id": "5b507f09",
   "metadata": {},
   "outputs": [
    {
     "data": {
      "text/plain": [
       "[1, 2, 3, 4, 5, 6, 8, 3]"
      ]
     },
     "execution_count": 175,
     "metadata": {},
     "output_type": "execute_result"
    }
   ],
   "source": [
    "namelist"
   ]
  },
  {
   "cell_type": "code",
   "execution_count": 176,
   "id": "9e61fe72",
   "metadata": {},
   "outputs": [
    {
     "data": {
      "text/plain": [
       "[1, 2, 3, 4, 5, 6, 8, 3]"
      ]
     },
     "execution_count": 176,
     "metadata": {},
     "output_type": "execute_result"
    }
   ],
   "source": [
    "list"
   ]
  },
  {
   "cell_type": "code",
   "execution_count": 177,
   "id": "0b2c59d2",
   "metadata": {},
   "outputs": [
    {
     "data": {
      "text/plain": [
       "2"
      ]
     },
     "execution_count": 177,
     "metadata": {},
     "output_type": "execute_result"
    }
   ],
   "source": [
    "list.index(3)"
   ]
  },
  {
   "cell_type": "code",
   "execution_count": 178,
   "id": "0aa6d408",
   "metadata": {},
   "outputs": [],
   "source": [
    "names = ('sanjay','klayan','vinay','rahul')"
   ]
  },
  {
   "cell_type": "code",
   "execution_count": 179,
   "id": "2553f343",
   "metadata": {},
   "outputs": [],
   "source": [
    "namelist = [names]"
   ]
  },
  {
   "cell_type": "code",
   "execution_count": 180,
   "id": "ea2729a9",
   "metadata": {},
   "outputs": [
    {
     "data": {
      "text/plain": [
       "[('sanjay', 'klayan', 'vinay', 'rahul')]"
      ]
     },
     "execution_count": 180,
     "metadata": {},
     "output_type": "execute_result"
    }
   ],
   "source": [
    "namelist"
   ]
  },
  {
   "cell_type": "code",
   "execution_count": 181,
   "id": "51b7cd68",
   "metadata": {},
   "outputs": [],
   "source": [
    "list.append('vinod')"
   ]
  },
  {
   "cell_type": "code",
   "execution_count": 182,
   "id": "a737d07f",
   "metadata": {},
   "outputs": [
    {
     "data": {
      "text/plain": [
       "[('sanjay', 'klayan', 'vinay', 'rahul')]"
      ]
     },
     "execution_count": 182,
     "metadata": {},
     "output_type": "execute_result"
    }
   ],
   "source": [
    "namelist"
   ]
  },
  {
   "cell_type": "code",
   "execution_count": 183,
   "id": "43352686",
   "metadata": {},
   "outputs": [
    {
     "data": {
      "text/plain": [
       "[1, 2, 3, 4, 5, 6, 8, 3, 'vinod']"
      ]
     },
     "execution_count": 183,
     "metadata": {},
     "output_type": "execute_result"
    }
   ],
   "source": [
    "list"
   ]
  },
  {
   "cell_type": "code",
   "execution_count": 185,
   "id": "0f482ab6",
   "metadata": {},
   "outputs": [
    {
     "ename": "TypeError",
     "evalue": "'bool' object is not callable",
     "output_type": "error",
     "traceback": [
      "\u001b[31m---------------------------------------------------------------------------\u001b[39m",
      "\u001b[31mTypeError\u001b[39m                                 Traceback (most recent call last)",
      "\u001b[36mCell\u001b[39m\u001b[36m \u001b[39m\u001b[32mIn[185]\u001b[39m\u001b[32m, line 1\u001b[39m\n\u001b[32m----> \u001b[39m\u001b[32m1\u001b[39m \u001b[38;5;28;43mtype\u001b[39;49m\u001b[43m(\u001b[49m\u001b[38;5;28;43;01mTrue\u001b[39;49;00m\u001b[43m)\u001b[49m\n",
      "\u001b[31mTypeError\u001b[39m: 'bool' object is not callable"
     ]
    }
   ],
   "source": [
    "type(True)"
   ]
  },
  {
   "cell_type": "code",
   "execution_count": null,
   "id": "a647395f",
   "metadata": {},
   "outputs": [
    {
     "data": {
      "text/plain": [
       "bool"
      ]
     },
     "execution_count": 34,
     "metadata": {},
     "output_type": "execute_result"
    }
   ],
   "source": [
    "type(False)"
   ]
  },
  {
   "cell_type": "code",
   "execution_count": null,
   "id": "a9d202b1",
   "metadata": {},
   "outputs": [
    {
     "data": {
      "text/plain": [
       "list"
      ]
     },
     "execution_count": 35,
     "metadata": {},
     "output_type": "execute_result"
    }
   ],
   "source": [
    "type([])"
   ]
  },
  {
   "cell_type": "code",
   "execution_count": null,
   "id": "12208495",
   "metadata": {},
   "outputs": [],
   "source": [
    "list_example = []"
   ]
  },
  {
   "cell_type": "code",
   "execution_count": null,
   "id": "4dd7df06",
   "metadata": {},
   "outputs": [
    {
     "data": {
      "text/plain": [
       "list"
      ]
     },
     "execution_count": 37,
     "metadata": {},
     "output_type": "execute_result"
    }
   ],
   "source": [
    "type(list_example)"
   ]
  },
  {
   "cell_type": "code",
   "execution_count": null,
   "id": "7457c24a",
   "metadata": {},
   "outputs": [
    {
     "data": {
      "text/plain": [
       "list"
      ]
     },
     "execution_count": 38,
     "metadata": {},
     "output_type": "execute_result"
    }
   ],
   "source": [
    "type(list)"
   ]
  },
  {
   "cell_type": "code",
   "execution_count": null,
   "id": "d3aeeef4",
   "metadata": {},
   "outputs": [],
   "source": [
    "list = ['sanjay','kalyan','vinay','rudra','rahul']"
   ]
  },
  {
   "cell_type": "code",
   "execution_count": null,
   "id": "8f4374d8",
   "metadata": {},
   "outputs": [
    {
     "data": {
      "text/plain": [
       "list"
      ]
     },
     "execution_count": 40,
     "metadata": {},
     "output_type": "execute_result"
    }
   ],
   "source": [
    "type(list)"
   ]
  },
  {
   "cell_type": "code",
   "execution_count": null,
   "id": "e717bff8",
   "metadata": {},
   "outputs": [
    {
     "data": {
      "text/plain": [
       "['sanjay', 'kalyan', 'vinay', 'rudra', 'rahul']"
      ]
     },
     "execution_count": 41,
     "metadata": {},
     "output_type": "execute_result"
    }
   ],
   "source": [
    "list"
   ]
  },
  {
   "cell_type": "code",
   "execution_count": null,
   "id": "1e3312ab",
   "metadata": {},
   "outputs": [],
   "source": [
    "list.append('srinu')"
   ]
  },
  {
   "cell_type": "code",
   "execution_count": null,
   "id": "37e618f9",
   "metadata": {},
   "outputs": [
    {
     "data": {
      "text/plain": [
       "['sanjay', 'kalyan', 'vinay', 'rudra', 'rahul', 'srinu']"
      ]
     },
     "execution_count": 43,
     "metadata": {},
     "output_type": "execute_result"
    }
   ],
   "source": [
    "list"
   ]
  },
  {
   "cell_type": "code",
   "execution_count": null,
   "id": "37b1c47a",
   "metadata": {},
   "outputs": [
    {
     "data": {
      "text/plain": [
       "'rudra'"
      ]
     },
     "execution_count": 44,
     "metadata": {},
     "output_type": "execute_result"
    }
   ],
   "source": [
    "list[3]"
   ]
  },
  {
   "cell_type": "code",
   "execution_count": null,
   "id": "c36b003b",
   "metadata": {},
   "outputs": [
    {
     "data": {
      "text/plain": [
       "'rahul'"
      ]
     },
     "execution_count": 45,
     "metadata": {},
     "output_type": "execute_result"
    }
   ],
   "source": [
    "list[4]"
   ]
  },
  {
   "cell_type": "code",
   "execution_count": null,
   "id": "f811e936",
   "metadata": {},
   "outputs": [],
   "source": [
    "list.insert(3,'ravindra')"
   ]
  },
  {
   "cell_type": "code",
   "execution_count": null,
   "id": "ff314f73",
   "metadata": {},
   "outputs": [
    {
     "data": {
      "text/plain": [
       "['sanjay', 'kalyan', 'vinay', 'ravindra', 'rudra', 'rahul', 'srinu']"
      ]
     },
     "execution_count": 47,
     "metadata": {},
     "output_type": "execute_result"
    }
   ],
   "source": [
    "list"
   ]
  },
  {
   "cell_type": "code",
   "execution_count": null,
   "id": "67119cb6",
   "metadata": {},
   "outputs": [],
   "source": [
    "list.insert(5,'pavan kumar')"
   ]
  },
  {
   "cell_type": "code",
   "execution_count": null,
   "id": "2e839ed2",
   "metadata": {},
   "outputs": [
    {
     "data": {
      "text/plain": [
       "['sanjay',\n",
       " 'kalyan',\n",
       " 'vinay',\n",
       " 'ravindra',\n",
       " 'rudra',\n",
       " 'pavan kumar',\n",
       " 'rahul',\n",
       " 'srinu']"
      ]
     },
     "execution_count": 49,
     "metadata": {},
     "output_type": "execute_result"
    }
   ],
   "source": [
    "list"
   ]
  },
  {
   "cell_type": "code",
   "execution_count": null,
   "id": "7bd8e802",
   "metadata": {},
   "outputs": [
    {
     "data": {
      "text/plain": [
       "8"
      ]
     },
     "execution_count": 50,
     "metadata": {},
     "output_type": "execute_result"
    }
   ],
   "source": [
    "len(list)"
   ]
  },
  {
   "cell_type": "code",
   "execution_count": null,
   "id": "e394d385",
   "metadata": {},
   "outputs": [
    {
     "data": {
      "text/plain": [
       "['sanjay', 'kalyan', 'vinay']"
      ]
     },
     "execution_count": 51,
     "metadata": {},
     "output_type": "execute_result"
    }
   ],
   "source": [
    "list[:3]"
   ]
  },
  {
   "cell_type": "code",
   "execution_count": null,
   "id": "d063577c",
   "metadata": {},
   "outputs": [
    {
     "data": {
      "text/plain": [
       "['rudra', 'pavan kumar', 'rahul', 'srinu']"
      ]
     },
     "execution_count": 52,
     "metadata": {},
     "output_type": "execute_result"
    }
   ],
   "source": [
    "list[4:]"
   ]
  },
  {
   "cell_type": "code",
   "execution_count": null,
   "id": "c3a83628",
   "metadata": {},
   "outputs": [],
   "source": [
    "list.extend(['siva kumar'])"
   ]
  },
  {
   "cell_type": "code",
   "execution_count": null,
   "id": "f3348bb9",
   "metadata": {},
   "outputs": [
    {
     "data": {
      "text/plain": [
       "['sanjay',\n",
       " 'kalyan',\n",
       " 'vinay',\n",
       " 'ravindra',\n",
       " 'rudra',\n",
       " 'pavan kumar',\n",
       " 'rahul',\n",
       " 'srinu',\n",
       " 'siva kumar']"
      ]
     },
     "execution_count": 54,
     "metadata": {},
     "output_type": "execute_result"
    }
   ],
   "source": [
    "list"
   ]
  },
  {
   "cell_type": "code",
   "execution_count": null,
   "id": "3570383b",
   "metadata": {},
   "outputs": [
    {
     "data": {
      "text/plain": [
       "'siva kumar'"
      ]
     },
     "execution_count": 55,
     "metadata": {},
     "output_type": "execute_result"
    }
   ],
   "source": [
    "list.pop()"
   ]
  },
  {
   "cell_type": "code",
   "execution_count": null,
   "id": "26b98d34",
   "metadata": {},
   "outputs": [
    {
     "data": {
      "text/plain": [
       "'pavan kumar'"
      ]
     },
     "execution_count": 56,
     "metadata": {},
     "output_type": "execute_result"
    }
   ],
   "source": [
    "list.pop(5)"
   ]
  },
  {
   "cell_type": "markdown",
   "id": "341203d2",
   "metadata": {},
   "source": [
    "### dictionary method ###"
   ]
  },
  {
   "cell_type": "code",
   "execution_count": null,
   "id": "c6a33fd0",
   "metadata": {},
   "outputs": [],
   "source": [
    "dic = {}"
   ]
  },
  {
   "cell_type": "code",
   "execution_count": null,
   "id": "32a42b56",
   "metadata": {},
   "outputs": [
    {
     "data": {
      "text/plain": [
       "dict"
      ]
     },
     "execution_count": 58,
     "metadata": {},
     "output_type": "execute_result"
    }
   ],
   "source": [
    "type(dic)"
   ]
  },
  {
   "cell_type": "code",
   "execution_count": null,
   "id": "8dbdd4e8",
   "metadata": {},
   "outputs": [
    {
     "data": {
      "text/plain": [
       "dict"
      ]
     },
     "execution_count": 59,
     "metadata": {},
     "output_type": "execute_result"
    }
   ],
   "source": [
    "type(dict())"
   ]
  },
  {
   "cell_type": "code",
   "execution_count": null,
   "id": "262e2417",
   "metadata": {},
   "outputs": [],
   "source": [
    "set_example = {1,2,3,4,5}"
   ]
  },
  {
   "cell_type": "code",
   "execution_count": null,
   "id": "0dd6fb32",
   "metadata": {},
   "outputs": [
    {
     "data": {
      "text/plain": [
       "set"
      ]
     },
     "execution_count": 61,
     "metadata": {},
     "output_type": "execute_result"
    }
   ],
   "source": [
    "type(set_example)"
   ]
  },
  {
   "cell_type": "code",
   "execution_count": 7,
   "id": "f2bde382",
   "metadata": {},
   "outputs": [],
   "source": [
    "## let's create a dictionary\n",
    "my_dict = {'name': 'sanjay','age': '24','city': 'chirala'}"
   ]
  },
  {
   "cell_type": "code",
   "execution_count": null,
   "id": "b64c2372",
   "metadata": {},
   "outputs": [
    {
     "data": {
      "text/plain": [
       "dict"
      ]
     },
     "execution_count": 31,
     "metadata": {},
     "output_type": "execute_result"
    }
   ],
   "source": [
    "type(my_dict)"
   ]
  },
  {
   "cell_type": "code",
   "execution_count": null,
   "id": "8ca0c660",
   "metadata": {},
   "outputs": [
    {
     "data": {
      "text/plain": [
       "'sanjay'"
      ]
     },
     "execution_count": 32,
     "metadata": {},
     "output_type": "execute_result"
    }
   ],
   "source": [
    "my_dict['name']"
   ]
  },
  {
   "cell_type": "code",
   "execution_count": null,
   "id": "67996cb2",
   "metadata": {},
   "outputs": [
    {
     "data": {
      "text/plain": [
       "'24'"
      ]
     },
     "execution_count": 33,
     "metadata": {},
     "output_type": "execute_result"
    }
   ],
   "source": [
    "my_dict['age']"
   ]
  },
  {
   "cell_type": "code",
   "execution_count": null,
   "id": "68b67887",
   "metadata": {},
   "outputs": [
    {
     "data": {
      "text/plain": [
       "'chirala'"
      ]
     },
     "execution_count": 34,
     "metadata": {},
     "output_type": "execute_result"
    }
   ],
   "source": [
    "my_dict['city']"
   ]
  },
  {
   "cell_type": "code",
   "execution_count": null,
   "id": "b5ccdfb7",
   "metadata": {},
   "outputs": [],
   "source": [
    "my_dict.update({'cuntry': 'india'})\n"
   ]
  },
  {
   "cell_type": "code",
   "execution_count": null,
   "id": "964002cd",
   "metadata": {},
   "outputs": [
    {
     "data": {
      "text/plain": [
       "{'name': 'sanjay', 'age': '24', 'city': 'chirala', 'cuntry': 'india'}"
      ]
     },
     "execution_count": 36,
     "metadata": {},
     "output_type": "execute_result"
    }
   ],
   "source": [
    "my_dict"
   ]
  },
  {
   "cell_type": "code",
   "execution_count": null,
   "id": "4e7d2a0b",
   "metadata": {},
   "outputs": [
    {
     "data": {
      "text/plain": [
       "{'name': 'sanjay', 'age': '24', 'city': 'chirala', 'cuntry': 'india'}"
      ]
     },
     "execution_count": 37,
     "metadata": {},
     "output_type": "execute_result"
    }
   ],
   "source": [
    "my_dict"
   ]
  },
  {
   "cell_type": "code",
   "execution_count": null,
   "id": "7def814a",
   "metadata": {},
   "outputs": [
    {
     "data": {
      "text/plain": [
       "'india'"
      ]
     },
     "execution_count": 38,
     "metadata": {},
     "output_type": "execute_result"
    }
   ],
   "source": [
    "my_dict.pop('cuntry')"
   ]
  },
  {
   "cell_type": "code",
   "execution_count": null,
   "id": "2e0c4ac8",
   "metadata": {},
   "outputs": [
    {
     "data": {
      "text/plain": [
       "{'name': 'sanjay', 'age': '24', 'city': 'chirala'}"
      ]
     },
     "execution_count": 39,
     "metadata": {},
     "output_type": "execute_result"
    }
   ],
   "source": [
    "my_dict"
   ]
  },
  {
   "cell_type": "code",
   "execution_count": null,
   "id": "f7141644",
   "metadata": {},
   "outputs": [
    {
     "data": {
      "text/plain": [
       "('city', 'chirala')"
      ]
     },
     "execution_count": 40,
     "metadata": {},
     "output_type": "execute_result"
    }
   ],
   "source": [
    "my_dict.popitem()"
   ]
  },
  {
   "cell_type": "code",
   "execution_count": null,
   "id": "660c3a12",
   "metadata": {},
   "outputs": [
    {
     "data": {
      "text/plain": [
       "{'name': 'sanjay', 'age': '24'}"
      ]
     },
     "execution_count": 41,
     "metadata": {},
     "output_type": "execute_result"
    }
   ],
   "source": [
    "my_dict"
   ]
  },
  {
   "cell_type": "code",
   "execution_count": null,
   "id": "42ae57a8",
   "metadata": {},
   "outputs": [],
   "source": [
    "my_dict.update({'state': 'andhra pradesh'}) "
   ]
  },
  {
   "cell_type": "code",
   "execution_count": null,
   "id": "5cdd7805",
   "metadata": {},
   "outputs": [
    {
     "data": {
      "text/plain": [
       "{'name': 'sanjay', 'age': '24', 'state': 'andhra pradesh'}"
      ]
     },
     "execution_count": 43,
     "metadata": {},
     "output_type": "execute_result"
    }
   ],
   "source": [
    "my_dict"
   ]
  },
  {
   "cell_type": "code",
   "execution_count": null,
   "id": "2d81463b",
   "metadata": {},
   "outputs": [
    {
     "data": {
      "text/plain": [
       "'andhra pradesh'"
      ]
     },
     "execution_count": 44,
     "metadata": {},
     "output_type": "execute_result"
    }
   ],
   "source": [
    "my_dict.pop('state')"
   ]
  },
  {
   "cell_type": "code",
   "execution_count": null,
   "id": "fb4c1827",
   "metadata": {},
   "outputs": [],
   "source": [
    "\n",
    "my_dict.update({'state': 'andhra pradesh'})"
   ]
  },
  {
   "cell_type": "code",
   "execution_count": null,
   "id": "873bc53f",
   "metadata": {},
   "outputs": [
    {
     "data": {
      "text/plain": [
       "{'name': 'sanjay', 'age': '24', 'state': 'andhra pradesh'}"
      ]
     },
     "execution_count": 47,
     "metadata": {},
     "output_type": "execute_result"
    }
   ],
   "source": [
    "my_dict"
   ]
  },
  {
   "cell_type": "code",
   "execution_count": null,
   "id": "48975b9d",
   "metadata": {},
   "outputs": [
    {
     "data": {
      "text/plain": [
       "3"
      ]
     },
     "execution_count": 48,
     "metadata": {},
     "output_type": "execute_result"
    }
   ],
   "source": [
    "len(my_dict)"
   ]
  },
  {
   "cell_type": "code",
   "execution_count": null,
   "id": "f9f7382a",
   "metadata": {},
   "outputs": [],
   "source": [
    "my_dict['state2'] = 'telangana'"
   ]
  },
  {
   "cell_type": "code",
   "execution_count": null,
   "id": "b81a9b8e",
   "metadata": {},
   "outputs": [
    {
     "data": {
      "text/plain": [
       "{'name': 'sanjay',\n",
       " 'age': '24',\n",
       " 'state': 'andhra pradesh',\n",
       " 'state2': 'telangana'}"
      ]
     },
     "execution_count": 51,
     "metadata": {},
     "output_type": "execute_result"
    }
   ],
   "source": [
    "my_dict"
   ]
  },
  {
   "cell_type": "code",
   "execution_count": null,
   "id": "882c46fa",
   "metadata": {},
   "outputs": [
    {
     "data": {
      "text/plain": [
       "4"
      ]
     },
     "execution_count": 52,
     "metadata": {},
     "output_type": "execute_result"
    }
   ],
   "source": [
    "len(my_dict)"
   ]
  },
  {
   "cell_type": "code",
   "execution_count": null,
   "id": "186d119d",
   "metadata": {},
   "outputs": [
    {
     "data": {
      "text/plain": [
       "{'name': 'sanjay',\n",
       " 'age': '24',\n",
       " 'state': 'andhra pradesh',\n",
       " 'state2': 'telangana'}"
      ]
     },
     "execution_count": 54,
     "metadata": {},
     "output_type": "execute_result"
    }
   ],
   "source": [
    "my_dict"
   ]
  },
  {
   "cell_type": "code",
   "execution_count": null,
   "id": "03d6885f",
   "metadata": {},
   "outputs": [],
   "source": [
    "del my_dict['age']"
   ]
  },
  {
   "cell_type": "code",
   "execution_count": 8,
   "id": "3df42011",
   "metadata": {},
   "outputs": [
    {
     "data": {
      "text/plain": [
       "{'name': 'sanjay', 'age': '24', 'city': 'chirala'}"
      ]
     },
     "execution_count": 8,
     "metadata": {},
     "output_type": "execute_result"
    }
   ],
   "source": [
    "my_dict"
   ]
  },
  {
   "cell_type": "code",
   "execution_count": null,
   "id": "f13ff2b6",
   "metadata": {},
   "outputs": [
    {
     "data": {
      "text/plain": [
       "dict_keys(['name', 'state', 'state2'])"
      ]
     },
     "execution_count": 58,
     "metadata": {},
     "output_type": "execute_result"
    }
   ],
   "source": [
    "my_dict.keys()"
   ]
  },
  {
   "cell_type": "code",
   "execution_count": null,
   "id": "d3700f35",
   "metadata": {},
   "outputs": [
    {
     "data": {
      "text/plain": [
       "dict_values(['sanjay', 'andhra pradesh', 'telangana'])"
      ]
     },
     "execution_count": 59,
     "metadata": {},
     "output_type": "execute_result"
    }
   ],
   "source": [
    "my_dict.values()"
   ]
  },
  {
   "cell_type": "code",
   "execution_count": null,
   "id": "fa5f826a",
   "metadata": {},
   "outputs": [
    {
     "data": {
      "text/plain": [
       "dict_keys(['name', 'state', 'state2'])"
      ]
     },
     "execution_count": 60,
     "metadata": {},
     "output_type": "execute_result"
    }
   ],
   "source": [
    "my_dict.keys()"
   ]
  },
  {
   "cell_type": "code",
   "execution_count": 9,
   "id": "69173222",
   "metadata": {},
   "outputs": [
    {
     "data": {
      "text/plain": [
       "dict_values(['sanjay', '24', 'chirala'])"
      ]
     },
     "execution_count": 9,
     "metadata": {},
     "output_type": "execute_result"
    }
   ],
   "source": [
    "my_dict.values()"
   ]
  },
  {
   "cell_type": "code",
   "execution_count": 10,
   "id": "21c34fbf",
   "metadata": {},
   "outputs": [
    {
     "name": "stdout",
     "output_type": "stream",
     "text": [
      "yes, name is present in my_dict2\n"
     ]
    }
   ],
   "source": [
    "if 'name' in my_dict:\n",
    "    print('yes, name is present in my_dict2')"
   ]
  },
  {
   "cell_type": "code",
   "execution_count": 11,
   "id": "13e2255a",
   "metadata": {},
   "outputs": [
    {
     "data": {
      "text/plain": [
       "{'name': 'sanjay', 'age': '24', 'city': 'chirala'}"
      ]
     },
     "execution_count": 11,
     "metadata": {},
     "output_type": "execute_result"
    }
   ],
   "source": [
    "my_dict"
   ]
  },
  {
   "cell_type": "code",
   "execution_count": 12,
   "id": "4697fd6d",
   "metadata": {},
   "outputs": [],
   "source": [
    "## add a new dictionary to my_dict\n",
    "my_dict.update({'address': {'street': 'vinayaka street', 'city': 'chirala'}})"
   ]
  },
  {
   "cell_type": "code",
   "execution_count": 13,
   "id": "c58979d4",
   "metadata": {},
   "outputs": [
    {
     "data": {
      "text/plain": [
       "{'name': 'sanjay',\n",
       " 'age': '24',\n",
       " 'city': 'chirala',\n",
       " 'address': {'street': 'vinayaka street', 'city': 'chirala'}}"
      ]
     },
     "execution_count": 13,
     "metadata": {},
     "output_type": "execute_result"
    }
   ],
   "source": [
    "my_dict"
   ]
  },
  {
   "cell_type": "code",
   "execution_count": null,
   "id": "b90916f6",
   "metadata": {},
   "outputs": [],
   "source": [
    "\n",
    "my_dict['city'] = 'hyderabad'"
   ]
  },
  {
   "cell_type": "code",
   "execution_count": null,
   "id": "54e489ea",
   "metadata": {},
   "outputs": [
    {
     "data": {
      "text/plain": [
       "{'name': 'sanjay',\n",
       " 'age': '24',\n",
       " 'address': {'street': 'vinayaka street', 'city': 'chirala'},\n",
       " 'city': 'hyderabad'}"
      ]
     },
     "execution_count": 42,
     "metadata": {},
     "output_type": "execute_result"
    }
   ],
   "source": [
    "my_dict"
   ]
  },
  {
   "cell_type": "code",
   "execution_count": 15,
   "id": "9974b335",
   "metadata": {},
   "outputs": [
    {
     "data": {
      "text/plain": [
       "'kalyan'"
      ]
     },
     "execution_count": 15,
     "metadata": {},
     "output_type": "execute_result"
    }
   ],
   "source": [
    "my_dict['name']"
   ]
  },
  {
   "cell_type": "code",
   "execution_count": null,
   "id": "eb33168d",
   "metadata": {},
   "outputs": [
    {
     "data": {
      "text/plain": [
       "{'name': 'kalyan',\n",
       " 'age': '24',\n",
       " 'address': {'street': 'vinayaka street', 'city': 'chirala'},\n",
       " 'city': 'hyderabad'}"
      ]
     },
     "execution_count": 44,
     "metadata": {},
     "output_type": "execute_result"
    }
   ],
   "source": [
    "my_dict"
   ]
  },
  {
   "cell_type": "markdown",
   "id": "1cd52466",
   "metadata": {},
   "source": [
    "### tuples ###"
   ]
  },
  {
   "cell_type": "markdown",
   "id": "6a9517ca",
   "metadata": {},
   "source": []
  },
  {
   "cell_type": "code",
   "execution_count": null,
   "id": "3e4f4e14",
   "metadata": {},
   "outputs": [],
   "source": [
    "## create a enpty tuple\n",
    "my_tuple = ()"
   ]
  },
  {
   "cell_type": "code",
   "execution_count": null,
   "id": "139e6889",
   "metadata": {},
   "outputs": [
    {
     "data": {
      "text/plain": [
       "tuple"
      ]
     },
     "execution_count": 46,
     "metadata": {},
     "output_type": "execute_result"
    }
   ],
   "source": [
    "type(my_tuple)"
   ]
  },
  {
   "cell_type": "code",
   "execution_count": null,
   "id": "512519dc",
   "metadata": {},
   "outputs": [],
   "source": [
    "my_tuple = (1,2,3,4,5)"
   ]
  },
  {
   "cell_type": "code",
   "execution_count": null,
   "id": "6cd1d2de",
   "metadata": {},
   "outputs": [
    {
     "data": {
      "text/plain": [
       "1"
      ]
     },
     "execution_count": 49,
     "metadata": {},
     "output_type": "execute_result"
    }
   ],
   "source": [
    "my_tuple[0]"
   ]
  },
  {
   "cell_type": "code",
   "execution_count": null,
   "id": "95a760fc",
   "metadata": {},
   "outputs": [
    {
     "data": {
      "text/plain": [
       "2"
      ]
     },
     "execution_count": 50,
     "metadata": {},
     "output_type": "execute_result"
    }
   ],
   "source": [
    "my_tuple[1]"
   ]
  },
  {
   "cell_type": "code",
   "execution_count": null,
   "id": "b44f1d38",
   "metadata": {},
   "outputs": [
    {
     "data": {
      "text/plain": [
       "5"
      ]
     },
     "execution_count": 53,
     "metadata": {},
     "output_type": "execute_result"
    }
   ],
   "source": [
    "my_tuple[4]\n"
   ]
  },
  {
   "cell_type": "code",
   "execution_count": null,
   "id": "75795dc8",
   "metadata": {},
   "outputs": [
    {
     "data": {
      "text/plain": [
       "(1, 2, 3)"
      ]
     },
     "execution_count": 54,
     "metadata": {},
     "output_type": "execute_result"
    }
   ],
   "source": [
    "my_tuple[:3]"
   ]
  },
  {
   "cell_type": "code",
   "execution_count": null,
   "id": "1c93fbb8",
   "metadata": {},
   "outputs": [
    {
     "data": {
      "text/plain": [
       "(5,)"
      ]
     },
     "execution_count": 55,
     "metadata": {},
     "output_type": "execute_result"
    }
   ],
   "source": [
    "my_tuple[4:]"
   ]
  },
  {
   "cell_type": "code",
   "execution_count": null,
   "id": "c363030f",
   "metadata": {},
   "outputs": [
    {
     "data": {
      "text/plain": [
       "(3, 4)"
      ]
     },
     "execution_count": 56,
     "metadata": {},
     "output_type": "execute_result"
    }
   ],
   "source": [
    "my_tuple[2:4]"
   ]
  },
  {
   "cell_type": "code",
   "execution_count": null,
   "id": "d89a877e",
   "metadata": {},
   "outputs": [
    {
     "data": {
      "text/plain": [
       "(2, 3, 4)"
      ]
     },
     "execution_count": 57,
     "metadata": {},
     "output_type": "execute_result"
    }
   ],
   "source": [
    "\n",
    "my_tuple[1:3]\n",
    "my_tuple[1:4]"
   ]
  },
  {
   "cell_type": "code",
   "execution_count": null,
   "id": "a6a57854",
   "metadata": {},
   "outputs": [
    {
     "name": "stdout",
     "output_type": "stream",
     "text": [
      "a == b is False\n",
      "a != b is True\n"
     ]
    }
   ],
   "source": [
    "## rorational operators\n",
    "a = 10\n",
    "b = 20 \n",
    "# == equal to\n",
    "# != not equal to\n",
    "print(\"a == b is\", a == b)\n",
    "print(\"a != b is\", a != b)"
   ]
  },
  {
   "cell_type": "code",
   "execution_count": null,
   "id": "5805df86",
   "metadata": {},
   "outputs": [
    {
     "name": "stdout",
     "output_type": "stream",
     "text": [
      "var_age is 25\n",
      "var_str is sanjay\n",
      "var_float is 10.5\n"
     ]
    }
   ],
   "source": [
    "var_age = 25\n",
    "var_str = 'sanjay'\n",
    "var_float = 10.5\n",
    "print(\"var_age is\", var_age)\n",
    "print(\"var_str is\", var_str)\n",
    "print(\"var_float is\", var_float)"
   ]
  },
  {
   "cell_type": "code",
   "execution_count": null,
   "id": "6b5b5f99",
   "metadata": {},
   "outputs": [
    {
     "name": "stdout",
     "output_type": "stream",
     "text": [
      "You entered: 65\n"
     ]
    }
   ],
   "source": [
    "## input function\n",
    "# The input function allows you to take input from the user.\n",
    "variable = int(input(\"Enter a number: \"))\n",
    "print(\"You entered:\", variable)"
   ]
  },
  {
   "cell_type": "markdown",
   "id": "62cd6b08",
   "metadata": {},
   "source": [
    "### logical operators"
   ]
  },
  {
   "cell_type": "code",
   "execution_count": null,
   "id": "42e77817",
   "metadata": {},
   "outputs": [
    {
     "name": "stdout",
     "output_type": "stream",
     "text": [
      "a and b is True\n"
     ]
    }
   ],
   "source": [
    "## and, or, not operators\n",
    "\n",
    "## and operator\n",
    "# The and operator returns True if both operands are True.\n",
    "a = True\n",
    "b = True\n",
    "print(\"a and b is\", a and b)"
   ]
  },
  {
   "cell_type": "code",
   "execution_count": null,
   "id": "dd7cae39",
   "metadata": {},
   "outputs": [
    {
     "name": "stdout",
     "output_type": "stream",
     "text": [
      "a or b is True\n"
     ]
    }
   ],
   "source": [
    "## or operator\n",
    "# The or operator returns True if at least one of the operands is True.\n",
    "a = True\n",
    "b = False\n",
    "print(\"a or b is\", a or b)"
   ]
  },
  {
   "cell_type": "code",
   "execution_count": null,
   "id": "2650bab7",
   "metadata": {},
   "outputs": [
    {
     "name": "stdout",
     "output_type": "stream",
     "text": [
      "not a is False\n"
     ]
    }
   ],
   "source": [
    "## not operator\n",
    "# The not operator returns True if the operand is False, and vice versa.\n",
    "a = True\n",
    "print(\"not a is\", not a)"
   ]
  },
  {
   "cell_type": "code",
   "execution_count": null,
   "id": "03f38e6a",
   "metadata": {},
   "outputs": [
    {
     "name": "stdout",
     "output_type": "stream",
     "text": [
      "a == b is False\n",
      "a != b is True\n"
     ]
    }
   ],
   "source": [
    "## relational operators\n",
    "a = 10\n",
    "b = 20      \n",
    "# == equal to\n",
    "# != not equal to\n",
    "print(\"a == b is\", a == b)\n",
    "print(\"a != b is\", a != b)"
   ]
  },
  {
   "cell_type": "code",
   "execution_count": null,
   "id": "f6a741ea",
   "metadata": {},
   "outputs": [
    {
     "name": "stdout",
     "output_type": "stream",
     "text": [
      "a > b is False\n",
      "a < b is True\n"
     ]
    }
   ],
   "source": [
    "a = 10\n",
    "b = 20  \n",
    "# > greater than\n",
    "# < less than\n",
    "print(\"a > b is\", a > b)\n",
    "print(\"a < b is\", a < b)"
   ]
  },
  {
   "cell_type": "code",
   "execution_count": null,
   "id": "4a7cefe7",
   "metadata": {},
   "outputs": [
    {
     "name": "stdout",
     "output_type": "stream",
     "text": [
      "a >= b is False\n",
      "a <= b is True\n"
     ]
    }
   ],
   "source": [
    "a= 10\n",
    "b = 20\n",
    "# >= greater than or equal to\n",
    "# <= less than or equal to\n",
    "print(\"a >= b is\", a >= b)\n",
    "print(\"a <= b is\", a <= b)"
   ]
  },
  {
   "cell_type": "code",
   "execution_count": null,
   "id": "0e943142",
   "metadata": {},
   "outputs": [
    {
     "name": "stdout",
     "output_type": "stream",
     "text": [
      "Addition: 30\n",
      "Subtraction: -10\n",
      "Multiplication: 200\n",
      "Division: 0.5\n",
      "Modulus: 10\n",
      "Exponentiation: 100000000000000000000\n",
      "Floor Division: 0\n"
     ]
    }
   ],
   "source": [
    "## operators in python\n",
    "a = 10\n",
    "b = 20\n",
    "adition = a + b\n",
    "subtraction = a - b \n",
    "multiplication = a * b\n",
    "division = a / b\n",
    "print(\"Addition:\", adition)\n",
    "print(\"Subtraction:\", subtraction)\n",
    "print(\"Multiplication:\", multiplication)\n",
    "print(\"Division:\", division)\n",
    "# Modulus operator\n",
    "modulus = a % b\n",
    "print(\"Modulus:\", modulus)\n",
    "# Exponentiation operator\n",
    "exponentiation = a ** b\n",
    "print(\"Exponentiation:\", exponentiation)\n",
    "# Floor division operator\n",
    "floor_division = a // b\n",
    "print(\"Floor Division:\", floor_division)"
   ]
  },
  {
   "cell_type": "code",
   "execution_count": null,
   "id": "34ea308c",
   "metadata": {},
   "outputs": [],
   "source": []
  },
  {
   "cell_type": "markdown",
   "id": "94e3c6f0",
   "metadata": {},
   "source": [
    "### control_flow_statements"
   ]
  },
  {
   "cell_type": "code",
   "execution_count": null,
   "id": "ef058437",
   "metadata": {},
   "outputs": [
    {
     "name": "stdout",
     "output_type": "stream",
     "text": [
      "You are 25 years old\n",
      "You are not 25 years old\n",
      "yes, you are 2 years older than me\n",
      "You are 2 years older than me\n",
      "you are not elegible for voting\n",
      "you are elegible for voting\n"
     ]
    }
   ],
   "source": [
    "age = 25\n",
    "if(age == 25):\n",
    "    print(\"You are 25 years old\")   # the condition evalution is True\n",
    "else:\n",
    "    print(\"You are not 25 years old\")# \n",
    "if(age != 25):\n",
    "        print(\"You are 25 years old\")# the condition evalution is False\n",
    "else:\n",
    "    print(\"You are not 25 years old\") # the condition evalution is True\n",
    "if(age < 23):\n",
    "    print(\"You are 2 years younger then me\") # the condition evalution is False\n",
    "else:\n",
    "    print(\"yes, you are 2 years older than me\") # the condition evalution is True\n",
    "if(age > 23):\n",
    "    print(\"You are 2 years older than me\") # the condition evalution is True\n",
    "else:\n",
    "    print(\"yes, i am  2 years younger than you\") # the condition evalution is False\n",
    "if(age <= 17):\n",
    "    print(\"you are elegible for voting\") # the condition evalution is False\n",
    "else:\n",
    "    print(\"you are not elegible for voting\") # the condition evalution is True\n",
    "if(age >= 18):  \n",
    "    print(\"you are elegible for voting\") # the condition evalution is True  \n",
    "else:\n",
    "    print(\"you are not elegible for voting\") # the condition evalution is False"
   ]
  },
  {
   "cell_type": "code",
   "execution_count": null,
   "id": "6c61d513",
   "metadata": {},
   "outputs": [
    {
     "name": "stdout",
     "output_type": "stream",
     "text": [
      "You are 25 years old\n"
     ]
    }
   ],
   "source": [
    "age = 25\n",
    "if age == 25:\n",
    "    print(\"You are 25 years old\")   # the condition evalution is True"
   ]
  },
  {
   "cell_type": "code",
   "execution_count": null,
   "id": "106b0f32",
   "metadata": {},
   "outputs": [
    {
     "data": {
      "text/plain": [
       "True"
      ]
     },
     "execution_count": 23,
     "metadata": {},
     "output_type": "execute_result"
    }
   ],
   "source": [
    "age = 25\n",
    "\n",
    "(age == 25)\n",
    "(age != 25)\n",
    "(age < 23)\n",
    "(age > 23)\n",
    "(age <= 17)\n",
    "(age >= 18)\n"
   ]
  },
  {
   "cell_type": "code",
   "execution_count": null,
   "id": "0e72648d",
   "metadata": {},
   "outputs": [
    {
     "data": {
      "text/plain": [
       "False"
      ]
     },
     "execution_count": 25,
     "metadata": {},
     "output_type": "execute_result"
    }
   ],
   "source": [
    "age = 25\n",
    "(age < 23)"
   ]
  },
  {
   "cell_type": "code",
   "execution_count": null,
   "id": "0622acce",
   "metadata": {},
   "outputs": [
    {
     "data": {
      "text/plain": [
       "True"
      ]
     },
     "execution_count": 26,
     "metadata": {},
     "output_type": "execute_result"
    }
   ],
   "source": [
    "age = 25\n",
    "(age > 23)"
   ]
  },
  {
   "cell_type": "code",
   "execution_count": null,
   "id": "48aa2adb",
   "metadata": {},
   "outputs": [
    {
     "data": {
      "text/plain": [
       "False"
      ]
     },
     "execution_count": 27,
     "metadata": {},
     "output_type": "execute_result"
    }
   ],
   "source": [
    "age = 25\n",
    "(age <= 17)"
   ]
  },
  {
   "cell_type": "code",
   "execution_count": null,
   "id": "95e3c57a",
   "metadata": {},
   "outputs": [
    {
     "data": {
      "text/plain": [
       "True"
      ]
     },
     "execution_count": 28,
     "metadata": {},
     "output_type": "execute_result"
    }
   ],
   "source": [
    "age = 25\n",
    "(age >= 18)"
   ]
  },
  {
   "cell_type": "code",
   "execution_count": null,
   "id": "58f07bc9",
   "metadata": {},
   "outputs": [
    {
     "data": {
      "text/plain": [
       "True"
      ]
     },
     "execution_count": 32,
     "metadata": {},
     "output_type": "execute_result"
    }
   ],
   "source": [
    "age = 25\n",
    "(age != 18)"
   ]
  },
  {
   "cell_type": "code",
   "execution_count": null,
   "id": "eef89a4f",
   "metadata": {},
   "outputs": [],
   "source": [
    " ## conditional operators\n",
    "age = 25\n",
    "age == 25\n",
    "age != 25   \n",
    "age < 23\n",
    "age > 23\n",
    "age <= 17\n",
    "age >= 18\n",
    "# Logical operators\n",
    "a = True\n",
    "b = False   \n",
    "# and operator\n",
    "# or operator\n",
    "# not operator\n",
    "\n",
    "\n"
   ]
  },
  {
   "cell_type": "code",
   "execution_count": null,
   "id": "03271498",
   "metadata": {},
   "outputs": [
    {
     "data": {
      "text/plain": [
       "True"
      ]
     },
     "execution_count": 2,
     "metadata": {},
     "output_type": "execute_result"
    }
   ],
   "source": [
    "age = 25\n",
    "(age == 25)"
   ]
  },
  {
   "cell_type": "code",
   "execution_count": null,
   "id": "d08574e7",
   "metadata": {},
   "outputs": [
    {
     "data": {
      "text/plain": [
       "False"
      ]
     },
     "execution_count": 3,
     "metadata": {},
     "output_type": "execute_result"
    }
   ],
   "source": [
    "age = 25\n",
    "(age != 25)"
   ]
  },
  {
   "cell_type": "code",
   "execution_count": null,
   "id": "403b7acc",
   "metadata": {},
   "outputs": [
    {
     "data": {
      "text/plain": [
       "False"
      ]
     },
     "execution_count": 4,
     "metadata": {},
     "output_type": "execute_result"
    }
   ],
   "source": [
    "age = 25\n",
    "(age < 23)"
   ]
  },
  {
   "cell_type": "code",
   "execution_count": null,
   "id": "ea5f0538",
   "metadata": {},
   "outputs": [
    {
     "data": {
      "text/plain": [
       "True"
      ]
     },
     "execution_count": 6,
     "metadata": {},
     "output_type": "execute_result"
    }
   ],
   "source": [
    "age = 25\n",
    "(age >  0)"
   ]
  },
  {
   "cell_type": "code",
   "execution_count": null,
   "id": "0dcf2b90",
   "metadata": {},
   "outputs": [
    {
     "data": {
      "text/plain": [
       "False"
      ]
     },
     "execution_count": 7,
     "metadata": {},
     "output_type": "execute_result"
    }
   ],
   "source": [
    "age = 25\n",
    "(age <= 24.9)"
   ]
  },
  {
   "cell_type": "code",
   "execution_count": null,
   "id": "5d095c5e",
   "metadata": {},
   "outputs": [
    {
     "data": {
      "text/plain": [
       "True"
      ]
     },
     "execution_count": 8,
     "metadata": {},
     "output_type": "execute_result"
    }
   ],
   "source": [
    "age = 25\n",
    "(age >= -1)"
   ]
  },
  {
   "cell_type": "code",
   "execution_count": null,
   "id": "6cbad8f3",
   "metadata": {},
   "outputs": [
    {
     "data": {
      "text/plain": [
       "True"
      ]
     },
     "execution_count": 9,
     "metadata": {},
     "output_type": "execute_result"
    }
   ],
   "source": [
    "a = True\n",
    "b = True\n",
    "(a and b)"
   ]
  },
  {
   "cell_type": "code",
   "execution_count": null,
   "id": "9941ab54",
   "metadata": {},
   "outputs": [
    {
     "data": {
      "text/plain": [
       "True"
      ]
     },
     "execution_count": 10,
     "metadata": {},
     "output_type": "execute_result"
    }
   ],
   "source": [
    "a = True\n",
    "b = False\n",
    "(a or b)"
   ]
  },
  {
   "cell_type": "code",
   "execution_count": null,
   "id": "99610c91",
   "metadata": {},
   "outputs": [
    {
     "data": {
      "text/plain": [
       "False"
      ]
     },
     "execution_count": 11,
     "metadata": {},
     "output_type": "execute_result"
    }
   ],
   "source": [
    "a = True\n",
    "(not a)"
   ]
  },
  {
   "cell_type": "code",
   "execution_count": null,
   "id": "af59822a",
   "metadata": {},
   "outputs": [
    {
     "data": {
      "text/plain": [
       "True"
      ]
     },
     "execution_count": 13,
     "metadata": {},
     "output_type": "execute_result"
    }
   ],
   "source": [
    "a = True\n",
    "b = False\n",
    "(not  b)"
   ]
  },
  {
   "cell_type": "code",
   "execution_count": null,
   "id": "20034095",
   "metadata": {},
   "outputs": [
    {
     "name": "stdout",
     "output_type": "stream",
     "text": [
      "You are 25 years old\n"
     ]
    }
   ],
   "source": [
    "age = 25\n",
    "if age == 25:\n",
    "    print(\"You are 25 years old\")   # the condition evalution is True\n",
    "else:\n",
    "    print(\"You are not 25 years old\")# the condition evalution is False"
   ]
  },
  {
   "cell_type": "code",
   "execution_count": null,
   "id": "957d139e",
   "metadata": {},
   "outputs": [
    {
     "name": "stdout",
     "output_type": "stream",
     "text": [
      "You are not 25 years old\n"
     ]
    }
   ],
   "source": [
    "age = 25\n",
    "if age != 25:\n",
    "    print(\"You are 25 years old\")   # the condition evalution is False\n",
    "else:\n",
    "    print(\"You are not 25 years old\")# the condition evalution is True"
   ]
  },
  {
   "cell_type": "code",
   "execution_count": null,
   "id": "57b4cf8a",
   "metadata": {},
   "outputs": [
    {
     "name": "stdout",
     "output_type": "stream",
     "text": [
      "yes, you are 2 years older than me\n"
     ]
    }
   ],
   "source": [
    "age = 29\n",
    "if age < 23:\n",
    "    print(\"You are 2 years younger then me\") # the condition evalution is False\n",
    "else:\n",
    "    print(\"yes, you are 2 years older than me\")# the condition evalution is True"
   ]
  },
  {
   "cell_type": "code",
   "execution_count": null,
   "id": "5cc84e33",
   "metadata": {},
   "outputs": [
    {
     "name": "stdout",
     "output_type": "stream",
     "text": [
      "You are  older than me\n"
     ]
    }
   ],
   "source": [
    "age = 50\n",
    "if age > 23:\n",
    "    print(\"You are  older than me\") # the condition evalution is True\n",
    "else:\n",
    "    print(\"yes, i am  younger than you\")# the condition evalution is False"
   ]
  },
  {
   "cell_type": "code",
   "execution_count": null,
   "id": "ad4b9435",
   "metadata": {},
   "outputs": [
    {
     "name": "stdout",
     "output_type": "stream",
     "text": [
      "you are not elegible for voting\n"
     ]
    }
   ],
   "source": [
    "age = 25\n",
    "if age <= 17:\n",
    "    print(\"you are elegible for voting\") # the condition evalution is False\n",
    "else:\n",
    "    print(\"you are not elegible for voting\") # the condition evalution is True"
   ]
  },
  {
   "cell_type": "code",
   "execution_count": null,
   "id": "668d28f9",
   "metadata": {},
   "outputs": [
    {
     "name": "stdout",
     "output_type": "stream",
     "text": [
      "you are elegible for voting\n"
     ]
    }
   ],
   "source": [
    "age = 25\n",
    "if age >= 18:  \n",
    "    print(\"you are elegible for voting\") # the condition evalution is true \n",
    "else:\n",
    "    print(\"you are not elegible for voting\") # the condition evalution is False"
   ]
  },
  {
   "cell_type": "code",
   "execution_count": null,
   "id": "e7fdeaf2",
   "metadata": {},
   "outputs": [
    {
     "name": "stdout",
     "output_type": "stream",
     "text": [
      "exam results\n",
      "you pass the exam\n",
      "you have good marks: 90\n"
     ]
    }
   ],
   "source": [
    "print(\"exam results\")\n",
    "marks = 90\n",
    "if marks == 36:\n",
    "    print(\"you are pramoting the next class\")\n",
    "elif marks > 80:\n",
    "    print('you pass the exam')\n",
    "    if marks > 80:\n",
    "        print('you have good marks:',marks)\n",
    "else:\n",
    "    print('you fail the exam')\n"
   ]
  },
  {
   "cell_type": "markdown",
   "id": "ec6775f7",
   "metadata": {},
   "source": [
    "### while loop"
   ]
  },
  {
   "cell_type": "code",
   "execution_count": null,
   "id": "83b54157",
   "metadata": {},
   "outputs": [
    {
     "name": "stdout",
     "output_type": "stream",
     "text": [
      "1 hello,sanjay\n",
      "2 hello,sanjay\n",
      "c value is 3\n",
      "4 hello,sanjay\n",
      "5 hello,sanjay\n",
      "6 hello,sanjay\n",
      "7 hello,sanjay\n",
      "8 hello,sanjay\n",
      "9 hello,sanjay\n",
      "10 hello,sanjay\n"
     ]
    }
   ],
   "source": [
    "c = 0\n",
    "while c < 10:\n",
    "    c += 1\n",
    "    if c == 3:\n",
    "        print('c value is 3')\n",
    "        continue\n",
    "    print(c,'hello,sanjay')\n",
    "        "
   ]
  },
  {
   "cell_type": "code",
   "execution_count": null,
   "id": "5729b21a",
   "metadata": {},
   "outputs": [
    {
     "name": "stdout",
     "output_type": "stream",
     "text": [
      "1 hello,world\n",
      "2 hello,world\n",
      "3 hello,world\n",
      " a value is 4\n",
      "5 hello,world\n",
      "6 hello,world\n"
     ]
    }
   ],
   "source": [
    "a = 0\n",
    "while a < 6:\n",
    "    a += 1\n",
    "    if a == 4:\n",
    "        print(' a value is 4')\n",
    "        continue\n",
    "    print(a,'hello,world')"
   ]
  },
  {
   "cell_type": "markdown",
   "id": "a9b94582",
   "metadata": {},
   "source": [
    "### For loop"
   ]
  },
  {
   "cell_type": "code",
   "execution_count": null,
   "id": "335b689b",
   "metadata": {},
   "outputs": [
    {
     "name": "stdout",
     "output_type": "stream",
     "text": [
      "1\n",
      "2\n",
      "3\n",
      "4\n",
      "5\n"
     ]
    }
   ],
   "source": [
    "for c in range(1, 6):\n",
    "    print(c)"
   ]
  },
  {
   "cell_type": "code",
   "execution_count": null,
   "id": "3d74e84c",
   "metadata": {},
   "outputs": [
    {
     "name": "stdout",
     "output_type": "stream",
     "text": [
      "sanjay\n",
      "kalyan\n",
      "vikram\n",
      "harish\n",
      "ravi\n"
     ]
    }
   ],
   "source": [
    "persons = ['sanjay','kalyan','vikram','harish','ravi',]\n",
    "for name in persons:\n",
    "    print(name)"
   ]
  },
  {
   "cell_type": "code",
   "execution_count": null,
   "id": "bd1f9a00",
   "metadata": {},
   "outputs": [
    {
     "name": "stdout",
     "output_type": "stream",
     "text": [
      "k\n",
      "a\n",
      "l\n",
      "y\n",
      "a\n",
      "n\n",
      " \n",
      "k\n",
      "u\n",
      "m\n",
      "a\n",
      "r\n"
     ]
    }
   ],
   "source": [
    "name = 'kalyan kumar'\n",
    "for x in name:\n",
    "    print(x)\n"
   ]
  },
  {
   "cell_type": "code",
   "execution_count": null,
   "id": "4df01fb4",
   "metadata": {},
   "outputs": [
    {
     "name": "stdout",
     "output_type": "stream",
     "text": [
      "sanjay\n",
      "kalyan\n",
      "sunil\n",
      "anil\n",
      "vinay\n",
      "sameer\n",
      "harish\n"
     ]
    }
   ],
   "source": [
    "people = ['sanjay','kalyan','sunil','anil','vinay','rahul','sameer','harish',]\n",
    "for x in people:\n",
    "    if x == 'rahul':\n",
    "        continue\n",
    "    print(x)"
   ]
  },
  {
   "cell_type": "code",
   "execution_count": null,
   "id": "c8e6479e",
   "metadata": {},
   "outputs": [
    {
     "name": "stdout",
     "output_type": "stream",
     "text": [
      "sanjay\n",
      "kalyan\n",
      "sunil\n",
      "anil\n",
      "vinay\n",
      "rahul\n",
      "sameer\n",
      "harish\n",
      "rohith\n"
     ]
    }
   ],
   "source": [
    "people = ['sanjay','kalyan','sunil','anil','vinay','rahul','sameer','harish']\n",
    "for x in people:\n",
    "    print(x)\n",
    "else:\n",
    "    print('rohith')"
   ]
  },
  {
   "cell_type": "code",
   "execution_count": null,
   "id": "be8b3c43",
   "metadata": {},
   "outputs": [
    {
     "name": "stdout",
     "output_type": "stream",
     "text": [
      "1 hello,sanjay\n",
      "2 hello,sanjay\n",
      "count value is 3\n",
      "4 hello,sanjay\n",
      "5 hello,sanjay\n",
      "6 hello,sanjay\n"
     ]
    }
   ],
   "source": [
    "## while loop\n",
    "count = 0\n",
    "while count < 6:\n",
    "    count += 1\n",
    "    if count == 3:\n",
    "        print('count value is 3')\n",
    "        continue\n",
    "    print(count,'hello,sanjay')"
   ]
  },
  {
   "cell_type": "code",
   "execution_count": null,
   "id": "01c057b9",
   "metadata": {},
   "outputs": [
    {
     "name": "stdout",
     "output_type": "stream",
     "text": [
      "sanjay\n",
      "vinay\n",
      "arjun\n",
      "avinash\n",
      "sai\n",
      "vinay\n"
     ]
    }
   ],
   "source": [
    "## for loop\n",
    "people = ['sanjay','vinay','arjun','avinash','sai','vinay']\n",
    "for people in people:\n",
    "    print(people)"
   ]
  },
  {
   "cell_type": "code",
   "execution_count": null,
   "id": "c3d1bb9b",
   "metadata": {},
   "outputs": [
    {
     "name": "stdout",
     "output_type": "stream",
     "text": [
      "sanjay\n",
      "vinay\n",
      "arjun\n"
     ]
    }
   ],
   "source": [
    "people = ['sanjay','vinay','arjun','avinash','sai','vinay']\n",
    "for people in people:\n",
    "    if people == 'avinash':\n",
    "        break\n",
    "    print(people)\n",
    "        "
   ]
  },
  {
   "cell_type": "code",
   "execution_count": null,
   "id": "df1bf4bc",
   "metadata": {},
   "outputs": [
    {
     "name": "stdout",
     "output_type": "stream",
     "text": [
      "s\n",
      "a\n",
      "n\n",
      "j\n",
      "a\n",
      "y\n"
     ]
    }
   ],
   "source": [
    "people = 'sanjay'\n",
    "for people in people:\n",
    "    print(people)\n"
   ]
  },
  {
   "cell_type": "code",
   "execution_count": null,
   "id": "726481c5",
   "metadata": {},
   "outputs": [
    {
     "name": "stdout",
     "output_type": "stream",
     "text": [
      "sanjay\n",
      "vinay\n",
      "arjun\n",
      "sai\n",
      "vinay\n"
     ]
    }
   ],
   "source": [
    "people = ['sanjay','vinay','arjun','avinash','sai','vinay']\n",
    "for people in  people:\n",
    "    if people == 'avinash':\n",
    "        continue\n",
    "    print(people)\n",
    "\n",
    "    "
   ]
  },
  {
   "cell_type": "code",
   "execution_count": null,
   "id": "63d7974e",
   "metadata": {},
   "outputs": [
    {
     "name": "stdout",
     "output_type": "stream",
     "text": [
      "exam results\n",
      "you pass the exam:\n",
      "you have good marks: 51\n"
     ]
    }
   ],
   "source": [
    "## if_statements\n",
    "print('exam results')\n",
    "marks = 51\n",
    "if marks == 50:\n",
    "    print('you are promoted marks:', marks)\n",
    "elif marks > 40 and marks<=100:\n",
    "    print('you pass the exam:')\n",
    "    if marks >= 45 and marks <=51:\n",
    "        print('you have good marks:',marks)\n",
    "    elif marks >50 and marks <=80:\n",
    "        print('you have a great marks:',marks)   \n",
    "    elif marks >= 81 and marks <=96:\n",
    "        print('you got a best marks:',marks)\n",
    "    elif marks>96 and marks <= 100:\n",
    "        print('you got the first rank:', marks)\n",
    "    else:\n",
    "        print(\"None of the above\")\n"
   ]
  },
  {
   "cell_type": "code",
   "execution_count": null,
   "id": "f6bf6683",
   "metadata": {},
   "outputs": [
    {
     "name": "stdout",
     "output_type": "stream",
     "text": [
      "1 hello\n",
      "2 hello\n",
      "c value is 3 now\n",
      "4 hello\n",
      "5 hello\n",
      "6 hello\n"
     ]
    }
   ],
   "source": [
    "## while loop\n",
    "c = 0\n",
    "while c < 6:\n",
    "    c += 1\n",
    "    if c == 3:\n",
    "        print('c value is 3 now')\n",
    "        continue\n",
    "    print(c,'hello')"
   ]
  },
  {
   "cell_type": "code",
   "execution_count": null,
   "id": "32e27351",
   "metadata": {},
   "outputs": [
    {
     "name": "stdout",
     "output_type": "stream",
     "text": [
      "sanjay\n",
      "vinay\n",
      "arjun\n",
      "sai\n",
      "vinay\n"
     ]
    }
   ],
   "source": [
    "## for loop\n",
    "people = ['sanjay','vinay','arjun','avinash','sai','vinay']\n",
    "for people in people:\n",
    "    if people == 'avinash':\n",
    "        continue\n",
    "    print(people)\n",
    "        \n"
   ]
  },
  {
   "cell_type": "code",
   "execution_count": null,
   "id": "c8588dd9",
   "metadata": {},
   "outputs": [
    {
     "name": "stdout",
     "output_type": "stream",
     "text": [
      "vinay\n",
      "mahesh\n",
      "sudheer\n"
     ]
    }
   ],
   "source": [
    "people = ['vinay','mahesh','sudheer','naveen','srinu','venu','pavan']\n",
    "for x in people:\n",
    "    if x == 'naveen':\n",
    "        break\n",
    "    print(x)"
   ]
  },
  {
   "cell_type": "code",
   "execution_count": null,
   "id": "be3adbb1",
   "metadata": {},
   "outputs": [
    {
     "name": "stdout",
     "output_type": "stream",
     "text": [
      "vinay\n",
      "srinu\n",
      "pavan\n",
      "vinod\n",
      "sameer\n",
      "harsha\n",
      "sridhar\n"
     ]
    }
   ],
   "source": [
    "people = {'pavan','vinay','srinu','vinod','rahul','sameer','harsha'}\n",
    "for x in people:\n",
    "    if x == \"rahul\":\n",
    "        continue\n",
    "    print(x)\n",
    "else:\n",
    "    print(\"sridhar\")"
   ]
  },
  {
   "cell_type": "code",
   "execution_count": null,
   "id": "e2fac6fe",
   "metadata": {},
   "outputs": [
    {
     "name": "stdout",
     "output_type": "stream",
     "text": [
      "pavan\n",
      "vinay\n",
      "srinu\n",
      "vinod\n",
      "sameer\n",
      "harsha\n",
      "varun\n"
     ]
    }
   ],
   "source": [
    "persons = ['pavan','vinay','srinu','vinod','rahul','sameer','harsha']\n",
    "for x in persons:\n",
    "    if x == 'rahul':\n",
    "        continue\n",
    "    print(x)\n",
    "else:\n",
    "    print('varun')"
   ]
  },
  {
   "cell_type": "code",
   "execution_count": null,
   "id": "21567c55",
   "metadata": {},
   "outputs": [
    {
     "name": "stdout",
     "output_type": "stream",
     "text": [
      "1\n",
      "2\n",
      "3\n",
      "4\n",
      "5\n"
     ]
    }
   ],
   "source": [
    "for c in range(1,6):\n",
    "    print(c)"
   ]
  },
  {
   "cell_type": "code",
   "execution_count": null,
   "id": "c27a3f98",
   "metadata": {},
   "outputs": [
    {
     "name": "stdout",
     "output_type": "stream",
     "text": [
      "vinay\n",
      "ashok\n",
      "naresh\n",
      "sanjay\n",
      "ravi\n"
     ]
    }
   ],
   "source": [
    "list = ['ravi','vinay','ashok','naresh','sanjay']\n",
    "for x in list:\n",
    "    if x == 'ravi':\n",
    "        continue\n",
    "    print(x)\n",
    "else:\n",
    "    print('ravi')"
   ]
  },
  {
   "cell_type": "code",
   "execution_count": null,
   "id": "ce8eda1b",
   "metadata": {},
   "outputs": [
    {
     "name": "stdout",
     "output_type": "stream",
     "text": [
      "v\n",
      "i\n",
      "n\n",
      "a\n",
      "y\n"
     ]
    }
   ],
   "source": [
    "list = 'vinay'\n",
    "for x in list:\n",
    "    print(x)"
   ]
  },
  {
   "cell_type": "code",
   "execution_count": null,
   "id": "d2dc6146",
   "metadata": {},
   "outputs": [
    {
     "name": "stdout",
     "output_type": "stream",
     "text": [
      "0 hello,sanjay\n",
      "1 hello,sanjay\n",
      "2 hello,sanjay\n",
      "count value is 3\n",
      "3 hello,sanjay\n",
      "4 hello,sanjay\n",
      "5 hello,sanjay\n"
     ]
    }
   ],
   "source": [
    "## while loop\n",
    "count = 0\n",
    "while count < 6:\n",
    "    if count == 3:\n",
    "        print('count value is 3')\n",
    "    print(count,'hello,sanjay')\n",
    "    count += 1"
   ]
  },
  {
   "cell_type": "code",
   "execution_count": null,
   "id": "87cefbef",
   "metadata": {},
   "outputs": [
    {
     "name": "stdout",
     "output_type": "stream",
     "text": [
      "1\n",
      "2\n",
      "3\n",
      "4\n",
      "5\n"
     ]
    }
   ],
   "source": [
    "for c in range(1,6):\n",
    "    print(c)\n",
    "    c += 1"
   ]
  },
  {
   "cell_type": "code",
   "execution_count": null,
   "id": "3a57a8be",
   "metadata": {},
   "outputs": [
    {
     "name": "stdout",
     "output_type": "stream",
     "text": [
      "exam results\n",
      "you pass the exam:\n",
      "None of the above\n"
     ]
    }
   ],
   "source": [
    "print('exam results')\n",
    "marks = 100\n",
    "if marks == 60:\n",
    "    print('you are promoted marks:', marks)\n",
    "elif marks > 40 and marks<=100:\n",
    "    print('you pass the exam:')\n",
    "    if marks >= 45 and marks <=50:\n",
    "        print('you have good marks:',marks)\n",
    "    elif marks >50 and marks <=80:\n",
    "        print('you have a great marks:',marks)   \n",
    "    elif marks >= 81 and marks <=96:\n",
    "        print('you got a best marks:',marks)\n",
    "    elif marks>96 and marks <= 99:\n",
    "        print('you got the first rank:', marks)\n",
    "    else:\n",
    "        print(\"None of the above\")"
   ]
  },
  {
   "cell_type": "code",
   "execution_count": null,
   "id": "d3ea0bf2",
   "metadata": {},
   "outputs": [],
   "source": []
  },
  {
   "cell_type": "markdown",
   "id": "1881fddc",
   "metadata": {},
   "source": [
    "### user input"
   ]
  },
  {
   "cell_type": "code",
   "execution_count": null,
   "id": "5ee37d75",
   "metadata": {},
   "outputs": [
    {
     "name": "stdout",
     "output_type": "stream",
     "text": [
      "enter somthing to the print: \n",
      "sanjay\n"
     ]
    }
   ],
   "source": [
    "print('enter somthing to the print: ')\n",
    "x = input()\n",
    "print(x)"
   ]
  },
  {
   "cell_type": "code",
   "execution_count": null,
   "id": "fc855039",
   "metadata": {},
   "outputs": [
    {
     "name": "stdout",
     "output_type": "stream",
     "text": [
      "sanjay\n"
     ]
    }
   ],
   "source": [
    "x = input('enter somthing to print:  ')\n",
    "print(x)"
   ]
  },
  {
   "cell_type": "code",
   "execution_count": null,
   "id": "50196bba",
   "metadata": {},
   "outputs": [
    {
     "name": "stdout",
     "output_type": "stream",
     "text": [
      "results : 50\n"
     ]
    }
   ],
   "source": [
    "x = input('enter 1st number : ')\n",
    "y = input('enter 2nd number : ')\n",
    "a = int(x)\n",
    "b = int(y)\n",
    "z = a+b\n",
    "print('results :', z)"
   ]
  },
  {
   "cell_type": "code",
   "execution_count": null,
   "id": "f3443512",
   "metadata": {},
   "outputs": [
    {
     "name": "stdout",
     "output_type": "stream",
     "text": [
      "results : 99\n"
     ]
    }
   ],
   "source": [
    "x = int(input('enter 1st number : '))\n",
    "y = int(input('enter 2nd number : '))\n",
    "z = x+y\n",
    "print('results :', z)"
   ]
  },
  {
   "cell_type": "code",
   "execution_count": null,
   "id": "9cd80005",
   "metadata": {},
   "outputs": [
    {
     "name": "stdout",
     "output_type": "stream",
     "text": [
      "please enter single charecter only\n",
      "kalyan\n",
      "please enter single charecter only\n",
      "sanjay\n",
      "please enter single charecter only\n",
      "ajay\n",
      "please enter single charecter only\n",
      "vinay\n",
      "please enter single charecter only\n",
      "v\n"
     ]
    }
   ],
   "source": [
    "x = input('enter any charecter:')\n",
    "while len(x) != 1:\n",
    "    print('please enter single charecter only')\n",
    "    x = input('enter any charecter: ')\n",
    "    print(x) "
   ]
  },
  {
   "cell_type": "markdown",
   "id": "61b1b470",
   "metadata": {},
   "source": [
    "### functions"
   ]
  },
  {
   "cell_type": "code",
   "execution_count": null,
   "id": "275b6617",
   "metadata": {},
   "outputs": [
    {
     "name": "stdout",
     "output_type": "stream",
     "text": [
      "hello kalyan\n",
      "good morning\n",
      "what are you doing\n",
      "when do you work right now\n"
     ]
    }
   ],
   "source": [
    "def sayhello():\n",
    "    print('hello kalyan')\n",
    "    print('good morning')\n",
    "\n",
    "sayhello() # call the function\n",
    "print('what are you doing')\n",
    "print('when do you work right now')"
   ]
  },
  {
   "cell_type": "code",
   "execution_count": null,
   "id": "ff5bc136",
   "metadata": {},
   "outputs": [
    {
     "name": "stdout",
     "output_type": "stream",
     "text": [
      "hello avinash\n",
      "good morning\n",
      "hello sanjay\n",
      "good morning\n",
      "hello kalyan\n",
      "good morning\n",
      "hello user\n",
      "good morning\n"
     ]
    }
   ],
   "source": [
    "def sayhello(name= 'user'):# function name as a argument\n",
    "    print('hello',name)\n",
    "    print('good morning')\n",
    "\n",
    "user_name = ('avinash')\n",
    "sayhello(user_name)\n",
    "sayhello('sanjay')\n",
    "sayhello('kalyan')\n",
    "sayhello()"
   ]
  },
  {
   "cell_type": "code",
   "execution_count": null,
   "id": "bc42bdc8",
   "metadata": {},
   "outputs": [
    {
     "name": "stdout",
     "output_type": "stream",
     "text": [
      "result : 75\n",
      "result : 100\n",
      "result : 50\n"
     ]
    }
   ],
   "source": [
    "def add(num1,num2):  ##  add number of arguments\n",
    "    result = num1+num2\n",
    "    print('result :', result)\n",
    "add(55,20)\n",
    "add(60,40)\n",
    "add(25,25)"
   ]
  },
  {
   "cell_type": "code",
   "execution_count": null,
   "id": "179e73a3",
   "metadata": {},
   "outputs": [
    {
     "name": "stdout",
     "output_type": "stream",
     "text": [
      "result: 100\n",
      "22\n"
     ]
    }
   ],
   "source": [
    "def getsum(*x):## list of arguments\n",
    "    result = 0\n",
    "    for a in x:\n",
    "        result += a\n",
    "    print('result:',result)\n",
    "    print(x[3])\n",
    "getsum(25,5,33,22,15) \n",
    "        "
   ]
  },
  {
   "cell_type": "code",
   "execution_count": null,
   "id": "c37cd176",
   "metadata": {},
   "outputs": [
    {
     "name": "stdout",
     "output_type": "stream",
     "text": [
      "hallo sanjay\n",
      "whats your age\n",
      " my age is :  24\n",
      "i am from india\n",
      ".\n",
      "\n",
      "hallo kalyan\n",
      "whats your age\n",
      " my age is :  28\n",
      "i am from india\n"
     ]
    }
   ],
   "source": [
    "def sayhello(name,age,country = 'india'):## formal arguments\n",
    "    print('hallo', name)\n",
    "    print('whats your age')\n",
    "    print(' my age is : ',age)\n",
    "    print('i am from',country)\n",
    "\n",
    "sayhello('sanjay',24) # actual arguments\n",
    "print('.\\n')\n",
    "sayhello('kalyan',28,'india')"
   ]
  },
  {
   "cell_type": "code",
   "execution_count": null,
   "id": "dd4de88f",
   "metadata": {},
   "outputs": [],
   "source": [
    "list_example = []"
   ]
  },
  {
   "cell_type": "code",
   "execution_count": null,
   "id": "4e7086fe",
   "metadata": {},
   "outputs": [],
   "source": [
    "lst = ['sanjay','kalyan', 4 , 4.10 , True]"
   ]
  },
  {
   "cell_type": "code",
   "execution_count": 191,
   "id": "657c1a42",
   "metadata": {},
   "outputs": [],
   "source": [
    "#re the built-in type function if it was overwritten\n"
   ]
  },
  {
   "cell_type": "code",
   "execution_count": 193,
   "id": "3f3c97a1",
   "metadata": {},
   "outputs": [
    {
     "ename": "TypeError",
     "evalue": "'bool' object is not callable",
     "output_type": "error",
     "traceback": [
      "\u001b[31m---------------------------------------------------------------------------\u001b[39m",
      "\u001b[31mTypeError\u001b[39m                                 Traceback (most recent call last)",
      "\u001b[36mCell\u001b[39m\u001b[36m \u001b[39m\u001b[32mIn[193]\u001b[39m\u001b[32m, line 1\u001b[39m\n\u001b[32m----> \u001b[39m\u001b[32m1\u001b[39m \u001b[38;5;28;43mtype\u001b[39;49m\u001b[43m(\u001b[49m\u001b[38;5;28;43;01mTrue\u001b[39;49;00m\u001b[43m)\u001b[49m\n",
      "\u001b[31mTypeError\u001b[39m: 'bool' object is not callable"
     ]
    }
   ],
   "source": [
    "type(True)"
   ]
  },
  {
   "cell_type": "code",
   "execution_count": 194,
   "id": "2277706f",
   "metadata": {},
   "outputs": [
    {
     "data": {
      "text/plain": [
       "['sanjay', 'kalyan', 4, 4.1, True]"
      ]
     },
     "execution_count": 194,
     "metadata": {},
     "output_type": "execute_result"
    }
   ],
   "source": [
    "lst"
   ]
  },
  {
   "cell_type": "code",
   "execution_count": 195,
   "id": "170ef4a1",
   "metadata": {},
   "outputs": [],
   "source": [
    "lst.append('sanjay')"
   ]
  },
  {
   "cell_type": "code",
   "execution_count": 196,
   "id": "957f7f04",
   "metadata": {},
   "outputs": [
    {
     "data": {
      "text/plain": [
       "['sanjay', 'kalyan', 4, 4.1, True, 'sanjay']"
      ]
     },
     "execution_count": 196,
     "metadata": {},
     "output_type": "execute_result"
    }
   ],
   "source": [
    "lst"
   ]
  },
  {
   "cell_type": "code",
   "execution_count": null,
   "id": "392b16a4",
   "metadata": {},
   "outputs": [
    {
     "name": "stdout",
     "output_type": "stream",
     "text": [
      "index: 0 sanjay\n",
      "index: 1 kalyan\n",
      "index: 2 4\n",
      "index: 3 4.1\n",
      "index: 4 True\n",
      "index: 5 sanjay\n"
     ]
    }
   ],
   "source": [
    "print(\"index: 0\",lst[0])\n",
    "print(\"index: 1\",lst[1])\n",
    "print(\"index: 2\",lst[2])\n",
    "print(\"index: 3\",lst[3])\n",
    "print(\"index: 4\",lst[4])\n",
    "print(\"index: 5\",lst[5])"
   ]
  },
  {
   "cell_type": "code",
   "execution_count": null,
   "id": "b96a3762",
   "metadata": {},
   "outputs": [
    {
     "name": "stdout",
     "output_type": "stream",
     "text": [
      "index: sanjay\n",
      "index: True\n",
      "index: 4.1\n",
      "index: 4\n",
      "index: kalyan\n",
      "index: sanjay\n"
     ]
    }
   ],
   "source": [
    "print(\"index:\",lst[-1])\n",
    "print(\"index:\",lst[-2])\n",
    "print(\"index:\",lst[-3])\n",
    "print(\"index:\",lst[-4])\n",
    "print(\"index:\",lst[-5])\n",
    "print(\"index:\",lst[-6])"
   ]
  },
  {
   "cell_type": "code",
   "execution_count": null,
   "id": "2dd73ff3",
   "metadata": {},
   "outputs": [],
   "source": [
    "#type = True"
   ]
  },
  {
   "cell_type": "code",
   "execution_count": null,
   "id": "148247a7",
   "metadata": {},
   "outputs": [],
   "source": [
    "#type = lst"
   ]
  },
  {
   "cell_type": "code",
   "execution_count": null,
   "id": "39a69d68",
   "metadata": {},
   "outputs": [],
   "source": [
    "#type = 4.10"
   ]
  },
  {
   "cell_type": "code",
   "execution_count": null,
   "id": "ab630136",
   "metadata": {},
   "outputs": [],
   "source": [
    "#type = False"
   ]
  },
  {
   "cell_type": "code",
   "execution_count": null,
   "id": "66a7601e",
   "metadata": {},
   "outputs": [
    {
     "name": "stdout",
     "output_type": "stream",
     "text": [
      "hello kalyan\n",
      "good morning\n",
      "what are you doing\n",
      "when do you work right now\n"
     ]
    }
   ],
   "source": [
    "def sayhello():\n",
    "    print('hello kalyan')\n",
    "    print('good morning')\n",
    "\n",
    "sayhello() # call the function\n",
    "print('what are you doing')\n",
    "print('when do you work right now')"
   ]
  },
  {
   "cell_type": "code",
   "execution_count": null,
   "id": "39aa4537",
   "metadata": {},
   "outputs": [
    {
     "name": "stdout",
     "output_type": "stream",
     "text": [
      "hello kalyan\n",
      "good morning\n"
     ]
    }
   ],
   "source": [
    "sayhello()"
   ]
  },
  {
   "cell_type": "code",
   "execution_count": null,
   "id": "76ce9ffc",
   "metadata": {},
   "outputs": [
    {
     "name": "stdout",
     "output_type": "stream",
     "text": [
      "hello sanjay\n",
      "good morning\n",
      "what are you doing\n",
      "i am practicing python\n"
     ]
    }
   ],
   "source": [
    "def username():\n",
    "    print('hello sanjay')\n",
    "    print('good morning')\n",
    "\n",
    "username()\n",
    "print('what are you doing')\n",
    "print('i am practicing python')"
   ]
  },
  {
   "cell_type": "code",
   "execution_count": null,
   "id": "71343d4c",
   "metadata": {},
   "outputs": [
    {
     "name": "stdout",
     "output_type": "stream",
     "text": [
      "result :  50\n",
      "result :  0\n",
      "result :  625\n",
      "result :  1.0\n"
     ]
    }
   ],
   "source": [
    "def adding(num1,num2):\n",
    "    add = num1+num2\n",
    "    subtraction = num1-num2\n",
    "    multiplication = num1*num2\n",
    "    division = num1/num2\n",
    "    print('result : ', add)\n",
    "    print('result : ', subtraction)\n",
    "    print('result : ', multiplication)\n",
    "    print('result : ', division)\n",
    "\n",
    "adding(25,25)"
   ]
  },
  {
   "cell_type": "code",
   "execution_count": null,
   "id": "e864f01d",
   "metadata": {},
   "outputs": [
    {
     "name": "stdout",
     "output_type": "stream",
     "text": [
      "result: 189.4\n"
     ]
    }
   ],
   "source": [
    "def sum(*x):## list of arguments\n",
    "    result = 0\n",
    "    for a in x:\n",
    "        result += a\n",
    "    print('result:',result)\n",
    "\n",
    "sum(25.3,5.5,3.3,2.2,15,20,35,23,56,4.1) \n",
    "        "
   ]
  },
  {
   "cell_type": "markdown",
   "id": "eed86c6d",
   "metadata": {},
   "source": [
    "### arbitrry keyword arguments"
   ]
  },
  {
   "cell_type": "code",
   "execution_count": null,
   "id": "bedffccf",
   "metadata": {},
   "outputs": [
    {
     "name": "stdout",
     "output_type": "stream",
     "text": [
      "{'firstname': 'sanjay', 'secondname2': 'kalyan', 'thirdname3': 'avinash', 'age': 24, 'mobile': 123456789}\n",
      "firstname : sanjay\n",
      "secondname2 : kalyan\n",
      "thirdname3 : avinash\n",
      "age : 24\n",
      "mobile : 123456789\n"
     ]
    }
   ],
   "source": [
    "def person(**data):\n",
    "    print(data)\n",
    "    for k,v in data.items():\n",
    "        print(k, ':', v)\n",
    "        \n",
    "\n",
    "person(firstname='sanjay',secondname2='kalyan',thirdname3='avinash',age=24,mobile=123456789)\n",
    "    "
   ]
  },
  {
   "cell_type": "code",
   "execution_count": 25,
   "id": "fdbb2cbe",
   "metadata": {},
   "outputs": [
    {
     "name": "stdout",
     "output_type": "stream",
     "text": [
      "char sanjay\n",
      "['sanjay', 'praveen', 'vinod']\n",
      "['sanjay', 'vamsi']\n",
      "['sanjay', 'avinash']\n",
      "['sanjay', 'sunil', 'praveen', 'avinash', 'vinod']\n"
     ]
    }
   ],
   "source": [
    "lst = ['sanjay','kalyan','sunil','anil','praveen','vamsi','avinash','mahesh','vinod']\n",
    "\n",
    "print('char',lst[0])\n",
    "print(lst[::4])\n",
    "print(lst[::5])\n",
    "print(lst[::6])\n",
    "print(lst[::2])"
   ]
  },
  {
   "cell_type": "code",
   "execution_count": 23,
   "id": "3d25a7b0",
   "metadata": {},
   "outputs": [],
   "source": [
    "lst = 'kalyan'"
   ]
  },
  {
   "cell_type": "code",
   "execution_count": 24,
   "id": "0a637a74",
   "metadata": {},
   "outputs": [
    {
     "data": {
      "text/plain": [
       "'kalyan'"
      ]
     },
     "execution_count": 24,
     "metadata": {},
     "output_type": "execute_result"
    }
   ],
   "source": [
    "lst"
   ]
  },
  {
   "cell_type": "code",
   "execution_count": 26,
   "id": "e28796f1",
   "metadata": {},
   "outputs": [
    {
     "data": {
      "text/plain": [
       "['sanjay',\n",
       " 'kalyan',\n",
       " 'sunil',\n",
       " 'anil',\n",
       " 'praveen',\n",
       " 'vamsi',\n",
       " 'avinash',\n",
       " 'mahesh',\n",
       " 'vinod']"
      ]
     },
     "execution_count": 26,
     "metadata": {},
     "output_type": "execute_result"
    }
   ],
   "source": [
    "lst"
   ]
  },
  {
   "cell_type": "code",
   "execution_count": 27,
   "id": "db02b338",
   "metadata": {},
   "outputs": [
    {
     "name": "stdout",
     "output_type": "stream",
     "text": [
      "h\n",
      "e\n",
      "l\n",
      "l\n",
      "o\n"
     ]
    }
   ],
   "source": [
    "my_list = [\"hello\", \"world\", \"python\"]\n",
    "for char in my_list[0]:\n",
    "    print(char)"
   ]
  },
  {
   "cell_type": "code",
   "execution_count": 28,
   "id": "37775d18",
   "metadata": {},
   "outputs": [
    {
     "data": {
      "text/plain": [
       "['sanjay',\n",
       " 'kalyan',\n",
       " 'sunil',\n",
       " 'anil',\n",
       " 'praveen',\n",
       " 'vamsi',\n",
       " 'avinash',\n",
       " 'mahesh',\n",
       " 'vinod']"
      ]
     },
     "execution_count": 28,
     "metadata": {},
     "output_type": "execute_result"
    }
   ],
   "source": [
    "lst"
   ]
  },
  {
   "cell_type": "code",
   "execution_count": null,
   "id": "c444a77d",
   "metadata": {},
   "outputs": [
    {
     "name": "stdout",
     "output_type": "stream",
     "text": [
      "  : v\n",
      "  : a\n",
      "  : m\n",
      "  : s\n",
      "  : i\n"
     ]
    }
   ],
   "source": [
    "lst = ['sanjay','kalyan','sunil','anil','praveen','vamsi','avinash','mahesh','vinod']\n",
    "for char in lst[5]:\n",
    "    print(':', char)"
   ]
  },
  {
   "cell_type": "code",
   "execution_count": 35,
   "id": "c8f07507",
   "metadata": {},
   "outputs": [
    {
     "name": "stdout",
     "output_type": "stream",
     "text": [
      "['kalyan kumar']\n"
     ]
    }
   ],
   "source": [
    "chars =['kalyan kumar']\n",
    "print(chars)"
   ]
  },
  {
   "cell_type": "code",
   "execution_count": 36,
   "id": "984aaa6f",
   "metadata": {},
   "outputs": [
    {
     "name": "stdout",
     "output_type": "stream",
     "text": [
      "p\n",
      "r\n",
      "a\n",
      "v\n",
      "e\n",
      "e\n",
      "n\n"
     ]
    }
   ],
   "source": [
    "lst = ['sanjay','kalyan','sunil','anil','praveen','vamsi','avinash','mahesh','vinod']\n",
    "for char in lst[4]:\n",
    "    print(char)"
   ]
  },
  {
   "cell_type": "code",
   "execution_count": 77,
   "id": "e53e8745",
   "metadata": {},
   "outputs": [
    {
     "name": "stdout",
     "output_type": "stream",
     "text": [
      "s\n",
      "a\n",
      "n\n",
      "j\n",
      "a\n",
      "y\n"
     ]
    }
   ],
   "source": [
    "lst = ['sanjay']\n",
    "\n",
    "for string in lst:\n",
    "    for char in string:\n",
    "        print(char[0::-1])\n",
    "        \n",
    "\n",
    "\n"
   ]
  },
  {
   "cell_type": "code",
   "execution_count": null,
   "id": "b539339a",
   "metadata": {},
   "outputs": [
    {
     "name": "stdout",
     "output_type": "stream",
     "text": [
      "0\n",
      "2\n",
      "4\n",
      "6\n",
      "8\n"
     ]
    }
   ],
   "source": [
    "## list comprehension condition\n",
    "list = []\n",
    "for list in range (10):\n",
    "    if list%2 == 0:\n",
    "      print(list)"
   ]
  },
  {
   "cell_type": "code",
   "execution_count": 16,
   "id": "730a0749",
   "metadata": {},
   "outputs": [
    {
     "name": "stdout",
     "output_type": "stream",
     "text": [
      "[0, 2, 4, 6, 8]\n"
     ]
    }
   ],
   "source": [
    "even_numbers = [list for list in range(10) if list%2 == 0]\n",
    "\n",
    "print(even_numbers)\n"
   ]
  },
  {
   "cell_type": "code",
   "execution_count": 17,
   "id": "22ea71ad",
   "metadata": {},
   "outputs": [
    {
     "name": "stdout",
     "output_type": "stream",
     "text": [
      "[1, 3, 5, 7, 9]\n"
     ]
    }
   ],
   "source": [
    "odd_numbers = [list for list in range(10) if list%2 != 0]\n",
    "\n",
    "print(odd_numbers)"
   ]
  },
  {
   "cell_type": "code",
   "execution_count": 6,
   "id": "77f6dcf8",
   "metadata": {},
   "outputs": [
    {
     "name": "stdout",
     "output_type": "stream",
     "text": [
      "1\n",
      "3\n",
      "5\n",
      "7\n",
      "9\n"
     ]
    }
   ],
   "source": [
    "list = []\n",
    "for list in range(10):\n",
    "    if list%2 != 0:\n",
    "        print(list)"
   ]
  },
  {
   "cell_type": "code",
   "execution_count": 10,
   "id": "7d4f0d20",
   "metadata": {},
   "outputs": [
    {
     "name": "stdout",
     "output_type": "stream",
     "text": [
      "[0, 1, 4, 9, 16, 25, 36, 49, 64, 81]\n"
     ]
    }
   ],
   "source": [
    "list = []\n",
    "for x in range(10):\n",
    "    list.append(x**2)\n",
    "print(list)"
   ]
  },
  {
   "cell_type": "code",
   "execution_count": 11,
   "id": "57666c75",
   "metadata": {},
   "outputs": [
    {
     "data": {
      "text/plain": [
       "[0, 1, 4, 9, 16, 25, 36, 49, 64, 81]"
      ]
     },
     "execution_count": 11,
     "metadata": {},
     "output_type": "execute_result"
    }
   ],
   "source": [
    "[x**2 for x in range(10)]"
   ]
  },
  {
   "cell_type": "code",
   "execution_count": 18,
   "id": "b8454169",
   "metadata": {},
   "outputs": [
    {
     "name": "stdout",
     "output_type": "stream",
     "text": [
      "[0, 1, 4, 9, 16, 25, 36, 49, 64, 81]\n"
     ]
    }
   ],
   "source": [
    "square = [list**2 for list in range(10)]\n",
    "\n",
    "print(square)"
   ]
  },
  {
   "cell_type": "code",
   "execution_count": null,
   "id": "c3bafb3b",
   "metadata": {},
   "outputs": [
    {
     "name": "stdout",
     "output_type": "stream",
     "text": [
      "[[1, 'sanjay'], [1, 'kalyan'], [2, 'sanjay'], [2, 'kalyan'], [3, 'sanjay'], [3, 'kalyan']]\n"
     ]
    }
   ],
   "source": [
    "## nested list comprehension\n",
    "\n",
    "list_1 = [1,2,3]\n",
    "list_2 = ['sanjay','kalyan']\n",
    "pair_list = [[i,j]for i in list_1 for j in list_2]\n",
    "\n",
    "print(pair_list)"
   ]
  },
  {
   "cell_type": "code",
   "execution_count": 21,
   "id": "57f0f9b9",
   "metadata": {},
   "outputs": [
    {
     "name": "stdout",
     "output_type": "stream",
     "text": [
      "[6, 6, 8, 6, 6, 6, 5, 4]\n"
     ]
    }
   ],
   "source": [
    "## list of comprehension with funcction calls\n",
    "\n",
    "words = ['sanjay','kalyan','indexing','append','insert','remove','clear','list']\n",
    "lengths = [len(word) for word in words]\n",
    "print(lengths)\n"
   ]
  },
  {
   "cell_type": "code",
   "execution_count": 25,
   "id": "9933e804",
   "metadata": {},
   "outputs": [
    {
     "name": "stdout",
     "output_type": "stream",
     "text": [
      "[6, 4, 5, 15, 3, 3, 3]\n"
     ]
    }
   ],
   "source": [
    "skills = ['python','java','linux','cloud computing','SQL','AWS','C++' ]\n",
    "lengths = [len(name) for name in names]\n",
    "print(lengths)"
   ]
  },
  {
   "cell_type": "code",
   "execution_count": 13,
   "id": "9af0ea0a",
   "metadata": {},
   "outputs": [
    {
     "name": "stdout",
     "output_type": "stream",
     "text": [
      "a is equal to b: 0\n"
     ]
    }
   ],
   "source": [
    "#relation operators\n",
    "a = -1\n",
    "b = 0\n",
    "if a <= b:\n",
    "    print('a is equal to b:', a and b)\n",
    "else:\n",
    "    print('a is not equal to b:', a and b)\n",
    "\n",
    "\n"
   ]
  },
  {
   "cell_type": "code",
   "execution_count": 17,
   "id": "17bf538e",
   "metadata": {},
   "outputs": [
    {
     "name": "stdout",
     "output_type": "stream",
     "text": [
      "a and b is False\n"
     ]
    }
   ],
   "source": [
    "# and operator\n",
    "a = False\n",
    "b = True\n",
    "print('a and b is', a and b)"
   ]
  },
  {
   "cell_type": "code",
   "execution_count": 5,
   "id": "1ca037b6",
   "metadata": {},
   "outputs": [
    {
     "name": "stdout",
     "output_type": "stream",
     "text": [
      "   February 2028\n",
      "Mo Tu We Th Fr Sa Su\n",
      "    1  2  3  4  5  6\n",
      " 7  8  9 10 11 12 13\n",
      "14 15 16 17 18 19 20\n",
      "21 22 23 24 25 26 27\n",
      "28 29\n",
      "\n"
     ]
    }
   ],
   "source": [
    "import calendar\n",
    "\n",
    "year = int(input('enter year:   '))\n",
    "month = int(input('enter month:  '))\n",
    "\n",
    "cal = calendar.month(year, month)\n",
    "\n",
    "print(cal)"
   ]
  },
  {
   "cell_type": "code",
   "execution_count": 12,
   "id": "0199dafe",
   "metadata": {},
   "outputs": [
    {
     "name": "stdout",
     "output_type": "stream",
     "text": [
      "Positive number\n"
     ]
    }
   ],
   "source": [
    " ##Write a Python Program to Check if a Number is Positive, Negative or Zero.\n",
    "num = int(input(\"Enter a number: \"))\n",
    "if num > 0:\n",
    "    print(\"Positive number\")\n",
    "elif num == 0:\n",
    "     print(\"Zero\")\n",
    "else:\n",
    "    print(\"Negative number\")"
   ]
  },
  {
   "cell_type": "code",
   "execution_count": 20,
   "id": "862b1c2f",
   "metadata": {},
   "outputs": [
    {
     "name": "stdout",
     "output_type": "stream",
     "text": [
      "This is a even number\n"
     ]
    }
   ],
   "source": [
    "## Write a Python Program to Check if a Number is Odd or Even.\n",
    "num = int(input(\"Enter a number: \"))\n",
    "if num%2 == 0:\n",
    "    print(\"This is a even number\")\n",
    "else:\n",
    "    print(\"This is a odd number\")"
   ]
  },
  {
   "cell_type": "code",
   "execution_count": 1,
   "id": "ace41aac",
   "metadata": {},
   "outputs": [
    {
     "name": "stdout",
     "output_type": "stream",
     "text": [
      "14 X 1 = 14\n",
      "14 X 2 = 28\n",
      "14 X 3 = 42\n",
      "14 X 4 = 56\n",
      "14 X 5 = 70\n",
      "14 X 6 = 84\n",
      "14 X 7 = 98\n",
      "14 X 8 = 112\n",
      "14 X 9 = 126\n",
      "14 X 10 = 140\n"
     ]
    }
   ],
   "source": [
    "## Write a Python Program to Display the multiplication Table\n",
    "num = int(input('display multiplication table: '))\n",
    "\n",
    "for i in range(1, 11):\n",
    " print(f\"{num} X {i} = {num*i}\")"
   ]
  },
  {
   "cell_type": "code",
   "execution_count": 45,
   "id": "6272410b",
   "metadata": {},
   "outputs": [
    {
     "name": "stdout",
     "output_type": "stream",
     "text": [
      "Select operation.\n",
      "1.Add\n",
      "2.Subtract\n",
      "3.Multiply\n",
      "4.Divide\n"
     ]
    },
    {
     "name": "stdout",
     "output_type": "stream",
     "text": [
      "20.0 * 2.0 = 40.0\n",
      "60.0 / 30.0 = 2.0\n"
     ]
    }
   ],
   "source": [
    "##Write a Python Program to Make a Simple Calculator with 4 basic mathematical operations\n",
    " # This function adds two numbers\n",
    "def add(x, y):\n",
    "    return x + y\n",
    " # This function subtracts two numbers\n",
    "def subtract(x, y):\n",
    "    return x - y\n",
    " # This function multiplies two numbers\n",
    "def multiply(x, y):\n",
    "    return x * y\n",
    " # This function divides two numbers\n",
    "def divide(x, y):\n",
    "    return x / y\n",
    "print(\"Select operation.\")\n",
    "print(\"1.Add\")\n",
    "print(\"2.Subtract\")\n",
    "print(\"3.Multiply\")\n",
    "print(\"4.Divide\")\n",
    "while True:\n",
    " # take input from the user\n",
    " choice = input(\"Enter choice(1/2/3/4): \")\n",
    " # check if choice is one of the four options\n",
    " if choice in ('1', '2', '3', '4'):\n",
    "    try:\n",
    "\n",
    "        num1 = float(input(\"Enter first number: \"))\n",
    "        num2 = float(input(\"Enter second number: \"))\n",
    "    except ValueError:\n",
    "        print(\"Invalid input. Please enter a number.\")\n",
    "        continue\n",
    "    if choice == '1':\n",
    "        print(num1, \"+\", num2, \"=\", add(num1, num2))\n",
    "    elif choice == '2':\n",
    "        print(num1, \"-\", num2, \"=\", subtract(num1, num2))\n",
    "    elif choice == '3':\n",
    "        print(num1, \"*\", num2, \"=\", multiply(num1, num2))\n",
    "    elif choice == '4':\n",
    "        print(num1, \"/\", num2, \"=\", divide(num1, num2))\n",
    "    # check if user wants another calculation\n",
    "    # break the while loop if answer is no\n",
    "    next_calculation = input(\"Let's do next calculation? (yes/no)\")\n",
    "    if next_calculation == \"no\":\n",
    "     break\n",
    " else:\n",
    "    print(\"Invalid Input\")\n"
   ]
  },
  {
   "cell_type": "code",
   "execution_count": 4,
   "id": "e4f0892e",
   "metadata": {},
   "outputs": [
    {
     "name": "stdout",
     "output_type": "stream",
     "text": [
      "2028 is a leap year\n"
     ]
    }
   ],
   "source": [
    "## Write a Python Program to Check Leap Year.\n",
    "year = int(input(\"Enter a year: \"))\n",
    "        # divided by 100 means century year (ending with 00)\n",
    "        # century year divided by 400 is leap year\n",
    "if (year % 400 == 0) and (year % 100 == 0):\n",
    "    print(\"{0} is a leap year\".format(year))\n",
    "   # not divided by 100 means not a century year\n",
    "    # year divided by 4 is a leap year\n",
    "elif (year % 4 ==0) and (year % 100 != 0):\n",
    "    print(\"{0} is a leap year\".format(year))\n",
    "            # if not divided by both 400 (century year) and 4 (not century year)\n",
    "            # year is not leap year\n",
    "else:\n",
    "    print(\"{0} is not a leap year\".format(year))"
   ]
  },
  {
   "cell_type": "code",
   "execution_count": 22,
   "id": "1ab9a3aa",
   "metadata": {},
   "outputs": [
    {
     "name": "stdout",
     "output_type": "stream",
     "text": [
      "Original values: a = 20, b = 10\n",
      "Swapped values: a = 10, b = 20\n"
     ]
    }
   ],
   "source": [
    "##Write a Python program to swap two variables\n",
    "\n",
    "# Input two variables\n",
    "a = input(\"Enter the value of the first variable (a): \")\n",
    "b = input(\"Enter the value of the second variable (b): \")\n",
    " # Display the original values\n",
    "print(f\"Original values: a = {a}, b = {b}\")\n",
    " # Swap the values using a temporary variable\n",
    "temp = a\n",
    "a = b\n",
    "b = temp\n",
    " # Display the swapped values\n",
    "print(f\"Swapped values: a = {a}, b = {b}\")"
   ]
  },
  {
   "cell_type": "code",
   "execution_count": 37,
   "id": "f7592928",
   "metadata": {},
   "outputs": [
    {
     "name": "stdout",
     "output_type": "stream",
     "text": [
      "sum: 20.0 + 30.0 = 50.0\n"
     ]
    }
   ],
   "source": [
    "# Write a Python program to do arithmetical operations addition and division\n",
    "# Addition\n",
    "num1 = float(input(\"Enter the first number for addition: \"))\n",
    "num2 = float(input(\"Enter the second number for addition: \"))\n",
    "sum_result = num1 + num2\n",
    "print(f\"sum: {num1} + {num2} = {sum_result}\")"
   ]
  },
  {
   "cell_type": "code",
   "execution_count": 28,
   "id": "09d49a80",
   "metadata": {},
   "outputs": [
    {
     "name": "stdout",
     "output_type": "stream",
     "text": [
      "Division: 4.0 / 4.0 = 1.0\n"
     ]
    }
   ],
   "source": [
    " # Division\n",
    "num3 = float(input(\"Enter the dividend for division: \"))\n",
    "num4 = float(input(\"Enter the divisor for division: \"))\n",
    "if num4 == 0:\n",
    " print(\"Error: Division by zero is not allowed.\")\n",
    "else:\n",
    " div_result = num3 / num4\n",
    " print(f\"Division: {num3} / {num4} = {div_result}\")"
   ]
  },
  {
   "cell_type": "code",
   "execution_count": 33,
   "id": "a0ce66f0",
   "metadata": {},
   "outputs": [
    {
     "name": "stdout",
     "output_type": "stream",
     "text": [
      "20.0 kilometers is equal to 12.42742 miles\n"
     ]
    }
   ],
   "source": [
    "# Write a Python program to convert kilometers to miles\n",
    "\n",
    "kilometers = float(input(\"Enter distance in kilometers: \"))\n",
    "#Conversion factor: 1 kilometer = 0.621371 miles\n",
    "conversion_factor = 0.621371\n",
    "miles = kilometers * conversion_factor\n",
    "print(f\"{kilometers} kilometers is equal to {miles} miles\")"
   ]
  },
  {
   "cell_type": "code",
   "execution_count": 13,
   "id": "7b120b81",
   "metadata": {},
   "outputs": [
    {
     "name": "stdout",
     "output_type": "stream",
     "text": [
      "student name: sanjay\n",
      "age: 24\n",
      "from: india\n",
      ".\n",
      "\n",
      "student name: kalyan\n",
      "age: 28\n",
      "from: india\n"
     ]
    }
   ],
   "source": [
    "def sayhello(name,age,country = 'india'):## formal arguments\n",
    "    print('student name:', name)\n",
    "    print('age:' ,age)\n",
    "    print('from:',country)\n",
    "\n",
    "sayhello('sanjay', 24, 'india') # actual arguments\n",
    "print('.\\n')\n",
    "sayhello('kalyan',28,'india')"
   ]
  },
  {
   "cell_type": "code",
   "execution_count": 12,
   "id": "7d1ec0ac",
   "metadata": {},
   "outputs": [
    {
     "name": "stdout",
     "output_type": "stream",
     "text": [
      "hallo sanjay\n",
      "whats your age\n",
      " my age is :  24\n",
      "i am from india\n",
      ".\n",
      "\n",
      "hallo kalyan\n",
      "whats your age\n",
      " my age is :  28\n",
      "i am from india\n"
     ]
    }
   ],
   "source": [
    "def sayhello(name,age,country = 'india'):## formal arguments\n",
    "    print('hallo', name)\n",
    "    print('whats your age')\n",
    "    print(' my age is : ',age)\n",
    "    print('i am from',country)\n",
    "\n",
    "sayhello('sanjay',24) # actual arguments\n",
    "print('.\\n')\n",
    "sayhello('kalyan',28,'india')"
   ]
  },
  {
   "cell_type": "code",
   "execution_count": 1,
   "id": "51ffa6a7",
   "metadata": {},
   "outputs": [
    {
     "name": "stdout",
     "output_type": "stream",
     "text": [
      "{'Name': 'ABC', 'Roll_No': 11, 'Age': 15, 'Place': 'Bangalore'}\n",
      "{'Name': 'ABC', 'Roll_No': 11, 'Age': 15, 'Place': 'Bangalore'}\n",
      "{'Name': 'ABSC', 'Roll_No': 11, 'Age': 21, 'Place': 'Bangalore'}\n",
      "{'Name': 'ABSC', 'Roll_No': 11, 'Age': 21, 'Place': 'Bangalore'}\n",
      "{'Name': 'ABSCnhshbbh', 'Roll_No': 11, 'Age': 28, 'Place': 'Bangalore'}\n",
      "{'Name': 'ABSCnhshbbh', 'Roll_No': 11, 'Age': 28, 'Place': 'Bangalore'}\n"
     ]
    }
   ],
   "source": [
    "student = {\"Name\":\"ABC\", \"Roll_No\": 11,\"Age\": 15, \"Place\": \"Bangalore\"}\n",
    "\n",
    "student_1 = student\n",
    "\n",
    "print(student_1)\n",
    "print(student)\n",
    "\n",
    "student_1[\"Name\"] = \"ABSC\"\n",
    "student_1[\"Age\"] = 21\n",
    "\n",
    "print(student_1)\n",
    "print(student)\n",
    "\n",
    "student_1[\"Name\"] = \"ABSCnhshbbh\"\n",
    "student[\"Age\"] = 28\n",
    "\n",
    "print(student_1)\n",
    "print(student)"
   ]
  },
  {
   "cell_type": "code",
   "execution_count": 6,
   "id": "5f02d553",
   "metadata": {},
   "outputs": [
    {
     "name": "stdout",
     "output_type": "stream",
     "text": [
      "dict_items([('Name', 'ABC'), ('Roll_No', 11), ('Age', 15), ('Place', 'Bangalore')])\n",
      "{'Name': 'ABC', 'Roll_No': 11, 'Age': 15, 'Place': 'Bangalore'}\n"
     ]
    },
    {
     "ename": "TypeError",
     "evalue": "'dict_items' object does not support item assignment",
     "output_type": "error",
     "traceback": [
      "\u001b[31m---------------------------------------------------------------------------\u001b[39m",
      "\u001b[31mTypeError\u001b[39m                                 Traceback (most recent call last)",
      "\u001b[36mCell\u001b[39m\u001b[36m \u001b[39m\u001b[32mIn[6]\u001b[39m\u001b[32m, line 6\u001b[39m\n\u001b[32m      3\u001b[39m \u001b[38;5;28mprint\u001b[39m(student_2)\n\u001b[32m      4\u001b[39m \u001b[38;5;28mprint\u001b[39m(student)\n\u001b[32m----> \u001b[39m\u001b[32m6\u001b[39m \u001b[43mstudent_2\u001b[49m\u001b[43m[\u001b[49m\u001b[33;43m'\u001b[39;49m\u001b[33;43mPlace\u001b[39;49m\u001b[33;43m'\u001b[39;49m\u001b[43m]\u001b[49m = \u001b[33m'\u001b[39m\u001b[33mhyd\u001b[39m\u001b[33m'\u001b[39m\n\u001b[32m      7\u001b[39m student_2[\u001b[33m'\u001b[39m\u001b[33mAge\u001b[39m\u001b[33m'\u001b[39m] = \u001b[32m27\u001b[39m\n\u001b[32m      9\u001b[39m \u001b[38;5;28mprint\u001b[39m(student_2)\n",
      "\u001b[31mTypeError\u001b[39m: 'dict_items' object does not support item assignment"
     ]
    }
   ],
   "source": [
    "student = {\"Name\":\"ABC\", \"Roll_No\": 11,\"Age\": 15, \"Place\": \"Bangalore\"}\n",
    "student_2 = student.items()\n",
    "print(student_2)\n",
    "print(student)\n",
    "\n",
    "student_2['Place'] = 'hyd'\n",
    "student_2['Age'] = 27\n",
    "\n",
    "print(student_2)\n",
    "print(student_1)"
   ]
  },
  {
   "cell_type": "code",
   "execution_count": 1,
   "id": "71e96201",
   "metadata": {},
   "outputs": [
    {
     "name": "stdout",
     "output_type": "stream",
     "text": [
      "\n",
      "student_3:\n",
      "name:sanjay\n",
      "age:24\n",
      "branch:mechanical\n",
      "\n",
      "student_4:\n",
      "name:kalyan\n",
      "age:28\n",
      "branch:ECE\n"
     ]
    }
   ],
   "source": [
    "student_data = {\n",
    "    'student_3':{'name':'sanjay','age':'24','branch':'mechanical'},\n",
    "    'student_4':{'name':'kalyan','age':28,'branch':'ECE'}\n",
    "}\n",
    "\n",
    "for student_key,student_info in student_data.items():\n",
    "    print(f\"\\n{student_key}:\")\n",
    "    for key, value in student_info.items():\n",
    "        print(f\"{key}:{value}\")"
   ]
  },
  {
   "cell_type": "code",
   "execution_count": null,
   "id": "16e432cb",
   "metadata": {},
   "outputs": [],
   "source": [
    "tudent_data = {\n",
    "    'student_3':{'name':'sanjay','age':'24','branch':'mechanical'},\n",
    "    'student_4':{'name':'kalyan','age':28,'branch':'ECE'}\n",
    "}\n",
    "\n",
    "for student_key,student_info in student_data.items():\n",
    "    print(f\"\\n{student_key}:\")\n",
    "    for key, value in student_info.items():\n",
    "        print(f\"{key}:{value}\")\n"
   ]
  },
  {
   "cell_type": "code",
   "execution_count": 2,
   "id": "3919d22f",
   "metadata": {},
   "outputs": [
    {
     "name": "stdout",
     "output_type": "stream",
     "text": [
      "student_3:\n",
      "  name: sanjay\n",
      "  age: 24\n",
      "  branch: mechanical\n",
      "student_4:\n",
      "  name: kalyan\n",
      "  age: 28\n",
      "  branch: ECE\n"
     ]
    }
   ],
   "source": [
    "\n",
    "for student_key, student_info in student_data.items():\n",
    "    print(f\"{student_key}:\")\n",
    "    for key, value in student_info.items():\n",
    "        print(f\"  {key}: {value}\")"
   ]
  },
  {
   "cell_type": "code",
   "execution_count": 3,
   "id": "177076cf",
   "metadata": {},
   "outputs": [
    {
     "name": "stdout",
     "output_type": "stream",
     "text": [
      "{'name': 'sanjay', 'age': 24, 'branch': 'mechanical'}\n"
     ]
    }
   ],
   "source": [
    "# Example tuple of key-value pairs\n",
    "tuple_data = (('name', 'sanjay'), ('age', 24), ('branch', 'mechanical'))\n",
    "\n",
    "# Convert tuple to dictionary\n",
    "dict_data = dict(tuple_data)\n",
    "print(dict_data)"
   ]
  },
  {
   "cell_type": "code",
   "execution_count": null,
   "id": "ed26e789",
   "metadata": {},
   "outputs": [],
   "source": []
  }
 ],
 "metadata": {
  "kernelspec": {
   "display_name": "Python 3",
   "language": "python",
   "name": "python3"
  },
  "language_info": {
   "codemirror_mode": {
    "name": "ipython",
    "version": 3
   },
   "file_extension": ".py",
   "mimetype": "text/x-python",
   "name": "python",
   "nbconvert_exporter": "python",
   "pygments_lexer": "ipython3",
   "version": "3.12.11"
  }
 },
 "nbformat": 4,
 "nbformat_minor": 5
}
