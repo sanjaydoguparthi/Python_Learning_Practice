{
 "cells": [
  {
   "cell_type": "markdown",
   "id": "c9b519e2",
   "metadata": {},
   "source": [
    "### sets"
   ]
  },
  {
   "cell_type": "code",
   "execution_count": 35,
   "id": "0011012b",
   "metadata": {},
   "outputs": [
    {
     "name": "stdout",
     "output_type": "stream",
     "text": [
      "{1, 2, 3, 4, 5, 6}\n"
     ]
    }
   ],
   "source": [
    "# create a \n",
    "my_set = {1, 2, 3, 4, 5, 6, }\n",
    "print(my_set)"
   ]
  },
  {
   "cell_type": "code",
   "execution_count": 36,
   "id": "1c989597",
   "metadata": {},
   "outputs": [
    {
     "name": "stdout",
     "output_type": "stream",
     "text": [
      "{1, 2, 3, 4, 5, 6, 7}\n"
     ]
    }
   ],
   "source": [
    "# addind a element\n",
    "my_set.add(7)\n",
    "print(my_set)"
   ]
  },
  {
   "cell_type": "code",
   "execution_count": 37,
   "id": "fddd005a",
   "metadata": {},
   "outputs": [
    {
     "name": "stdout",
     "output_type": "stream",
     "text": [
      "{1, 2, 3, 5, 6, 7}\n"
     ]
    }
   ],
   "source": [
    "#removing an elements\n",
    "my_set.remove(4)\n",
    "print(my_set)"
   ]
  },
  {
   "cell_type": "code",
   "execution_count": 38,
   "id": "7cc2166b",
   "metadata": {},
   "outputs": [
    {
     "name": "stdout",
     "output_type": "stream",
     "text": [
      "[1, 2, 3, 4, 5, 6, 7, 8, 4, 3, 2, 6]\n",
      "<class 'list'>\n",
      "{1, 2, 3, 4, 5, 6, 7, 8}\n",
      "<class 'set'>\n"
     ]
    }
   ],
   "source": [
    "my_list_1 = [1, 2, 3, 4, 5, 6, 7, 8, 4, 3, 2, 6,]\n",
    "print(my_list_1)\n",
    "print(type(my_list_1))\n",
    "my_set_1 = set(my_list_1)\n",
    "print(my_set_1)\n",
    "print(type(my_set_1))"
   ]
  },
  {
   "cell_type": "code",
   "execution_count": 39,
   "id": "acf07813",
   "metadata": {},
   "outputs": [
    {
     "name": "stdout",
     "output_type": "stream",
     "text": [
      "(1, 2, 3, 4, 5, 6, 7, 8, 4, 3, 2, 6)\n",
      "<class 'tuple'>\n",
      "{1, 2, 3, 4, 5, 6, 7, 8}\n",
      "<class 'set'>\n"
     ]
    }
   ],
   "source": [
    "my_tuple = (1, 2, 3, 4, 5, 6, 7, 8, 4, 3, 2, 6,)\n",
    "print(my_tuple)\n",
    "print(type(my_tuple))\n",
    "my_set_2 = set (my_tuple)\n",
    "print(my_set_2)\n",
    "print(type(my_set_2))"
   ]
  },
  {
   "cell_type": "code",
   "execution_count": 40,
   "id": "11e8e958",
   "metadata": {},
   "outputs": [
    {
     "data": {
      "text/plain": [
       "1"
      ]
     },
     "execution_count": 40,
     "metadata": {},
     "output_type": "execute_result"
    }
   ],
   "source": [
    "my_set.pop()"
   ]
  },
  {
   "cell_type": "code",
   "execution_count": 41,
   "id": "46ecb6b2",
   "metadata": {},
   "outputs": [
    {
     "data": {
      "text/plain": [
       "{2, 3, 5, 6, 7}"
      ]
     },
     "execution_count": 41,
     "metadata": {},
     "output_type": "execute_result"
    }
   ],
   "source": [
    "my_set"
   ]
  },
  {
   "cell_type": "code",
   "execution_count": 42,
   "id": "67a0d1e6",
   "metadata": {},
   "outputs": [],
   "source": [
    "my_set.add(8)"
   ]
  },
  {
   "cell_type": "code",
   "execution_count": 43,
   "id": "6f97c784",
   "metadata": {},
   "outputs": [],
   "source": [
    "my_set.remove(8)"
   ]
  },
  {
   "cell_type": "code",
   "execution_count": 44,
   "id": "948845c9",
   "metadata": {},
   "outputs": [],
   "source": [
    "my_set.clear()"
   ]
  },
  {
   "cell_type": "code",
   "execution_count": 45,
   "id": "fdab7c5c",
   "metadata": {},
   "outputs": [],
   "source": [
    "my_list_1.clear()"
   ]
  },
  {
   "cell_type": "code",
   "execution_count": 46,
   "id": "87eb3421",
   "metadata": {},
   "outputs": [
    {
     "name": "stdout",
     "output_type": "stream",
     "text": [
      "False\n",
      "False\n",
      "True\n",
      "True\n"
     ]
    }
   ],
   "source": [
    "# membership in sets\n",
    "my_set_1 = {1, 2, 3, 4, 5, 6, 7}\n",
    "print(10 in my_set_1)\n",
    "print(8 in my_set_1)\n",
    "print(7 in my_set_1)\n",
    "print(2 in my_set_1)"
   ]
  },
  {
   "cell_type": "code",
   "execution_count": 47,
   "id": "ebf3a932",
   "metadata": {},
   "outputs": [
    {
     "name": "stdout",
     "output_type": "stream",
     "text": [
      "Union: {1, 2, 3, 4, 5, 6, 7, 8, 9, 10, 11, 12}\n",
      "union: {1, 2, 3, 4, 5, 6, 7, 8, 9, 10, 11, 12}\n"
     ]
    }
   ],
   "source": [
    "# Union of two sets\n",
    "set_a = {1, 2, 3, 4, 5, 6, 7, 8, }\n",
    "set_b = {3, 4, 5,9, 10, 11, 12}\n",
    "union_set = set_a.union(set_b)\n",
    "print(\"Union:\", union_set)\n",
    "union_set = set_b.union(set_a)\n",
    "print(\"union:\", union_set)\n"
   ]
  },
  {
   "cell_type": "code",
   "execution_count": 48,
   "id": "39012eeb",
   "metadata": {},
   "outputs": [
    {
     "name": "stdout",
     "output_type": "stream",
     "text": [
      "{1, 2, 3, 4, 5, 6, 7, 8}\n",
      "{3, 4, 5, 9, 10, 11, 12}\n",
      "Intersection: {3, 4, 5}\n",
      "{3, 4, 5}\n",
      "{3, 4, 5, 9, 10, 11, 12}\n",
      "{3, 4, 5}\n"
     ]
    }
   ],
   "source": [
    "# Intersection of two sets\n",
    "set_a = {1, 2, 3, 4, 5, 6, 7, 8, }\n",
    "set_b = {3, 4, 5,9, 10, 11, 12}\n",
    "print(set_a)\n",
    "print(set_b)\n",
    "intersection_set = set_a.intersection(set_b)\n",
    "print(\"Intersection:\", intersection_set)\n",
    "\n",
    "set_a.intersection_update(set_b) # common elements update to set_a\n",
    "print(set_a)\n",
    "print(set_b)\n",
    "set_b.intersection_update(set_a) # common elements update to set_2\n",
    "print(set_b)\n"
   ]
  },
  {
   "cell_type": "code",
   "execution_count": 49,
   "id": "7d497f66",
   "metadata": {},
   "outputs": [
    {
     "name": "stdout",
     "output_type": "stream",
     "text": [
      "{8, 9}\n",
      "{5, 6, 7, 8, 9}\n",
      "{1, 2, 3, 4}\n",
      "{1, 2, 3, 4, 5, 6, 7}\n",
      "{1, 2, 3, 4, 5, 7}\n",
      "{1, 2, 3, 4, 5, 6, 7}\n",
      "{8, 9, 10, 44, 22}\n",
      "{6, 22, 8, 9, 10, 44}\n",
      "set()\n",
      "{1, 2, 3, 4, 5, 6, 7}\n",
      "{1, 2, 3, 4, 8, 9}\n",
      "{1, 2, 3, 4, 5, 6, 7}\n"
     ]
    }
   ],
   "source": [
    "# Difference of two sets\n",
    "set_1 = {1,2,3,4,5,6,7}\n",
    "set_2 = {5,6,7,8,9}\n",
    "set_3 = {10,22,44,6,8,9}\n",
    "\n",
    "print(set_2.difference(set_1)) # difference in set_2 will print when compared to set_1 is having common elements\n",
    "print(set_2)\n",
    "print(set_1.difference(set_2))\n",
    "print(set_1)\n",
    "print(set_1.difference(set_3))\n",
    "print(set_1)\n",
    "print(set_3.difference(set_1))\n",
    "print(set_3)\n",
    "print(set_1.difference(set_1))\n",
    "print(set_1)\n",
    "print(set_1.symmetric_difference(set_2)) # remove the common elements and print the unique elements.\n",
    "print(set_1)"
   ]
  },
  {
   "cell_type": "code",
   "execution_count": 50,
   "id": "10ac7e13",
   "metadata": {},
   "outputs": [
    {
     "name": "stdout",
     "output_type": "stream",
     "text": [
      "True\n",
      "False\n",
      "True\n",
      "False\n"
     ]
    }
   ],
   "source": [
    "set_1 = {1,2,3,4,5,6,8,7}\n",
    "set_2 = {5,6,7,8}\n",
    "set_3 = {10,22,44,6,8,9}\n",
    "\n",
    "print(set_2.issubset(set_1))\n",
    "print(set_1.issubset(set_2))\n",
    "print(set_1.issuperset(set_2))\n",
    "print(set_2.issuperset(set_1))"
   ]
  },
  {
   "cell_type": "code",
   "execution_count": 6,
   "id": "40784098",
   "metadata": {},
   "outputs": [
    {
     "name": "stdout",
     "output_type": "stream",
     "text": [
      "<class 'dict'>\n"
     ]
    }
   ],
   "source": [
    "set_1 = {}\n",
    "print(type(set_1))"
   ]
  },
  {
   "cell_type": "code",
   "execution_count": null,
   "id": "5cbf94bb",
   "metadata": {},
   "outputs": [],
   "source": []
  }
 ],
 "metadata": {
  "kernelspec": {
   "display_name": "Python 3",
   "language": "python",
   "name": "python3"
  },
  "language_info": {
   "codemirror_mode": {
    "name": "ipython",
    "version": 3
   },
   "file_extension": ".py",
   "mimetype": "text/x-python",
   "name": "python",
   "nbconvert_exporter": "python",
   "pygments_lexer": "ipython3",
   "version": "3.12.0"
  }
 },
 "nbformat": 4,
 "nbformat_minor": 5
}
