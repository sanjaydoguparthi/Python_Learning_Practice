{
 "cells": [
  {
   "cell_type": "code",
   "execution_count": 1,
   "id": "2cb70f1e",
   "metadata": {},
   "outputs": [
    {
     "name": "stdout",
     "output_type": "stream",
     "text": [
      "()\n",
      "<class 'tuple'>\n"
     ]
    }
   ],
   "source": [
    "## create empty tuple by using open and closed paranthesis\n",
    "\n",
    "tuple_example = ()\n",
    "print(tuple_example)\n",
    "print(type(tuple_example))"
   ]
  },
  {
   "cell_type": "code",
   "execution_count": 2,
   "id": "29ff29bb",
   "metadata": {},
   "outputs": [
    {
     "name": "stdout",
     "output_type": "stream",
     "text": [
      "<class 'tuple'>\n",
      "<class 'list'>\n"
     ]
    }
   ],
   "source": [
    "tup = tuple() # Tuple can be created by using built in keyword in python.\n",
    "print(type(tup))\n",
    "lst = list()  # List can be created by using built in keyword in python.\n",
    "print(type(lst))"
   ]
  },
  {
   "cell_type": "code",
   "execution_count": 4,
   "id": "35201133",
   "metadata": {},
   "outputs": [
    {
     "name": "stdout",
     "output_type": "stream",
     "text": [
      "('sanjay', 'kalyan', 25, 4.1, False)\n",
      "<class 'tuple'>\n"
     ]
    }
   ],
   "source": [
    "tup = tuple (['sanjay','kalyan',25,4.10,False]) # List converted into tuple by using built in python keyword.\n",
    "print(tup)\n",
    "print(type(tup))"
   ]
  },
  {
   "cell_type": "code",
   "execution_count": 6,
   "id": "c07c8014",
   "metadata": {},
   "outputs": [
    {
     "name": "stdout",
     "output_type": "stream",
     "text": [
      "('sanjay', 'vinay', 'harish', 28, 3.12, True)\n",
      "['sanjay', 'vinay', 'harish', 28, 3.12, True]\n",
      "<class 'list'>\n"
     ]
    }
   ],
   "source": [
    "tup_1 = ('sanjay','vinay','harish',28,3.12,True)\n",
    "print(tup_1)\n",
    "list_1 = list(tup_1) # tuple is converted into list by using buit in python keyword\n",
    "print(list_1)\n",
    "print(type(list_1))"
   ]
  },
  {
   "cell_type": "code",
   "execution_count": 7,
   "id": "d7792862",
   "metadata": {},
   "outputs": [
    {
     "name": "stdout",
     "output_type": "stream",
     "text": [
      "[('apple', 'banana', 'mango', 30, 10.1, False)]\n",
      "<class 'list'>\n"
     ]
    }
   ],
   "source": [
    "tup_2 = ('apple','banana','mango',30, 10.1, False)\n",
    "list_2 = [tup_2] # tuple converted into list by using open and closed paranthesis\n",
    "print(list_2)\n",
    "print(type(list_2))"
   ]
  },
  {
   "cell_type": "code",
   "execution_count": 8,
   "id": "0954e767",
   "metadata": {},
   "outputs": [
    {
     "name": "stdout",
     "output_type": "stream",
     "text": [
      "['sanjay', 'kalyan', 10, 2.1, True]\n",
      "('sanjay', 'kalyan', 10, 2.1, True)\n",
      "<class 'tuple'>\n"
     ]
    }
   ],
   "source": [
    "list_3 = ['sanjay','kalyan', 10, 2.1, True]\n",
    "print(list_3)\n",
    "tup_3 = tuple(list_3)\n",
    "print(tup_3)\n",
    "print(type(tup_3))"
   ]
  },
  {
   "cell_type": "code",
   "execution_count": 4,
   "id": "3f0a78a0",
   "metadata": {},
   "outputs": [
    {
     "name": "stdout",
     "output_type": "stream",
     "text": [
      "(1, 2, 3, 4, 5, 6)\n"
     ]
    }
   ],
   "source": [
    "# Accessing of tuple by using indexing\n",
    "\n",
    "num = (1,2,3,4,5,6)\n",
    "print(num)"
   ]
  },
  {
   "cell_type": "code",
   "execution_count": 10,
   "id": "6fe253ed",
   "metadata": {},
   "outputs": [
    {
     "name": "stdout",
     "output_type": "stream",
     "text": [
      "1\n",
      "2\n",
      "3\n",
      "4\n",
      "5\n",
      "6\n"
     ]
    }
   ],
   "source": [
    "for i in range(len(num)):\n",
    "    print(num[i])"
   ]
  },
  {
   "cell_type": "code",
   "execution_count": 11,
   "id": "f59ddb44",
   "metadata": {},
   "outputs": [
    {
     "data": {
      "text/plain": [
       "(1, 2)"
      ]
     },
     "execution_count": 11,
     "metadata": {},
     "output_type": "execute_result"
    }
   ],
   "source": [
    "num[:2]"
   ]
  },
  {
   "cell_type": "code",
   "execution_count": 12,
   "id": "64168927",
   "metadata": {},
   "outputs": [
    {
     "data": {
      "text/plain": [
       "(1, 4)"
      ]
     },
     "execution_count": 12,
     "metadata": {},
     "output_type": "execute_result"
    }
   ],
   "source": [
    "num[::3]"
   ]
  },
  {
   "cell_type": "code",
   "execution_count": 14,
   "id": "79980583",
   "metadata": {},
   "outputs": [
    {
     "data": {
      "text/plain": [
       "(2, 3)"
      ]
     },
     "execution_count": 14,
     "metadata": {},
     "output_type": "execute_result"
    }
   ],
   "source": [
    "num[1:3]"
   ]
  },
  {
   "cell_type": "code",
   "execution_count": 15,
   "id": "bd996e80",
   "metadata": {},
   "outputs": [
    {
     "data": {
      "text/plain": [
       "(6, 5, 4, 3, 2, 1)"
      ]
     },
     "execution_count": 15,
     "metadata": {},
     "output_type": "execute_result"
    }
   ],
   "source": [
    "num[:: -1]"
   ]
  },
  {
   "cell_type": "code",
   "execution_count": 4,
   "id": "31274179",
   "metadata": {},
   "outputs": [
    {
     "data": {
      "text/plain": [
       "(1, 2, 3, 4, 5, 6)"
      ]
     },
     "execution_count": 4,
     "metadata": {},
     "output_type": "execute_result"
    }
   ],
   "source": [
    "num"
   ]
  },
  {
   "cell_type": "code",
   "execution_count": 2,
   "id": "93182f83",
   "metadata": {},
   "outputs": [
    {
     "name": "stdout",
     "output_type": "stream",
     "text": [
      "('sanjay', 'ashok', 'vinay', 24, 1.55, True)\n"
     ]
    }
   ],
   "source": [
    "num_1 = ('sanjay','ashok','vinay', 24, 1.55, True)\n",
    "print(num_1)"
   ]
  },
  {
   "cell_type": "code",
   "execution_count": 5,
   "id": "5e371478",
   "metadata": {},
   "outputs": [
    {
     "name": "stdout",
     "output_type": "stream",
     "text": [
      "(1, 2, 3, 4, 5, 6)\n",
      "('sanjay', 'ashok', 'vinay', 24, 1.55, True)\n",
      "(1, 2, 3, 4, 5, 6, 'sanjay', 'ashok', 'vinay', 24, 1.55, True)\n",
      "('sanjay', 'ashok', 'vinay', 24, 1.55, True, 1, 2, 3, 4, 5, 6)\n"
     ]
    }
   ],
   "source": [
    "print(num)\n",
    "print(num_1)\n",
    "concat_tuple = num + num_1  #concatinate 2 tuples\n",
    "print(concat_tuple)\n",
    "\n",
    "add_tuple = num_1 +num\n",
    "print(add_tuple)"
   ]
  },
  {
   "cell_type": "code",
   "execution_count": 6,
   "id": "98b2b3a1",
   "metadata": {},
   "outputs": [
    {
     "name": "stdout",
     "output_type": "stream",
     "text": [
      "(1, 2, 3, 4, 5, 6, 1, 2, 3, 4, 5, 6, 1, 2, 3, 4, 5, 6)\n",
      "('sanjay', 'ashok', 'vinay', 24, 1.55, True, 'sanjay', 'ashok', 'vinay', 24, 1.55, True)\n"
     ]
    }
   ],
   "source": [
    "print(num *3)\n",
    "print(num_1 * 2)"
   ]
  },
  {
   "cell_type": "code",
   "execution_count": 8,
   "id": "13f0b589",
   "metadata": {},
   "outputs": [
    {
     "name": "stdout",
     "output_type": "stream",
     "text": [
      "(1, 2, 3, 4, 5, 6)\n"
     ]
    }
   ],
   "source": [
    "# tuples immutability nature\n",
    "print(num)\n",
    "#num[0] = \"add\" # trying to modify the exising tuple."
   ]
  },
  {
   "cell_type": "code",
   "execution_count": 1,
   "id": "d8e98c3b",
   "metadata": {},
   "outputs": [
    {
     "name": "stdout",
     "output_type": "stream",
     "text": [
      "(9, 8, 7, 4, 5, 6)\n",
      "[9, 8, 7, 4, 5, 6]\n",
      "[9, 8, 7, 4, 5, 6, 'hello sanjay']\n",
      "(9, 8, 7, 4, 5, 6, 'hello sanjay')\n"
     ]
    }
   ],
   "source": [
    "# tuple converted to list and add or modify the converted list from tuple\n",
    "num = (9, 8, 7, 4, 5, 6 ,)\n",
    "print(num)\n",
    "lst_con = list(num)\n",
    "print(lst_con)\n",
    "lst_con.append(\"hello sanjay\")\n",
    "print(lst_con)\n",
    "num_1 = tuple(lst_con)\n",
    "print(num_1)\n",
    "#print(num)\n",
    "\n"
   ]
  },
  {
   "cell_type": "code",
   "execution_count": 8,
   "id": "d81ef6d9",
   "metadata": {},
   "outputs": [
    {
     "name": "stdout",
     "output_type": "stream",
     "text": [
      "('sanjay', 'ashok', 'vinay', 24, 1.55, True)\n",
      "(1, 2, 3, 4, 5, 6)\n",
      "1\n",
      "4\n"
     ]
    }
   ],
   "source": [
    "#tuple methods\n",
    "print(num_1)\n",
    "print(num)\n",
    "print(num_1.count('vinay'))\n",
    "print(num.index(5))"
   ]
  },
  {
   "cell_type": "code",
   "execution_count": null,
   "id": "46969a5b",
   "metadata": {},
   "outputs": [
    {
     "name": "stdout",
     "output_type": "stream",
     "text": [
      "(1, 'sanjay', 45.6, 987)\n"
     ]
    }
   ],
   "source": [
    "#packing a tuple\n",
    "\n",
    "pack_tuple = 1,\"sanjay\", 45.6, 987\n",
    "print(pack_tuple)"
   ]
  },
  {
   "cell_type": "code",
   "execution_count": 16,
   "id": "4c07e59f",
   "metadata": {},
   "outputs": [
    {
     "name": "stdout",
     "output_type": "stream",
     "text": [
      "1\n",
      "sanjay\n",
      "45.6\n",
      "987\n"
     ]
    }
   ],
   "source": [
    "# unpacking a tuple\n",
    "a,b,c,d = pack_tuple\n",
    "print(a)\n",
    "print(b)\n",
    "print(c)\n",
    "print(d)"
   ]
  },
  {
   "cell_type": "code",
   "execution_count": 28,
   "id": "abf60d7c",
   "metadata": {},
   "outputs": [
    {
     "name": "stdout",
     "output_type": "stream",
     "text": [
      "(1, 'sanjay', 45.6, 987)\n",
      "[1, 'sanjay', 45.6]\n",
      "987\n"
     ]
    }
   ],
   "source": [
    "print(pack_tuple)\n",
    "*midle,last = pack_tuple\n",
    "#print(first)\n",
    "print(midle)\n",
    "print(last)\n"
   ]
  },
  {
   "cell_type": "code",
   "execution_count": 32,
   "id": "1b2520a1",
   "metadata": {},
   "outputs": [
    {
     "name": "stdout",
     "output_type": "stream",
     "text": [
      "(1, 'sanjay', 45.6, 987)\n",
      "1\n",
      "sanjay\n",
      "45.6\n",
      "987\n"
     ]
    }
   ],
   "source": [
    "print(pack_tuple)\n",
    "first, second, third , last = pack_tuple\n",
    "print(first)\n",
    "print(second)\n",
    "print(third)\n",
    "print(last)"
   ]
  },
  {
   "cell_type": "code",
   "execution_count": 33,
   "id": "2bb953db",
   "metadata": {},
   "outputs": [
    {
     "name": "stdout",
     "output_type": "stream",
     "text": [
      "First: 1\n",
      "Second: sanjay\n",
      "Third: 45.6\n",
      "Last: 987\n"
     ]
    }
   ],
   "source": [
    "def unpack_tuple(tup):\n",
    "    first, second, third, last = tup\n",
    "    print(\"First:\", first)\n",
    "    print(\"Second:\", second)\n",
    "    print(\"Third:\", third)\n",
    "    print(\"Last:\", last)\n",
    "\n",
    "# Example usage:\n",
    "pack_tuple = (1, \"sanjay\", 45.6, 987)\n",
    "unpack_tuple(pack_tuple)"
   ]
  },
  {
   "cell_type": "code",
   "execution_count": 29,
   "id": "c51f67db",
   "metadata": {},
   "outputs": [
    {
     "name": "stdout",
     "output_type": "stream",
     "text": [
      "(9, 8, 7)\n",
      "(4, 5, 6)\n",
      "('hello', 12, 15.8, True)\n",
      "Elements accessing from the sub tuple\n",
      "8\n",
      "6\n",
      "hello\n"
     ]
    }
   ],
   "source": [
    "# Nested tuple\n",
    "\n",
    "nest_tuple = ((9,8,7),(4,5,6),(\"hello\", 12, 15.8, True))\n",
    "print(nest_tuple[0])\n",
    "print(nest_tuple[1])\n",
    "print(nest_tuple[2])\n",
    "\n",
    "print(\"Elements accessing from the sub tuple\")\n",
    "print(nest_tuple[0][1])\n",
    "print(nest_tuple[1][2])\n",
    "print(nest_tuple[2][0])\n"
   ]
  },
  {
   "cell_type": "code",
   "execution_count": 30,
   "id": "367f22fc",
   "metadata": {},
   "outputs": [
    {
     "name": "stdout",
     "output_type": "stream",
     "text": [
      "[9, 8, 7]\n",
      "[4, 5, 6]\n",
      "['hello', 12, 15.8, True]\n",
      "Elements accessing from the sub tuple\n",
      "8\n",
      "6\n",
      "hello\n"
     ]
    }
   ],
   "source": [
    "# nested list\n",
    "nest_tuple = [[9,8,7],[4,5,6],[\"hello\", 12, 15.8, True]]\n",
    "print(nest_tuple[0])\n",
    "print(nest_tuple[1])\n",
    "print(nest_tuple[2])\n",
    "\n",
    "print(\"Elements accessing from the sub tuple\")\n",
    "print(nest_tuple[0][1])\n",
    "print(nest_tuple[1][2])\n",
    "print(nest_tuple[2][0])\n"
   ]
  },
  {
   "cell_type": "code",
   "execution_count": null,
   "id": "1eb21b82",
   "metadata": {},
   "outputs": [],
   "source": []
  }
 ],
 "metadata": {
  "kernelspec": {
   "display_name": "Python 3",
   "language": "python",
   "name": "python3"
  },
  "language_info": {
   "codemirror_mode": {
    "name": "ipython",
    "version": 3
   },
   "file_extension": ".py",
   "mimetype": "text/x-python",
   "name": "python",
   "nbconvert_exporter": "python",
   "pygments_lexer": "ipython3",
   "version": "3.12.0"
  }
 },
 "nbformat": 4,
 "nbformat_minor": 5
}
