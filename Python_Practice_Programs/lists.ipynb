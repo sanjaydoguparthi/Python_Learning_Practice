{
 "cells": [
  {
   "cell_type": "markdown",
   "id": "2eeb0a30",
   "metadata": {},
   "source": [
    "### LIST'S"
   ]
  },
  {
   "cell_type": "code",
   "execution_count": 4,
   "id": "e8731d5b",
   "metadata": {},
   "outputs": [],
   "source": [
    "lst = ['sanjay','kalyan',4 , 4.10 , True]"
   ]
  },
  {
   "cell_type": "code",
   "execution_count": 1,
   "id": "9cacaccb",
   "metadata": {},
   "outputs": [
    {
     "data": {
      "text/plain": [
       "list"
      ]
     },
     "execution_count": 1,
     "metadata": {},
     "output_type": "execute_result"
    }
   ],
   "source": [
    "lst = []\n",
    "type(lst)"
   ]
  },
  {
   "cell_type": "code",
   "execution_count": 3,
   "id": "344c671e",
   "metadata": {},
   "outputs": [
    {
     "name": "stdout",
     "output_type": "stream",
     "text": [
      "<class 'list'>\n"
     ]
    }
   ],
   "source": [
    "print(type(lst))"
   ]
  },
  {
   "cell_type": "code",
   "execution_count": 9,
   "id": "cc221532",
   "metadata": {},
   "outputs": [
    {
     "data": {
      "text/plain": [
       "['sanjay', 'kalyan', 4, 4.1, True]"
      ]
     },
     "execution_count": 9,
     "metadata": {},
     "output_type": "execute_result"
    }
   ],
   "source": [
    "lst"
   ]
  },
  {
   "cell_type": "code",
   "execution_count": 10,
   "id": "db6ed0e4",
   "metadata": {},
   "outputs": [
    {
     "data": {
      "text/plain": [
       "['sanjay', 'kalyan', 4, 4.1, True]"
      ]
     },
     "execution_count": 10,
     "metadata": {},
     "output_type": "execute_result"
    }
   ],
   "source": [
    "lst"
   ]
  },
  {
   "cell_type": "code",
   "execution_count": 11,
   "id": "3896db47",
   "metadata": {},
   "outputs": [
    {
     "data": {
      "text/plain": [
       "['sanjay', 'kalyan', 4, 4.1, True]"
      ]
     },
     "execution_count": 11,
     "metadata": {},
     "output_type": "execute_result"
    }
   ],
   "source": [
    "lst"
   ]
  },
  {
   "cell_type": "code",
   "execution_count": 12,
   "id": "405572c6",
   "metadata": {},
   "outputs": [],
   "source": [
    "lst.append('vinay')"
   ]
  },
  {
   "cell_type": "code",
   "execution_count": 16,
   "id": "a2940ee5",
   "metadata": {},
   "outputs": [
    {
     "data": {
      "text/plain": [
       "True"
      ]
     },
     "execution_count": 16,
     "metadata": {},
     "output_type": "execute_result"
    }
   ],
   "source": [
    "lst[4]"
   ]
  },
  {
   "cell_type": "code",
   "execution_count": 17,
   "id": "74503799",
   "metadata": {},
   "outputs": [],
   "source": [
    "lst.insert(4, False)"
   ]
  },
  {
   "cell_type": "code",
   "execution_count": 23,
   "id": "85c02452",
   "metadata": {},
   "outputs": [
    {
     "data": {
      "text/plain": [
       "bool"
      ]
     },
     "execution_count": 23,
     "metadata": {},
     "output_type": "execute_result"
    }
   ],
   "source": [
    "type(False)"
   ]
  },
  {
   "cell_type": "code",
   "execution_count": 26,
   "id": "0c7aace1",
   "metadata": {},
   "outputs": [
    {
     "data": {
      "text/plain": [
       "['sanjay', 'kalyan', 4, 4.1, True]"
      ]
     },
     "execution_count": 26,
     "metadata": {},
     "output_type": "execute_result"
    }
   ],
   "source": [
    "lst"
   ]
  },
  {
   "cell_type": "code",
   "execution_count": 37,
   "id": "3d1ed2c2",
   "metadata": {},
   "outputs": [],
   "source": [
    "lst.append('vinay')"
   ]
  },
  {
   "cell_type": "code",
   "execution_count": 38,
   "id": "8f49e8a7",
   "metadata": {},
   "outputs": [
    {
     "data": {
      "text/plain": [
       "['sanjay', 'kalyan', 4, 4.1, True, 'vinay']"
      ]
     },
     "execution_count": 38,
     "metadata": {},
     "output_type": "execute_result"
    }
   ],
   "source": [
    "lst"
   ]
  },
  {
   "cell_type": "code",
   "execution_count": 41,
   "id": "4195068b",
   "metadata": {},
   "outputs": [],
   "source": [
    "lst.insert(4,'sanju')"
   ]
  },
  {
   "cell_type": "code",
   "execution_count": 5,
   "id": "236901db",
   "metadata": {},
   "outputs": [
    {
     "data": {
      "text/plain": [
       "['sanjay', 'kalyan', 4, 4.1, True]"
      ]
     },
     "execution_count": 5,
     "metadata": {},
     "output_type": "execute_result"
    }
   ],
   "source": [
    "lst"
   ]
  },
  {
   "cell_type": "code",
   "execution_count": 45,
   "id": "981eba53",
   "metadata": {},
   "outputs": [
    {
     "name": "stdout",
     "output_type": "stream",
     "text": [
      "index: 0 sanjay\n",
      "index: 1 kalyan\n",
      "index: 2 4\n",
      "index: 3 4.1\n",
      "index: 4 sanju\n",
      "index: 5 sanju\n",
      "index: 6 True\n",
      "index: 7 vinay\n",
      "index: 8 ashok\n"
     ]
    }
   ],
   "source": [
    "print(\"index: 0\",lst[0])\n",
    "print(\"index: 1\",lst[1])\n",
    "print(\"index: 2\",lst[2])\n",
    "print(\"index: 3\",lst[3])\n",
    "print(\"index: 4\",lst[4])\n",
    "print(\"index: 5\",lst[5])\n",
    "print(\"index: 6\",lst[6])\n",
    "print(\"index: 7\",lst[7])\n",
    "print(\"index: 8\",lst[8])"
   ]
  },
  {
   "cell_type": "code",
   "execution_count": 6,
   "id": "f1c75cd9",
   "metadata": {},
   "outputs": [],
   "source": [
    "lst.clear()"
   ]
  },
  {
   "cell_type": "code",
   "execution_count": 7,
   "id": "7603fb54",
   "metadata": {},
   "outputs": [],
   "source": [
    "lst = [1, 2, 3, 4, 5, 6, 7, 8, 9, 10]"
   ]
  },
  {
   "cell_type": "code",
   "execution_count": 9,
   "id": "cada4291",
   "metadata": {},
   "outputs": [
    {
     "name": "stdout",
     "output_type": "stream",
     "text": [
      "[1, 2, 3, 4, 5, 6, 7, 8, 9, 10]\n",
      "[1, 2, 3, 4]\n",
      "[3, 4, 5, 6, 7, 8, 9, 10]\n",
      "[1, 2]\n",
      "[5, 6, 7, 8, 9, 10]\n",
      "[]\n",
      "[1, 2, 3, 4, 5]\n",
      "[1, 2, 3, 4, 5, 6]\n",
      "[10]\n",
      "[8, 9]\n",
      "[6, 7, 8, 9, 10]\n",
      "[9]\n"
     ]
    }
   ],
   "source": [
    "# Slicing of the list\n",
    "print(lst)\n",
    "\n",
    "#Positive Indexing\n",
    "print(lst[0:4]) # List sliced from 0 to 3 indexing\n",
    "print(lst[2:]) # List sliced from index 2 to end of list\n",
    "print(lst[ :2]) # List sliced from index 0 to 1. By default index is considered as 0\n",
    "print(lst[4:])\n",
    "print(lst[:0])\n",
    "print(lst[0:5])\n",
    "print(lst[0:6])\n",
    "\n",
    "#negative Indexing\n",
    "print(lst[-1:])\n",
    "print(lst[-3:-1])\n",
    "print(lst[-5:])\n",
    "print(lst[-2:-1])"
   ]
  },
  {
   "cell_type": "code",
   "execution_count": 10,
   "id": "b16bbc1d",
   "metadata": {},
   "outputs": [
    {
     "data": {
      "text/plain": [
       "[1, 2, 3, 4, 5, 6, 7, 8, 9, 10]"
      ]
     },
     "execution_count": 10,
     "metadata": {},
     "output_type": "execute_result"
    }
   ],
   "source": [
    "lst"
   ]
  },
  {
   "cell_type": "code",
   "execution_count": 12,
   "id": "7d2b073a",
   "metadata": {},
   "outputs": [
    {
     "name": "stdout",
     "output_type": "stream",
     "text": [
      "2\n"
     ]
    }
   ],
   "source": [
    "lst.insert(4, 'sanjay')\n",
    "print(lst.count(4))"
   ]
  },
  {
   "cell_type": "code",
   "execution_count": 13,
   "id": "de8986ed",
   "metadata": {},
   "outputs": [
    {
     "data": {
      "text/plain": [
       "[1, 2, 3, 4, 'sanjay', 4, 5, 6, 7, 8, 9, 10]"
      ]
     },
     "execution_count": 13,
     "metadata": {},
     "output_type": "execute_result"
    }
   ],
   "source": [
    "lst"
   ]
  },
  {
   "cell_type": "code",
   "execution_count": 19,
   "id": "e06dbbd6",
   "metadata": {},
   "outputs": [],
   "source": [
    "## slicing list\n",
    "lst.clear()\n"
   ]
  },
  {
   "cell_type": "code",
   "execution_count": 20,
   "id": "c278f0de",
   "metadata": {},
   "outputs": [
    {
     "name": "stdout",
     "output_type": "stream",
     "text": [
      "[1, 4, 7, 10]\n",
      "[1, 5, 9]\n",
      "[1, 6]\n",
      "[1, 7]\n",
      "[1, 3, 5, 7, 9]\n"
     ]
    }
   ],
   "source": [
    "## slicing list\n",
    "int = [1, 2, 3, 4, 5, 6, 7, 8, 9, 10]\n",
    "\n",
    "print(int[::3])\n",
    "print(int[::4])\n",
    "print(int[::5])\n",
    "print(int[::6])\n",
    "print(int[::2])\n"
   ]
  },
  {
   "cell_type": "code",
   "execution_count": 21,
   "id": "750e22a0",
   "metadata": {},
   "outputs": [
    {
     "name": "stdout",
     "output_type": "stream",
     "text": [
      "1\n",
      "2\n",
      "3\n",
      "4\n",
      "5\n",
      "6\n",
      "7\n",
      "8\n",
      "9\n",
      "10\n"
     ]
    }
   ],
   "source": [
    "## iterating our list\n",
    "for i in   int:\n",
    "    print(i)"
   ]
  },
  {
   "cell_type": "code",
   "execution_count": 23,
   "id": "b8491c99",
   "metadata": {},
   "outputs": [
    {
     "name": "stdout",
     "output_type": "stream",
     "text": [
      "0 1\n",
      "1 2\n",
      "2 3\n",
      "3 4\n",
      "4 5\n",
      "print the remaining numbers\n",
      "print the remaining numbers\n",
      "print the remaining numbers\n",
      "print the remaining numbers\n",
      "print the remaining numbers\n"
     ]
    }
   ],
   "source": [
    "for index,i in enumerate(int):\n",
    "    if i < 6:\n",
    "      print(index,i)\n",
    "    else:\n",
    "       print('print the remaining numbers')"
   ]
  },
  {
   "cell_type": "code",
   "execution_count": 24,
   "id": "c9ef7a9f",
   "metadata": {},
   "outputs": [
    {
     "name": "stdout",
     "output_type": "stream",
     "text": [
      "0 1\n",
      "1 2\n",
      "2 3\n",
      "3 4\n",
      "4 5\n",
      "5 6\n",
      "Excess access from index\n",
      "Excess access from index\n",
      "Excess access from index\n",
      "Excess access from index\n"
     ]
    }
   ],
   "source": [
    "for i in range(len(int)):\n",
    "    if(i < 6):\n",
    "        print(i,int[i])\n",
    "    else:\n",
    "        print(\"Excess access from index\")"
   ]
  },
  {
   "cell_type": "code",
   "execution_count": 1,
   "id": "637b873c",
   "metadata": {},
   "outputs": [
    {
     "name": "stdout",
     "output_type": "stream",
     "text": [
      "char sanjay\n",
      "['sanjay', 'praveen', 'vinod']\n",
      "['sanjay', 'vamsi']\n",
      "['sanjay', 'avinash']\n",
      "['sanjay', 'sunil', 'praveen', 'avinash', 'vinod']\n"
     ]
    }
   ],
   "source": [
    "lst = ['sanjay','kalyan','sunil','anil','praveen','vamsi','avinash','mahesh','vinod']\n",
    "\n",
    "print('char',lst[0])\n",
    "print(lst[::4])\n",
    "print(lst[::5])\n",
    "print(lst[::6])\n",
    "print(lst[::2])"
   ]
  },
  {
   "cell_type": "code",
   "execution_count": 2,
   "id": "1ace07fd",
   "metadata": {},
   "outputs": [
    {
     "name": "stdout",
     "output_type": "stream",
     "text": [
      "h\n",
      "e\n",
      "l\n",
      "l\n",
      "o\n"
     ]
    }
   ],
   "source": [
    "my_list = [\"hello\", \"world\", \"python\"]\n",
    "for char in my_list[0]:\n",
    "    print(char)"
   ]
  },
  {
   "cell_type": "code",
   "execution_count": 3,
   "id": "8f20dd49",
   "metadata": {},
   "outputs": [
    {
     "name": "stdout",
     "output_type": "stream",
     "text": [
      "[0, 1, 4, 9, 16, 25, 36, 49, 64, 81]\n"
     ]
    }
   ],
   "source": [
    "list = []\n",
    "for x in range(10):\n",
    "    list.append(x**2)\n",
    "print(list)"
   ]
  },
  {
   "cell_type": "code",
   "execution_count": 4,
   "id": "fa3dc7cf",
   "metadata": {},
   "outputs": [
    {
     "data": {
      "text/plain": [
       "[0, 1, 4, 9, 16, 25, 36, 49, 64, 81]"
      ]
     },
     "execution_count": 4,
     "metadata": {},
     "output_type": "execute_result"
    }
   ],
   "source": [
    "[x**2 for x in range(10)]"
   ]
  },
  {
   "cell_type": "code",
   "execution_count": 5,
   "id": "d5e5a8cc",
   "metadata": {},
   "outputs": [
    {
     "name": "stdout",
     "output_type": "stream",
     "text": [
      "[0, 1, 4, 9, 16, 25, 36, 49, 64, 81]\n"
     ]
    }
   ],
   "source": [
    "square = [list**2 for list in range(10)]\n",
    "\n",
    "print(square)"
   ]
  },
  {
   "cell_type": "code",
   "execution_count": 6,
   "id": "f97c3d58",
   "metadata": {},
   "outputs": [
    {
     "name": "stdout",
     "output_type": "stream",
     "text": [
      "[[1, 'sanjay'], [1, 'kalyan'], [2, 'sanjay'], [2, 'kalyan'], [3, 'sanjay'], [3, 'kalyan']]\n"
     ]
    }
   ],
   "source": [
    "## nested list comprehension\n",
    "\n",
    "list_1 = [1,2,3]\n",
    "list_2 = ['sanjay','kalyan']\n",
    "pair_list = [[i,j]for i in list_1 for j in list_2]\n",
    "\n",
    "print(pair_list)"
   ]
  },
  {
   "cell_type": "code",
   "execution_count": 7,
   "id": "c68baf98",
   "metadata": {},
   "outputs": [
    {
     "name": "stdout",
     "output_type": "stream",
     "text": [
      "[6, 6, 8, 6, 6, 6, 5, 4]\n"
     ]
    }
   ],
   "source": [
    "## list of comprehension with funcction calls\n",
    "\n",
    "words = ['sanjay','kalyan','indexing','append','insert','remove','clear','list']\n",
    "lengths = [len(word) for word in words]\n",
    "print(lengths)\n"
   ]
  },
  {
   "cell_type": "code",
   "execution_count": 9,
   "id": "84e420f3",
   "metadata": {},
   "outputs": [
    {
     "name": "stdout",
     "output_type": "stream",
     "text": [
      "[6, 4, 5, 15, 3, 3, 3]\n"
     ]
    }
   ],
   "source": [
    "skills = ['python','java','linux','cloud computing','SQL','AWS','C++' ]\n",
    "lengths = [len(skill) for skill in skills]\n",
    "print(lengths)"
   ]
  },
  {
   "cell_type": "code",
   "execution_count": null,
   "id": "ee65f23e",
   "metadata": {},
   "outputs": [],
   "source": []
  }
 ],
 "metadata": {
  "kernelspec": {
   "display_name": "Python 3",
   "language": "python",
   "name": "python3"
  },
  "language_info": {
   "codemirror_mode": {
    "name": "ipython",
    "version": 3
   },
   "file_extension": ".py",
   "mimetype": "text/x-python",
   "name": "python",
   "nbconvert_exporter": "python",
   "pygments_lexer": "ipython3",
   "version": "3.12.0"
  }
 },
 "nbformat": 4,
 "nbformat_minor": 5
}
