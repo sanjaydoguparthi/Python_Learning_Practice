{
 "cells": [
  {
   "cell_type": "code",
   "execution_count": 6,
   "id": "050d720d",
   "metadata": {},
   "outputs": [],
   "source": [
    "## create a list\n",
    "\n",
    "lst = ['sanjay','kalyan',20,10.5, False]"
   ]
  },
  {
   "cell_type": "code",
   "execution_count": 7,
   "id": "121c0a1f",
   "metadata": {},
   "outputs": [],
   "source": [
    "lst.append(True)"
   ]
  },
  {
   "cell_type": "code",
   "execution_count": 8,
   "id": "803da70d",
   "metadata": {},
   "outputs": [
    {
     "data": {
      "text/plain": [
       "['sanjay', 'kalyan', 20, 10.5, False, True]"
      ]
     },
     "execution_count": 8,
     "metadata": {},
     "output_type": "execute_result"
    }
   ],
   "source": [
    "lst"
   ]
  },
  {
   "cell_type": "code",
   "execution_count": 10,
   "id": "6c486fbc",
   "metadata": {},
   "outputs": [
    {
     "data": {
      "text/plain": [
       "0"
      ]
     },
     "execution_count": 10,
     "metadata": {},
     "output_type": "execute_result"
    }
   ],
   "source": [
    "lst.count(2)"
   ]
  },
  {
   "cell_type": "code",
   "execution_count": 12,
   "id": "a293fb68",
   "metadata": {},
   "outputs": [],
   "source": [
    "lst.insert (4,'vinay')"
   ]
  },
  {
   "cell_type": "code",
   "execution_count": 13,
   "id": "b9cec608",
   "metadata": {},
   "outputs": [
    {
     "data": {
      "text/plain": [
       "['sanjay', 'kalyan', 20, 10.5, 'vinay', False, True]"
      ]
     },
     "execution_count": 13,
     "metadata": {},
     "output_type": "execute_result"
    }
   ],
   "source": [
    "lst"
   ]
  },
  {
   "cell_type": "code",
   "execution_count": null,
   "id": "2dd08ac6",
   "metadata": {},
   "outputs": [
    {
     "name": "stdout",
     "output_type": "stream",
     "text": [
      "['sanjay', 'kalyan', 20, 10.5, 'vinay', False, True]\n",
      "index[0]: sanjay\n",
      "index[1]: kalyan\n",
      "index[2]: 20\n",
      "index[3]: 10.5\n",
      "index[4]: vinay\n",
      "index[5]: False\n",
      "index[6]: True\n"
     ]
    }
   ],
   "source": [
    "# positive indexing method\n",
    "print(lst)\n",
    "\n",
    "print(\"index[0]:\", lst[0])\n",
    "print(\"index[1]:\", lst[1])\n",
    "print(\"index[2]:\", lst[2])\n",
    "print(\"index[3]:\", lst[3])\n",
    "print(\"index[4]:\", lst[4])\n",
    "print(\"index[5]:\", lst[5])\n",
    "print(\"index[6]:\", lst[6])"
   ]
  },
  {
   "cell_type": "code",
   "execution_count": null,
   "id": "d391a0fd",
   "metadata": {},
   "outputs": [
    {
     "name": "stdout",
     "output_type": "stream",
     "text": [
      "['sanjay', 'kalyan', 20, 10.5, 'vinay', False, True]\n",
      "index[-1]: True\n",
      "index[-2]: False\n",
      "index[-3]: vinay\n",
      "index[-4]: 10.5\n",
      "index[-5]: 20\n",
      "index[-6]: kalyan\n",
      "index[-7]: sanjay\n"
     ]
    }
   ],
   "source": [
    "## negitive indexing method\n",
    "print(lst)\n",
    "\n",
    "print(\"index[-1]:\", lst[-1])\n",
    "print(\"index[-2]:\", lst[-2])\n",
    "print(\"index[-3]:\", lst[-3])\n",
    "print(\"index[-4]:\", lst[-4])\n",
    "print(\"index[-5]:\", lst[-5])\n",
    "print(\"index[-6]:\", lst[-6])\n",
    "print('index[-7]:', lst[-7])"
   ]
  },
  {
   "cell_type": "code",
   "execution_count": 26,
   "id": "76b24878",
   "metadata": {},
   "outputs": [],
   "source": [
    "lst.clear()"
   ]
  },
  {
   "cell_type": "code",
   "execution_count": 30,
   "id": "25cfa390",
   "metadata": {},
   "outputs": [],
   "source": [
    "num = [1, 2, 3, 4, 5, 6, 7, 8, 9, 10,]"
   ]
  },
  {
   "cell_type": "code",
   "execution_count": 37,
   "id": "d8b8f619",
   "metadata": {},
   "outputs": [
    {
     "name": "stdout",
     "output_type": "stream",
     "text": [
      "[1, 2, 3, 4, 5, 6, 7, 8, 9, 10]\n",
      "[1, 2, 3, 4, 5]\n",
      "[5, 6, 7, 8, 9, 10]\n",
      "[1, 2, 3]\n",
      "[3, 4, 5, 6, 7, 8, 9, 10]\n",
      "[]\n",
      "[1, 2, 3, 4, 5]\n",
      "[1, 2, 3, 4, 5, 6]\n",
      "[10]\n",
      "[7, 8, 9]\n",
      "[7, 8, 9, 10]\n",
      "[8, 9]\n",
      "[1, 2, 3, 4, 5]\n"
     ]
    }
   ],
   "source": [
    "## slicing of the list\n",
    "print(num)\n",
    "\n",
    "# positive indexing\n",
    "print(num[0:5]) # List sliced from 0 to 4 indexing\n",
    "print(num[4:]) # List sliced from index 4 to end of list\n",
    "print(num[ :3]) # List sliced from index 0 to 3. By default index is considered as 0\n",
    "print(num[2:])\n",
    "print(num[:0])\n",
    "print(num[0:5])\n",
    "print(num[0:6])\n",
    "\n",
    "#negative indexing\n",
    "#negative Indexing\n",
    "print(num[-1:])\n",
    "print(num[-4:-1])\n",
    "print(num[-4:])\n",
    "print(num[-3:-1])\n",
    "print(num[:-5])\n",
    "\n",
    "\n"
   ]
  },
  {
   "cell_type": "code",
   "execution_count": null,
   "id": "2c6bc773",
   "metadata": {},
   "outputs": [],
   "source": []
  }
 ],
 "metadata": {
  "kernelspec": {
   "display_name": "Python 3",
   "language": "python",
   "name": "python3"
  },
  "language_info": {
   "codemirror_mode": {
    "name": "ipython",
    "version": 3
   },
   "file_extension": ".py",
   "mimetype": "text/x-python",
   "name": "python",
   "nbconvert_exporter": "python",
   "pygments_lexer": "ipython3",
   "version": "3.12.0"
  }
 },
 "nbformat": 4,
 "nbformat_minor": 5
}
