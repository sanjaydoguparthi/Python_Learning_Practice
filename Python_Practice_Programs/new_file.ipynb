{
 "cells": [
  {
   "cell_type": "code",
   "execution_count": 2,
   "id": "050d720d",
   "metadata": {},
   "outputs": [],
   "source": [
    "## create a list\n",
    "\n",
    "lst = ['sanjay','kalyan',20,10.5, False]"
   ]
  },
  {
   "cell_type": "code",
   "execution_count": 7,
   "id": "121c0a1f",
   "metadata": {},
   "outputs": [],
   "source": [
    "lst.append(True)"
   ]
  },
  {
   "cell_type": "code",
   "execution_count": 8,
   "id": "803da70d",
   "metadata": {},
   "outputs": [
    {
     "data": {
      "text/plain": [
       "['sanjay', 'kalyan', 20, 10.5, False, True]"
      ]
     },
     "execution_count": 8,
     "metadata": {},
     "output_type": "execute_result"
    }
   ],
   "source": [
    "lst"
   ]
  },
  {
   "cell_type": "code",
   "execution_count": 21,
   "id": "6c486fbc",
   "metadata": {},
   "outputs": [
    {
     "data": {
      "text/plain": [
       "1"
      ]
     },
     "execution_count": 21,
     "metadata": {},
     "output_type": "execute_result"
    }
   ],
   "source": [
    "lst.count(20)"
   ]
  },
  {
   "cell_type": "code",
   "execution_count": 26,
   "id": "a293fb68",
   "metadata": {},
   "outputs": [
    {
     "name": "stdout",
     "output_type": "stream",
     "text": [
      "3\n"
     ]
    }
   ],
   "source": [
    "lst.insert (4,'vinay')\n",
    "print(lst.count('vinay'))"
   ]
  },
  {
   "cell_type": "code",
   "execution_count": 24,
   "id": "b9cec608",
   "metadata": {},
   "outputs": [
    {
     "name": "stdout",
     "output_type": "stream",
     "text": [
      "['sanjay', 'kalyan', 20, 10.5, 'vinay', 'vinay', False]\n"
     ]
    }
   ],
   "source": [
    "print(lst)"
   ]
  },
  {
   "cell_type": "code",
   "execution_count": 25,
   "id": "2dd08ac6",
   "metadata": {},
   "outputs": [
    {
     "name": "stdout",
     "output_type": "stream",
     "text": [
      "['sanjay', 'kalyan', 20, 10.5, 'vinay', 'vinay', False]\n",
      "index[0]: sanjay\n",
      "index[1]: kalyan\n",
      "index[2]: 20\n",
      "index[3]: 10.5\n",
      "index[4]: vinay\n",
      "index[5]: vinay\n",
      "index[6]: False\n"
     ]
    }
   ],
   "source": [
    "# positive indexing method\n",
    "print(lst)\n",
    "\n",
    "print(\"index[0]:\", lst[0])\n",
    "print(\"index[1]:\", lst[1])\n",
    "print(\"index[2]:\", lst[2])\n",
    "print(\"index[3]:\", lst[3])\n",
    "print(\"index[4]:\", lst[4])\n",
    "print(\"index[5]:\", lst[5])\n",
    "print(\"index[6]:\", lst[6])"
   ]
  },
  {
   "cell_type": "code",
   "execution_count": null,
   "id": "d391a0fd",
   "metadata": {},
   "outputs": [
    {
     "name": "stdout",
     "output_type": "stream",
     "text": [
      "['sanjay', 'kalyan', 20, 10.5, 'vinay', False, True]\n",
      "index[-1]: True\n",
      "index[-2]: False\n",
      "index[-3]: vinay\n",
      "index[-4]: 10.5\n",
      "index[-5]: 20\n",
      "index[-6]: kalyan\n",
      "index[-7]: sanjay\n"
     ]
    }
   ],
   "source": [
    "## negitive indexing method\n",
    "print(lst)\n",
    "\n",
    "print(\"index[-1]:\", lst[-1])\n",
    "print(\"index[-2]:\", lst[-2])\n",
    "print(\"index[-3]:\", lst[-3])\n",
    "print(\"index[-4]:\", lst[-4])\n",
    "print(\"index[-5]:\", lst[-5])\n",
    "print(\"index[-6]:\", lst[-6])\n",
    "print('index[-7]:', lst[-7])"
   ]
  },
  {
   "cell_type": "code",
   "execution_count": 27,
   "id": "665dea7d",
   "metadata": {},
   "outputs": [
    {
     "data": {
      "text/plain": [
       "['sanjay', 'kalyan', 20, 10.5, 'vinay', 'vinay', 'vinay', False]"
      ]
     },
     "execution_count": 27,
     "metadata": {},
     "output_type": "execute_result"
    }
   ],
   "source": [
    "lst"
   ]
  },
  {
   "cell_type": "code",
   "execution_count": 30,
   "id": "acbe82c8",
   "metadata": {},
   "outputs": [
    {
     "data": {
      "text/plain": [
       "'vinay'"
      ]
     },
     "execution_count": 30,
     "metadata": {},
     "output_type": "execute_result"
    }
   ],
   "source": [
    "lst.pop(4)"
   ]
  },
  {
   "cell_type": "code",
   "execution_count": 31,
   "id": "0a7f0b03",
   "metadata": {},
   "outputs": [
    {
     "data": {
      "text/plain": [
       "['sanjay', 'kalyan', 20, 10.5, 'vinay', False]"
      ]
     },
     "execution_count": 31,
     "metadata": {},
     "output_type": "execute_result"
    }
   ],
   "source": [
    "lst"
   ]
  },
  {
   "cell_type": "code",
   "execution_count": 32,
   "id": "71f287a7",
   "metadata": {},
   "outputs": [
    {
     "name": "stdout",
     "output_type": "stream",
     "text": [
      "1\n"
     ]
    }
   ],
   "source": [
    "lst.insert(5, 'ashok')\n",
    "print(lst.count('ashok'))"
   ]
  },
  {
   "cell_type": "code",
   "execution_count": 26,
   "id": "76b24878",
   "metadata": {},
   "outputs": [],
   "source": [
    "lst.clear()"
   ]
  },
  {
   "cell_type": "code",
   "execution_count": 4,
   "id": "25cfa390",
   "metadata": {},
   "outputs": [],
   "source": [
    "num = [1, 2, 3, 4, 5, 6, 7, 8, 9, 10,]"
   ]
  },
  {
   "cell_type": "code",
   "execution_count": 37,
   "id": "d8b8f619",
   "metadata": {},
   "outputs": [
    {
     "name": "stdout",
     "output_type": "stream",
     "text": [
      "[1, 2, 3, 4, 5, 6, 7, 8, 9, 10]\n",
      "[1, 2, 3, 4, 5]\n",
      "[5, 6, 7, 8, 9, 10]\n",
      "[1, 2, 3]\n",
      "[3, 4, 5, 6, 7, 8, 9, 10]\n",
      "[]\n",
      "[1, 2, 3, 4, 5]\n",
      "[1, 2, 3, 4, 5, 6]\n",
      "[10]\n",
      "[7, 8, 9]\n",
      "[7, 8, 9, 10]\n",
      "[8, 9]\n",
      "[1, 2, 3, 4, 5]\n"
     ]
    }
   ],
   "source": [
    "## slicing of the list\n",
    "print(num)\n",
    "\n",
    "# positive indexing\n",
    "print(num[0:5]) # List sliced from 0 to 4 indexing\n",
    "print(num[4:]) # List sliced from index 4 to end of list\n",
    "print(num[ :3]) # List sliced from index 0 to 3. By default index is considered as 0\n",
    "print(num[2:])\n",
    "print(num[:0])\n",
    "print(num[0:5])\n",
    "print(num[0:6])\n",
    "\n",
    "#negative indexing\n",
    "#negative Indexing\n",
    "print(num[-1:])\n",
    "print(num[-4:-1])\n",
    "print(num[-4:])\n",
    "print(num[-3:-1])\n",
    "print(num[:-5])\n",
    "\n",
    "\n"
   ]
  },
  {
   "cell_type": "code",
   "execution_count": 6,
   "id": "2c6bc773",
   "metadata": {},
   "outputs": [
    {
     "name": "stdout",
     "output_type": "stream",
     "text": [
      "[1, 2, 3, 4, 5, 6, 7, 8, 9, 10]\n",
      "[1, 3, 5, 7, 9]\n",
      "[1, 4, 7, 10]\n",
      "[1, 5, 9]\n",
      "[1, 2, 3, 4, 5]\n",
      "[1, 7]\n"
     ]
    }
   ],
   "source": [
    "## slicing the list\n",
    "\n",
    "print(num)\n",
    "\n",
    "print(num[::2])\n",
    "print(num[::3])\n",
    "print(num[::4])\n",
    "print(num[:5])\n",
    "print(num[::6])\n"
   ]
  },
  {
   "cell_type": "code",
   "execution_count": 7,
   "id": "f64f95f8",
   "metadata": {},
   "outputs": [
    {
     "name": "stdout",
     "output_type": "stream",
     "text": [
      "1\n",
      "2\n",
      "3\n",
      "4\n",
      "5\n",
      "6\n",
      "7\n",
      "8\n",
      "9\n",
      "10\n"
     ]
    }
   ],
   "source": [
    "## iterating the list\n",
    "for i in num:\n",
    "    print(i)"
   ]
  },
  {
   "cell_type": "code",
   "execution_count": null,
   "id": "78be485e",
   "metadata": {},
   "outputs": [
    {
     "name": "stdout",
     "output_type": "stream",
     "text": [
      "0 1\n",
      "1 2\n",
      "2 3\n",
      "3 4\n",
      "4 5\n",
      "index is acces to remaining numbers\n",
      "index is acces to remaining numbers\n",
      "index is acces to remaining numbers\n",
      "index is acces to remaining numbers\n",
      "index is acces to remaining numbers\n"
     ]
    }
   ],
   "source": [
    "## iterating to the list\n",
    "for i in range(len(num)):\n",
    "    if(i<5):\n",
    "        print(i,num[i])\n",
    "    else:\n",
    "        print('index is acces to remaining numbers')\n"
   ]
  },
  {
   "cell_type": "code",
   "execution_count": 10,
   "id": "f20f4c7b",
   "metadata": {},
   "outputs": [
    {
     "name": "stdout",
     "output_type": "stream",
     "text": [
      "char sanjay\n",
      "['sanjay', 'vamsi']\n",
      "['sanjay', 'anil', 'avinash']\n",
      "['avinash', 'mahesh', 'vinod']\n",
      "['sanjay', 'vinod']\n"
     ]
    }
   ],
   "source": [
    "names = ['sanjay','kalyan','sunil','anil','praveen','vamsi','avinash','mahesh','vinod']\n",
    "\n",
    "print('char',names[0])\n",
    "print(names[::5])\n",
    "print(names[::3])\n",
    "print(names[6::])\n",
    "print(names[::8])\n"
   ]
  },
  {
   "cell_type": "code",
   "execution_count": 11,
   "id": "2b59a56d",
   "metadata": {},
   "outputs": [
    {
     "name": "stdout",
     "output_type": "stream",
     "text": [
      "p\n",
      "y\n",
      "t\n",
      "h\n",
      "o\n",
      "n\n"
     ]
    }
   ],
   "source": [
    "my_skills = ['java','python','c++']\n",
    "for char in my_skills[1]:\n",
    "    print(char)"
   ]
  },
  {
   "cell_type": "code",
   "execution_count": 15,
   "id": "b55c1cd5",
   "metadata": {},
   "outputs": [
    {
     "name": "stdout",
     "output_type": "stream",
     "text": [
      "[0, 1, 8, 27, 64]\n"
     ]
    }
   ],
   "source": [
    "## list of comprehension\n",
    "list_1 = []\n",
    "for x in range(5):\n",
    "    list_1.append(x**3)\n",
    "print(list_1)"
   ]
  },
  {
   "cell_type": "code",
   "execution_count": 17,
   "id": "fcb8c291",
   "metadata": {},
   "outputs": [
    {
     "name": "stdout",
     "output_type": "stream",
     "text": [
      "[[1, 'sanjay'], [1, 'kalyan'], [2, 'sanjay'], [2, 'kalyan'], [3, 'sanjay'], [3, 'kalyan'], [4, 'sanjay'], [4, 'kalyan']]\n"
     ]
    }
   ],
   "source": [
    "# nested list comprehension\n",
    "int_1 = [1, 2, 3, 4]\n",
    "str_1 = ['sanjay','kalyan']\n",
    "pair_list = [[i,j] for i in int_1 for j in str_1]\n",
    "print(pair_list)"
   ]
  },
  {
   "cell_type": "code",
   "execution_count": 19,
   "id": "f88a5386",
   "metadata": {},
   "outputs": [
    {
     "name": "stdout",
     "output_type": "stream",
     "text": [
      "[6, 6, 8, 6, 5, 9, 3]\n"
     ]
    }
   ],
   "source": [
    "## list of comprehension function call\n",
    "keywords = ['append','insert','indexing','remove','range','enumerate','del']\n",
    "lengths = [len(keyword) for keyword in keywords]\n",
    "print(lengths)"
   ]
  },
  {
   "cell_type": "code",
   "execution_count": 20,
   "id": "940c1310",
   "metadata": {},
   "outputs": [
    {
     "name": "stdout",
     "output_type": "stream",
     "text": [
      "[6, 4, 5, 15, 3, 3, 3]\n"
     ]
    }
   ],
   "source": [
    "skills = ['python','java','linux','cloud computing','SQL','AWS','C++' ]\n",
    "lengths = [len(char) for char in skills]\n",
    "print(lengths)"
   ]
  },
  {
   "cell_type": "markdown",
   "id": "ab255078",
   "metadata": {},
   "source": [
    "### dictionary_method"
   ]
  },
  {
   "cell_type": "code",
   "execution_count": 1,
   "id": "f6b6e528",
   "metadata": {},
   "outputs": [],
   "source": [
    "students = {'name': 'doguparthi sanjay','register num': '20bj5a0464','branch': 'ECE','year of joining':2020}"
   ]
  },
  {
   "cell_type": "code",
   "execution_count": 3,
   "id": "0c168c54",
   "metadata": {},
   "outputs": [
    {
     "data": {
      "text/plain": [
       "{'name': 'doguparthi sanjay',\n",
       " 'register num': '20bj5a0464',\n",
       " 'branch': 'ECE',\n",
       " 'year of joining': 2020}"
      ]
     },
     "execution_count": 3,
     "metadata": {},
     "output_type": "execute_result"
    }
   ],
   "source": [
    "students"
   ]
  },
  {
   "cell_type": "code",
   "execution_count": 5,
   "id": "dcb5f4ca",
   "metadata": {},
   "outputs": [
    {
     "data": {
      "text/plain": [
       "'doguparthi sanjay'"
      ]
     },
     "execution_count": 5,
     "metadata": {},
     "output_type": "execute_result"
    }
   ],
   "source": [
    "students['name']"
   ]
  },
  {
   "cell_type": "code",
   "execution_count": 7,
   "id": "6ed5d10f",
   "metadata": {},
   "outputs": [
    {
     "data": {
      "text/plain": [
       "'ECE'"
      ]
     },
     "execution_count": 7,
     "metadata": {},
     "output_type": "execute_result"
    }
   ],
   "source": [
    "students['branch']"
   ]
  },
  {
   "cell_type": "code",
   "execution_count": 8,
   "id": "11d187f7",
   "metadata": {},
   "outputs": [],
   "source": [
    "students.update({'age':21})"
   ]
  },
  {
   "cell_type": "code",
   "execution_count": 9,
   "id": "ab7730f0",
   "metadata": {},
   "outputs": [
    {
     "data": {
      "text/plain": [
       "{'name': 'doguparthi sanjay',\n",
       " 'register num': '20bj5a0464',\n",
       " 'branch': 'ECE',\n",
       " 'year of joining': 2020,\n",
       " 'age': 21}"
      ]
     },
     "execution_count": 9,
     "metadata": {},
     "output_type": "execute_result"
    }
   ],
   "source": [
    "students"
   ]
  },
  {
   "cell_type": "code",
   "execution_count": 10,
   "id": "3b4cab9a",
   "metadata": {},
   "outputs": [],
   "source": [
    "students['country'] = 'india'"
   ]
  },
  {
   "cell_type": "code",
   "execution_count": 11,
   "id": "6b4b6e40",
   "metadata": {},
   "outputs": [
    {
     "data": {
      "text/plain": [
       "{'name': 'doguparthi sanjay',\n",
       " 'register num': '20bj5a0464',\n",
       " 'branch': 'ECE',\n",
       " 'year of joining': 2020,\n",
       " 'age': 21,\n",
       " 'country': 'india'}"
      ]
     },
     "execution_count": 11,
     "metadata": {},
     "output_type": "execute_result"
    }
   ],
   "source": [
    "students"
   ]
  },
  {
   "cell_type": "code",
   "execution_count": 12,
   "id": "fb9caa84",
   "metadata": {},
   "outputs": [],
   "source": [
    "student = {\"Name\":\"ABC\", \"Roll_No\": 11,\"Age\": 15, \"Place\": \"Bangalore\"}"
   ]
  },
  {
   "cell_type": "code",
   "execution_count": 13,
   "id": "c5d655f0",
   "metadata": {},
   "outputs": [
    {
     "name": "stdout",
     "output_type": "stream",
     "text": [
      "dict_items([('Name', 'ABC'), ('Roll_No', 11), ('Age', 15), ('Place', 'Bangalore')])\n",
      "dict_keys(['Name', 'Roll_No', 'Age', 'Place'])\n",
      "dict_values(['ABC', 11, 15, 'Bangalore'])\n",
      "{'Name': 'ABC', 'Roll_No': 11, 'Age': 15, 'Place': 'Bangalore'}\n"
     ]
    }
   ],
   "source": [
    "print(student.items())\n",
    "print(student.keys())\n",
    "print(student.values())\n",
    "print(student.copy())"
   ]
  },
  {
   "cell_type": "code",
   "execution_count": 14,
   "id": "3fa1e094",
   "metadata": {},
   "outputs": [
    {
     "name": "stdout",
     "output_type": "stream",
     "text": [
      "{'Name': 'ABC', 'Roll_No': 11, 'Age': 15, 'Place': 'Bangalore'}\n",
      "{'Name': 'ABC', 'Roll_No': 11, 'Age': 15, 'Place': 'Bangalore'}\n",
      "{'Name': 'ABSC', 'Roll_No': 11, 'Age': 21, 'Place': 'Bangalore'}\n",
      "{'Name': 'ABSC', 'Roll_No': 11, 'Age': 21, 'Place': 'Bangalore'}\n",
      "{'Name': 'ABSCnhshbbh', 'Roll_No': 11, 'Age': 28, 'Place': 'Bangalore'}\n",
      "{'Name': 'ABSCnhshbbh', 'Roll_No': 11, 'Age': 28, 'Place': 'Bangalore'}\n"
     ]
    }
   ],
   "source": [
    "#Shallow copy.\n",
    "\n",
    "#mistake of shallow copy.\n",
    "student = {\"Name\":\"ABC\", \"Roll_No\": 11,\"Age\": 15, \"Place\": \"Bangalore\"}\n",
    "\n",
    "student_1 = student\n",
    "\n",
    "print(student_1)\n",
    "print(student)\n",
    "\n",
    "student_1[\"Name\"] = \"ABSC\"\n",
    "student_1[\"Age\"] = 21\n",
    "\n",
    "print(student_1)\n",
    "print(student)\n",
    "\n",
    "student_1[\"Name\"] = \"ABSCnhshbbh\"\n",
    "student[\"Age\"] = 28\n",
    "\n",
    "print(student_1)\n",
    "print(student)"
   ]
  },
  {
   "cell_type": "code",
   "execution_count": 15,
   "id": "1bac1c66",
   "metadata": {},
   "outputs": [
    {
     "name": "stdout",
     "output_type": "stream",
     "text": [
      "{'Name': 'ABSCnhshbbh', 'Roll_No': 11, 'Age': 28, 'Place': 'Bangalore'}\n",
      "{'Name': 'ABSCnhshbbh', 'Roll_No': 11, 'Age': 28, 'Place': 'Bangalore'}\n",
      "{'Name': 'ABSCnhshbbh', 'Roll_No': 52, 'Age': 28, 'Place': 'E-City'}\n",
      "{'Name': 'ABSCnhshbbh', 'Roll_No': 11, 'Age': 28, 'Place': 'Bangalore'}\n",
      "{'Name': 'ABSCnhshbbh', 'Roll_No': 11, 'Age': 28, 'Place': 'Bangalore'}\n"
     ]
    }
   ],
   "source": [
    "#Shallow copy.\n",
    "\n",
    "student_2 = student.copy()\n",
    "\n",
    "print(student_2)\n",
    "print(student)\n",
    "\n",
    "student_2[\"Place\"] = \"E-City\"\n",
    "student_2[\"Roll_No\"] = 52\n",
    "\n",
    "print(student_2)\n",
    "print(student_1)\n",
    "print(student)"
   ]
  },
  {
   "cell_type": "code",
   "execution_count": null,
   "id": "c15d8707",
   "metadata": {},
   "outputs": [
    {
     "name": "stdout",
     "output_type": "stream",
     "text": [
      "Name\n",
      "Roll_No\n",
      "Age\n",
      "Place\n"
     ]
    }
   ],
   "source": [
    "# iterating over the keys\n",
    "for key in student.keys():\n",
    "    print(key)"
   ]
  },
  {
   "cell_type": "code",
   "execution_count": 17,
   "id": "2b8be58b",
   "metadata": {},
   "outputs": [
    {
     "name": "stdout",
     "output_type": "stream",
     "text": [
      "ABSCnhshbbh\n",
      "11\n",
      "28\n",
      "Bangalore\n"
     ]
    }
   ],
   "source": [
    "# iterating over the values\n",
    "for value in student.values():\n",
    "    print(value)"
   ]
  },
  {
   "cell_type": "code",
   "execution_count": 18,
   "id": "0a77016a",
   "metadata": {},
   "outputs": [
    {
     "name": "stdout",
     "output_type": "stream",
     "text": [
      "Name : ABSCnhshbbh\n",
      "Roll_No : 11\n",
      "Age : 28\n",
      "Place : Bangalore\n"
     ]
    }
   ],
   "source": [
    "# iterating over the keys and values pair\n",
    "for key, value in student.items():\n",
    "    print(key, \":\", value)"
   ]
  },
  {
   "cell_type": "code",
   "execution_count": 19,
   "id": "2775ce52",
   "metadata": {},
   "outputs": [
    {
     "name": "stdout",
     "output_type": "stream",
     "text": [
      "{'student_1': {'Name': 'Sanjay', 'Age': 23, 'Roll_No': 14, 'Place': 'Bangalore'}, 'student_2': {'Name': 'kalyan', 'Age': 28, 'Roll_No': 18, 'Place': 'Bangalore'}}\n",
      "dict_items([('student_1', {'Name': 'Sanjay', 'Age': 23, 'Roll_No': 14, 'Place': 'Bangalore'}), ('student_2', {'Name': 'kalyan', 'Age': 28, 'Roll_No': 18, 'Place': 'Bangalore'})])\n"
     ]
    }
   ],
   "source": [
    "#create nested dictionaries\n",
    "\n",
    "students_data = {\n",
    "    \"student_1\":{\"Name\":\"Sanjay\",\"Age\": 23, \"Roll_No\": 14, \"Place\": \"Bangalore\"},\n",
    "    \"student_2\":{\"Name\": \"kalyan\",\"Age\": 28, \"Roll_No\":18, \"Place\": \"Bangalore\"}\n",
    "}\n",
    "\n",
    "print(students_data)\n",
    "print(students_data.items())"
   ]
  },
  {
   "cell_type": "code",
   "execution_count": 20,
   "id": "4ef4af4e",
   "metadata": {},
   "outputs": [
    {
     "name": "stdout",
     "output_type": "stream",
     "text": [
      "student_1:{'Name': 'Sanjay', 'Age': 23, 'Roll_No': 14, 'Place': 'Bangalore'}\n",
      "dict_items([('Name', 'Sanjay'), ('Age', 23), ('Roll_No', 14), ('Place', 'Bangalore')])\n",
      "Name:Sanjay\n",
      "Age:23\n",
      "Roll_No:14\n",
      "Place:Bangalore\n",
      "student_2:{'Name': 'kalyan', 'Age': 28, 'Roll_No': 18, 'Place': 'Bangalore'}\n",
      "dict_items([('Name', 'kalyan'), ('Age', 28), ('Roll_No', 18), ('Place', 'Bangalore')])\n",
      "Name:kalyan\n",
      "Age:28\n",
      "Roll_No:18\n",
      "Place:Bangalore\n"
     ]
    }
   ],
   "source": [
    "#iterative on nested disctionaries\n",
    "\n",
    "for student_id, students_info in students_data.items():\n",
    "    print(f\"{student_id}:{students_info}\")\n",
    "    print(students_info.items())\n",
    "    for key, value in students_info.items():\n",
    "        print(f\"{key}:{value}\")"
   ]
  },
  {
   "cell_type": "code",
   "execution_count": 21,
   "id": "30e2ad0d",
   "metadata": {},
   "outputs": [
    {
     "name": "stdout",
     "output_type": "stream",
     "text": [
      "<class 'dict'>\n",
      "{1: 1}\n",
      "{1: 1, 2: 1}\n",
      "{1: 1, 2: 3}\n",
      "{1: 1, 2: 3, 4: 1}\n",
      "{1: 1, 2: 3, 4: 1, 3: 1}\n",
      "{1: 1, 2: 3, 4: 1, 3: 1, 5: 1}\n",
      "{1: 1, 2: 3, 4: 1, 3: 1, 5: 1, 6: 1}\n",
      "{1: 1, 2: 3, 4: 3, 3: 1, 5: 1, 6: 1}\n",
      "{1: 1, 2: 3, 4: 3, 3: 3, 5: 1, 6: 1}\n",
      "{1: 1, 2: 5, 4: 3, 3: 3, 5: 1, 6: 1}\n",
      "{1: 3, 2: 5, 4: 3, 3: 3, 5: 1, 6: 1}\n",
      "{1: 3, 2: 5, 4: 3, 3: 3, 5: 1, 6: 1, 'Sanjay': 1}\n",
      "{1: 3, 2: 5, 4: 3, 3: 3, 5: 1, 6: 1, 'Sanjay': 3}\n",
      "{1: 3, 2: 5, 4: 3, 3: 3, 5: 1, 6: 1, 'Sanjay': 3}\n"
     ]
    }
   ],
   "source": [
    "# Practical example of dictionary\n",
    "\n",
    "# Use a dictionary to count the frequency of elements in the list.\n",
    "\n",
    "numbers = [1,2,2,4,3,5,6,4,3,2,1,\"Sanjay\",\"Sanjay\"]\n",
    "frequency = {}\n",
    "\n",
    "print(type(frequency))\n",
    "\n",
    "for num in numbers:\n",
    "    if num in frequency:\n",
    "        frequency[num]+= 2\n",
    "        print(frequency)\n",
    "    else:\n",
    "        frequency[num] = 1\n",
    "        print(frequency)\n",
    "\n",
    "print(frequency)"
   ]
  },
  {
   "cell_type": "code",
   "execution_count": 26,
   "id": "a149d547",
   "metadata": {},
   "outputs": [
    {
     "name": "stdout",
     "output_type": "stream",
     "text": [
      "{'a': 1, 'b': 9, 'c': 8, 'd': 4}\n",
      "{'c': 8, 'd': 4, 'a': 1, 'b': 9}\n"
     ]
    }
   ],
   "source": [
    "#merge 2 dictionaries\n",
    "\n",
    "dict_1 = {\"a\":1, \"b\": 9}\n",
    "dict_2 = {\"c\":8, \"d\": 4}\n",
    "\n",
    "merge_dict = {**dict_1, **dict_2}\n",
    "print(merge_dict)\n",
    "merge_dict = {**dict_2, **dict_1}\n",
    "print(merge_dict)"
   ]
  },
  {
   "cell_type": "code",
   "execution_count": null,
   "id": "d2abb9f1",
   "metadata": {},
   "outputs": [],
   "source": []
  }
 ],
 "metadata": {
  "kernelspec": {
   "display_name": "Python 3",
   "language": "python",
   "name": "python3"
  },
  "language_info": {
   "codemirror_mode": {
    "name": "ipython",
    "version": 3
   },
   "file_extension": ".py",
   "mimetype": "text/x-python",
   "name": "python",
   "nbconvert_exporter": "python",
   "pygments_lexer": "ipython3",
   "version": "3.12.0"
  }
 },
 "nbformat": 4,
 "nbformat_minor": 5
}
