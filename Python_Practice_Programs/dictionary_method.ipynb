{
 "cells": [
  {
   "cell_type": "code",
   "execution_count": 20,
   "id": "0c9b5782",
   "metadata": {},
   "outputs": [],
   "source": [
    "## let's create a dictionary\n",
    "my_dict = {'name': 'sanjay','age': 12,'city': 'chirala', 'age':1}"
   ]
  },
  {
   "cell_type": "code",
   "execution_count": 12,
   "id": "5db29264",
   "metadata": {},
   "outputs": [],
   "source": [
    "my_dict.update({'cuntry': 'india'})"
   ]
  },
  {
   "cell_type": "code",
   "execution_count": 21,
   "id": "b428d88f",
   "metadata": {},
   "outputs": [
    {
     "data": {
      "text/plain": [
       "{'name': 'sanjay', 'age': 1, 'city': 'chirala'}"
      ]
     },
     "execution_count": 21,
     "metadata": {},
     "output_type": "execute_result"
    }
   ],
   "source": [
    "my_dict"
   ]
  },
  {
   "cell_type": "code",
   "execution_count": 14,
   "id": "300b9b60",
   "metadata": {},
   "outputs": [
    {
     "data": {
      "text/plain": [
       "'india'"
      ]
     },
     "execution_count": 14,
     "metadata": {},
     "output_type": "execute_result"
    }
   ],
   "source": [
    "my_dict.pop('cuntry')"
   ]
  },
  {
   "cell_type": "code",
   "execution_count": 15,
   "id": "9992b877",
   "metadata": {},
   "outputs": [
    {
     "data": {
      "text/plain": [
       "('city', 'chirala')"
      ]
     },
     "execution_count": 15,
     "metadata": {},
     "output_type": "execute_result"
    }
   ],
   "source": [
    "my_dict.popitem()"
   ]
  },
  {
   "cell_type": "code",
   "execution_count": 6,
   "id": "3e4fb5d4",
   "metadata": {},
   "outputs": [],
   "source": [
    "my_dict.update({'state': 'andhra pradesh'}) "
   ]
  },
  {
   "cell_type": "code",
   "execution_count": 7,
   "id": "21f81737",
   "metadata": {},
   "outputs": [
    {
     "data": {
      "text/plain": [
       "{'name': 'sanjay', 'age': '24', 'state': 'andhra pradesh'}"
      ]
     },
     "execution_count": 7,
     "metadata": {},
     "output_type": "execute_result"
    }
   ],
   "source": [
    "my_dict"
   ]
  },
  {
   "cell_type": "code",
   "execution_count": 8,
   "id": "33436e10",
   "metadata": {},
   "outputs": [],
   "source": [
    "my_dict['state2'] = 'telangana'"
   ]
  },
  {
   "cell_type": "code",
   "execution_count": 9,
   "id": "982faa01",
   "metadata": {},
   "outputs": [
    {
     "data": {
      "text/plain": [
       "{'name': 'sanjay',\n",
       " 'age': '24',\n",
       " 'state': 'andhra pradesh',\n",
       " 'state2': 'telangana'}"
      ]
     },
     "execution_count": 9,
     "metadata": {},
     "output_type": "execute_result"
    }
   ],
   "source": [
    "my_dict"
   ]
  },
  {
   "cell_type": "code",
   "execution_count": 10,
   "id": "ebb8dc57",
   "metadata": {},
   "outputs": [],
   "source": [
    "del my_dict['age']"
   ]
  },
  {
   "cell_type": "code",
   "execution_count": 17,
   "id": "f1810752",
   "metadata": {},
   "outputs": [
    {
     "data": {
      "text/plain": [
       "dict_keys(['name', 'state', 'state2'])"
      ]
     },
     "execution_count": 17,
     "metadata": {},
     "output_type": "execute_result"
    }
   ],
   "source": [
    "my_dict.keys()\n"
   ]
  },
  {
   "cell_type": "code",
   "execution_count": 16,
   "id": "74402c2c",
   "metadata": {},
   "outputs": [
    {
     "data": {
      "text/plain": [
       "dict_values(['sanjay', 'andhra pradesh', 'telangana'])"
      ]
     },
     "execution_count": 16,
     "metadata": {},
     "output_type": "execute_result"
    }
   ],
   "source": [
    "my_dict.values()"
   ]
  },
  {
   "cell_type": "code",
   "execution_count": 18,
   "id": "bb03a3eb",
   "metadata": {},
   "outputs": [],
   "source": [
    "## add a new dictionary to my_dict\n",
    "my_dict.update({'address': {'street': 'vinayaka street', 'city': 'chirala'}})"
   ]
  },
  {
   "cell_type": "code",
   "execution_count": 19,
   "id": "e6c198ce",
   "metadata": {},
   "outputs": [
    {
     "data": {
      "text/plain": [
       "{'name': 'sanjay',\n",
       " 'state': 'andhra pradesh',\n",
       " 'state2': 'telangana',\n",
       " 'address': {'street': 'vinayaka street', 'city': 'chirala'}}"
      ]
     },
     "execution_count": 19,
     "metadata": {},
     "output_type": "execute_result"
    }
   ],
   "source": [
    "my_dict"
   ]
  },
  {
   "cell_type": "code",
   "execution_count": 20,
   "id": "f9b6e136",
   "metadata": {},
   "outputs": [],
   "source": [
    "my_dict['city'] = 'chirala'"
   ]
  },
  {
   "cell_type": "code",
   "execution_count": 21,
   "id": "240fc0ec",
   "metadata": {},
   "outputs": [
    {
     "data": {
      "text/plain": [
       "{'name': 'sanjay',\n",
       " 'state': 'andhra pradesh',\n",
       " 'state2': 'telangana',\n",
       " 'address': {'street': 'vinayaka street', 'city': 'chirala'},\n",
       " 'city': 'chirala'}"
      ]
     },
     "execution_count": 21,
     "metadata": {},
     "output_type": "execute_result"
    }
   ],
   "source": [
    "my_dict"
   ]
  },
  {
   "cell_type": "code",
   "execution_count": 3,
   "id": "233ca45a",
   "metadata": {},
   "outputs": [],
   "source": [
    "student = {\"Name\":\"ABC\", \"Roll_No\": 11,\"Age\": 15, \"Place\": \"Bangalore\"}"
   ]
  },
  {
   "cell_type": "code",
   "execution_count": 4,
   "id": "7dd8786a",
   "metadata": {},
   "outputs": [
    {
     "data": {
      "text/plain": [
       "{'Name': 'ABC', 'Roll_No': 11, 'Age': 15, 'Place': 'Bangalore'}"
      ]
     },
     "execution_count": 4,
     "metadata": {},
     "output_type": "execute_result"
    }
   ],
   "source": [
    "student"
   ]
  },
  {
   "cell_type": "code",
   "execution_count": 5,
   "id": "4b15854a",
   "metadata": {},
   "outputs": [
    {
     "data": {
      "text/plain": [
       "'ABC'"
      ]
     },
     "execution_count": 5,
     "metadata": {},
     "output_type": "execute_result"
    }
   ],
   "source": [
    "student[\"Name\"]"
   ]
  },
  {
   "cell_type": "code",
   "execution_count": 7,
   "id": "d5a294e9",
   "metadata": {},
   "outputs": [
    {
     "data": {
      "text/plain": [
       "15"
      ]
     },
     "execution_count": 7,
     "metadata": {},
     "output_type": "execute_result"
    }
   ],
   "source": [
    "student[\"Age\"]"
   ]
  },
  {
   "cell_type": "code",
   "execution_count": 12,
   "id": "78fd092d",
   "metadata": {},
   "outputs": [
    {
     "name": "stdout",
     "output_type": "stream",
     "text": [
      "dict_items([('Name', 'ABC'), ('Roll_No', 11), ('Age', 15), ('Place', 'Bangalore')])\n",
      "dict_keys(['Name', 'Roll_No', 'Age', 'Place'])\n",
      "dict_values(['ABC', 11, 15, 'Bangalore'])\n",
      "15\n",
      "{'Name': 'ABC', 'Roll_No': 11, 'Age': 15, 'Place': 'Bangalore'}\n"
     ]
    }
   ],
   "source": [
    "print(student.items())\n",
    "print(student.keys())\n",
    "print(student.values())\n",
    "print(student.get(\"Age\"))\n",
    "print(student.copy())"
   ]
  },
  {
   "cell_type": "code",
   "execution_count": 20,
   "id": "42428d44",
   "metadata": {},
   "outputs": [
    {
     "name": "stdout",
     "output_type": "stream",
     "text": [
      "{'Name': 'ABC', 'Roll_No': 11, 'Age': 15, 'Place': 'Bangalore'}\n",
      "{'Name': 'ABC', 'Roll_No': 11, 'Age': 15, 'Place': 'Bangalore'}\n",
      "{'Name': 'ABSC', 'Roll_No': 11, 'Age': 21, 'Place': 'Bangalore'}\n",
      "{'Name': 'ABSC', 'Roll_No': 11, 'Age': 21, 'Place': 'Bangalore'}\n",
      "{'Name': 'ABSCnhshbbh', 'Roll_No': 11, 'Age': 28, 'Place': 'Bangalore'}\n",
      "{'Name': 'ABSCnhshbbh', 'Roll_No': 11, 'Age': 28, 'Place': 'Bangalore'}\n"
     ]
    }
   ],
   "source": [
    "#Shallow copy.\n",
    "\n",
    "#mistake of shallow copy.\n",
    "student = {\"Name\":\"ABC\", \"Roll_No\": 11,\"Age\": 15, \"Place\": \"Bangalore\"}\n",
    "\n",
    "student_1 = student\n",
    "\n",
    "print(student_1)\n",
    "print(student)\n",
    "\n",
    "student_1[\"Name\"] = \"ABSC\"\n",
    "student_1[\"Age\"] = 21\n",
    "\n",
    "print(student_1)\n",
    "print(student)\n",
    "\n",
    "student_1[\"Name\"] = \"ABSCnhshbbh\"\n",
    "student[\"Age\"] = 28\n",
    "\n",
    "print(student_1)\n",
    "print(student)"
   ]
  },
  {
   "cell_type": "code",
   "execution_count": 23,
   "id": "56ebcf37",
   "metadata": {},
   "outputs": [
    {
     "name": "stdout",
     "output_type": "stream",
     "text": [
      "{'Name': 'ABSCnhshbbh', 'Roll_No': 11, 'Age': 28, 'Place': 'Bangalore'}\n",
      "{'Name': 'ABSCnhshbbh', 'Roll_No': 11, 'Age': 28, 'Place': 'Bangalore'}\n",
      "{'Name': 'ABSCnhshbbh', 'Roll_No': 52, 'Age': 28, 'Place': 'E-City'}\n",
      "{'Name': 'ABSCnhshbbh', 'Roll_No': 11, 'Age': 28, 'Place': 'Bangalore'}\n",
      "{'Name': 'ABSCnhshbbh', 'Roll_No': 11, 'Age': 28, 'Place': 'Bangalore'}\n"
     ]
    }
   ],
   "source": [
    "#Shallow copy.\n",
    "\n",
    "student_2 = student.copy()\n",
    "\n",
    "print(student_2)\n",
    "print(student)\n",
    "\n",
    "student_2[\"Place\"] = \"E-City\"\n",
    "student_2[\"Roll_No\"] = 52\n",
    "\n",
    "print(student_2)\n",
    "print(student_1)\n",
    "print(student)"
   ]
  },
  {
   "cell_type": "code",
   "execution_count": 24,
   "id": "a5578a97",
   "metadata": {},
   "outputs": [
    {
     "name": "stdout",
     "output_type": "stream",
     "text": [
      "Name\n",
      "Roll_No\n",
      "Age\n",
      "Place\n"
     ]
    }
   ],
   "source": [
    "#iterating over keys.\n",
    "\n",
    "for key_1 in student_2.keys():\n",
    "    print(key_1)"
   ]
  },
  {
   "cell_type": "code",
   "execution_count": 27,
   "id": "eb59e67c",
   "metadata": {},
   "outputs": [
    {
     "name": "stdout",
     "output_type": "stream",
     "text": [
      "ABSCnhshbbh\n",
      "52\n",
      "28\n",
      "E-City\n"
     ]
    }
   ],
   "source": [
    "#iterating over values\n",
    "for value in student_2.values():\n",
    "    print(value)"
   ]
  },
  {
   "cell_type": "code",
   "execution_count": 28,
   "id": "7e3af1b2",
   "metadata": {},
   "outputs": [
    {
     "name": "stdout",
     "output_type": "stream",
     "text": [
      "Name:ABSCnhshbbh\n",
      "Roll_No:52\n",
      "Age:28\n",
      "Place:E-City\n"
     ]
    }
   ],
   "source": [
    "#iterating over key and value pair\n",
    "\n",
    "for key,value in student_2.items():\n",
    "    print(f\"{key}:{value}\")"
   ]
  },
  {
   "cell_type": "code",
   "execution_count": 30,
   "id": "2f585990",
   "metadata": {},
   "outputs": [
    {
     "name": "stdout",
     "output_type": "stream",
     "text": [
      "{'student_1': {'Name': 'Sanjay', 'Age': 23, 'Roll_No': 14, 'Place': 'Bangalore'}, 'student_2': {'Name': 'kalyan', 'Age': 28, 'Roll_No': 18, 'Place': 'Bangalore'}}\n",
      "dict_items([('student_1', {'Name': 'Sanjay', 'Age': 23, 'Roll_No': 14, 'Place': 'Bangalore'}), ('student_2', {'Name': 'kalyan', 'Age': 28, 'Roll_No': 18, 'Place': 'Bangalore'})])\n"
     ]
    }
   ],
   "source": [
    "#create nested dictionaries\n",
    "\n",
    "students_data = {\n",
    "    \"student_1\":{\"Name\":\"Sanjay\",\"Age\": 23, \"Roll_No\": 14, \"Place\": \"Bangalore\"},\n",
    "    \"student_2\":{\"Name\": \"kalyan\",\"Age\": 28, \"Roll_No\":18, \"Place\": \"Bangalore\"}\n",
    "}\n",
    "\n",
    "print(students_data)\n",
    "print(students_data.items())"
   ]
  },
  {
   "cell_type": "code",
   "execution_count": 34,
   "id": "780284c7",
   "metadata": {},
   "outputs": [
    {
     "name": "stdout",
     "output_type": "stream",
     "text": [
      "student_1:{'Name': 'Sanjay', 'Age': 23, 'Roll_No': 14, 'Place': 'Bangalore'}\n",
      "dict_items([('Name', 'Sanjay'), ('Age', 23), ('Roll_No', 14), ('Place', 'Bangalore')])\n",
      "Name:Sanjay\n",
      "Age:23\n",
      "Roll_No:14\n",
      "Place:Bangalore\n",
      "student_2:{'Name': 'kalyan', 'Age': 28, 'Roll_No': 18, 'Place': 'Bangalore'}\n",
      "dict_items([('Name', 'kalyan'), ('Age', 28), ('Roll_No', 18), ('Place', 'Bangalore')])\n",
      "Name:kalyan\n",
      "Age:28\n",
      "Roll_No:18\n",
      "Place:Bangalore\n"
     ]
    }
   ],
   "source": [
    "#iterative on nested disctionaries\n",
    "\n",
    "for student_id, students_info in students_data.items():\n",
    "    print(f\"{student_id}:{students_info}\")\n",
    "    print(students_info.items())\n",
    "    for key, value in students_info.items():\n",
    "        print(f\"{key}:{value}\")"
   ]
  },
  {
   "cell_type": "code",
   "execution_count": 4,
   "id": "ad91aa97",
   "metadata": {},
   "outputs": [
    {
     "name": "stdout",
     "output_type": "stream",
     "text": [
      "{0: 0, 1: 1, 2: 4, 3: 9, 4: 16, 5: 25, 6: 36, 7: 49, 8: 64, 9: 81}\n",
      "[0, 1, 4, 9, 16, 25, 36, 49, 64, 81]\n",
      "(0, 1, 4, 9, 16, 25, 36, 49, 64, 81)\n"
     ]
    }
   ],
   "source": [
    "# dictionary comprehension\n",
    "\n",
    "numbers = {x:x**2 for x in range(10)}\n",
    "list_comp = [x**2 for x in range(10)] # list comprehension\n",
    "tup_comp = tuple(x**2 for x in range(10))\n",
    "print(numbers)\n",
    "print(list_comp)\n",
    "print(tup_comp)"
   ]
  },
  {
   "cell_type": "code",
   "execution_count": 21,
   "id": "b921c78c",
   "metadata": {},
   "outputs": [
    {
     "name": "stdout",
     "output_type": "stream",
     "text": [
      "<class 'dict'>\n",
      "{1: 1}\n",
      "{1: 1, 2: 1}\n",
      "{1: 1, 2: 0.5}\n",
      "{1: 1, 2: 0.5, 4: 1}\n",
      "{1: 1, 2: 0.5, 4: 1, 3: 1}\n",
      "{1: 1, 2: 0.5, 4: 1, 3: 1, 5: 1}\n",
      "{1: 1, 2: 0.5, 4: 1, 3: 1, 5: 1, 6: 1}\n",
      "{1: 1, 2: 0.5, 4: 0.5, 3: 1, 5: 1, 6: 1}\n",
      "{1: 1, 2: 0.5, 4: 0.5, 3: 0.5, 5: 1, 6: 1}\n",
      "{1: 1, 2: 0.25, 4: 0.5, 3: 0.5, 5: 1, 6: 1}\n",
      "{1: 0.5, 2: 0.25, 4: 0.5, 3: 0.5, 5: 1, 6: 1}\n",
      "{1: 0.5, 2: 0.25, 4: 0.5, 3: 0.5, 5: 1, 6: 1, 'Sanjay': 1}\n",
      "{1: 0.5, 2: 0.25, 4: 0.5, 3: 0.5, 5: 1, 6: 1, 'Sanjay': 0.5}\n",
      "{1: 0.5, 2: 0.25, 4: 0.5, 3: 0.5, 5: 1, 6: 1, 'Sanjay': 0.5}\n"
     ]
    }
   ],
   "source": [
    "# Practical example of dictionary\n",
    "\n",
    "# Use a dictionary to count the frequency of elements in the list.\n",
    "\n",
    "numbers = [1,2,2,4,3,5,6,4,3,2,1,\"Sanjay\",\"Sanjay\"]\n",
    "frequency = {}\n",
    "\n",
    "print(type(frequency))\n",
    "\n",
    "for num in numbers:\n",
    "    if num in frequency:\n",
    "        frequency[num]/= 2\n",
    "        print(frequency)\n",
    "    else:\n",
    "        frequency[num] = 1\n",
    "        print(frequency)\n",
    "\n",
    "print(frequency)"
   ]
  },
  {
   "cell_type": "code",
   "execution_count": 5,
   "id": "6b27f32f",
   "metadata": {},
   "outputs": [
    {
     "name": "stdout",
     "output_type": "stream",
     "text": [
      "{'a': 1, 'b': 2, 'c': 3, 'd': 4}\n",
      "{'d', 'c', 'a', 'b'}\n"
     ]
    }
   ],
   "source": [
    "#merge 2 dictionaries\n",
    "\n",
    "dict_1 = {\"a\":1, \"b\": 2}\n",
    "dict_2 = {\"c\":3, \"d\": 4}\n",
    "\n",
    "merge_dict = {**dict_1, **dict_2}\n",
    "print(merge_dict)\n",
    "merge_dict = {*dict_1, *dict_2}\n",
    "print(merge_dict)"
   ]
  },
  {
   "cell_type": "code",
   "execution_count": null,
   "id": "df0d1f9a",
   "metadata": {},
   "outputs": [],
   "source": []
  }
 ],
 "metadata": {
  "kernelspec": {
   "display_name": "Python 3",
   "language": "python",
   "name": "python3"
  },
  "language_info": {
   "codemirror_mode": {
    "name": "ipython",
    "version": 3
   },
   "file_extension": ".py",
   "mimetype": "text/x-python",
   "name": "python",
   "nbconvert_exporter": "python",
   "pygments_lexer": "ipython3",
   "version": "3.12.0"
  }
 },
 "nbformat": 4,
 "nbformat_minor": 5
}
