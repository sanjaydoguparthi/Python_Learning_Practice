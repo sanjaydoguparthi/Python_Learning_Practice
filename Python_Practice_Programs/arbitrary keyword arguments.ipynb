{
 "cells": [
  {
   "cell_type": "markdown",
   "id": "0bbef7d6",
   "metadata": {},
   "source": [
    "### arbitrary keyword arguments"
   ]
  },
  {
   "cell_type": "code",
   "execution_count": 28,
   "id": "c94839ac",
   "metadata": {},
   "outputs": [
    {
     "name": "stdout",
     "output_type": "stream",
     "text": [
      "{'firstname': 'sanjay', 'secondname2': 'kalyan', 'thirdname3': 'avinash', 'age': 24, 'mobile': 123456789}\n",
      "firstname   : sanjay\n"
     ]
    }
   ],
   "source": [
    "def person(**data):\n",
    "    print(data)\n",
    "    for k,v in data.items():\n",
    "        if k == 'firstname' or  k == 'secondname':\n",
    "             print(k, '  :', v)\n",
    "             \n",
    "\n",
    "\n",
    "\n",
    "        \n",
    "\n",
    "person(firstname='sanjay',secondname2='kalyan',thirdname3='avinash',age=24,mobile=123456789)"
   ]
  },
  {
   "cell_type": "code",
   "execution_count": 2,
   "id": "453a48a0",
   "metadata": {},
   "outputs": [
    {
     "name": "stdout",
     "output_type": "stream",
     "text": [
      "{'num1': 250, 'num2': 230, 'age': 24}\n",
      "num1 : 250\n",
      "num2 : 230\n"
     ]
    }
   ],
   "source": [
    "def numbers(**data):\n",
    "    print(data)\n",
    "    for k , v in data.items():\n",
    "        if k == 'num1' or k == 'num2':\n",
    "            print(k , ':', v)\n",
    "        elif k == 'age':\n",
    "            pass\n",
    "           \n",
    "    \n",
    "\n",
    "\n",
    "numbers(num1 = 250, num2 = 230, age = 24)"
   ]
  },
  {
   "cell_type": "code",
   "execution_count": null,
   "id": "8716ee62",
   "metadata": {},
   "outputs": [
    {
     "name": "stdout",
     "output_type": "stream",
     "text": [
      "{'name': 'sanjay'}\n"
     ]
    }
   ],
   "source": [
    "numbers(name = 'sanjay')"
   ]
  },
  {
   "cell_type": "code",
   "execution_count": null,
   "id": "fae8e613",
   "metadata": {},
   "outputs": [
    {
     "name": "stdout",
     "output_type": "stream",
     "text": [
      "{'state': 'andhra pradesh'}\n"
     ]
    }
   ],
   "source": [
    "numbers(state = 'andhra pradesh' )\n",
    " "
   ]
  },
  {
   "cell_type": "code",
   "execution_count": null,
   "id": "29052b9f",
   "metadata": {},
   "outputs": [],
   "source": []
  }
 ],
 "metadata": {
  "kernelspec": {
   "display_name": "Python 3",
   "language": "python",
   "name": "python3"
  },
  "language_info": {
   "codemirror_mode": {
    "name": "ipython",
    "version": 3
   },
   "file_extension": ".py",
   "mimetype": "text/x-python",
   "name": "python",
   "nbconvert_exporter": "python",
   "pygments_lexer": "ipython3",
   "version": "3.12.0"
  }
 },
 "nbformat": 4,
 "nbformat_minor": 5
}
