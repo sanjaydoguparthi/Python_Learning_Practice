{
 "cells": [
  {
   "cell_type": "code",
   "execution_count": 20,
   "id": "0c9b5782",
   "metadata": {},
   "outputs": [],
   "source": [
    "## let's create a dictionary\n",
    "my_dict = {'name': 'sanjay','age': 12,'city': 'chirala', 'age':1}"
   ]
  },
  {
   "cell_type": "code",
   "execution_count": 12,
   "id": "5db29264",
   "metadata": {},
   "outputs": [],
   "source": [
    "my_dict.update({'cuntry': 'india'})"
   ]
  },
  {
   "cell_type": "code",
   "execution_count": 21,
   "id": "b428d88f",
   "metadata": {},
   "outputs": [
    {
     "data": {
      "text/plain": [
       "{'name': 'sanjay', 'age': 1, 'city': 'chirala'}"
      ]
     },
     "execution_count": 21,
     "metadata": {},
     "output_type": "execute_result"
    }
   ],
   "source": [
    "my_dict"
   ]
  },
  {
   "cell_type": "code",
   "execution_count": 14,
   "id": "300b9b60",
   "metadata": {},
   "outputs": [
    {
     "data": {
      "text/plain": [
       "'india'"
      ]
     },
     "execution_count": 14,
     "metadata": {},
     "output_type": "execute_result"
    }
   ],
   "source": [
    "my_dict.pop('cuntry')"
   ]
  },
  {
   "cell_type": "code",
   "execution_count": 15,
   "id": "9992b877",
   "metadata": {},
   "outputs": [
    {
     "data": {
      "text/plain": [
       "('city', 'chirala')"
      ]
     },
     "execution_count": 15,
     "metadata": {},
     "output_type": "execute_result"
    }
   ],
   "source": [
    "my_dict.popitem()"
   ]
  },
  {
   "cell_type": "code",
   "execution_count": 6,
   "id": "3e4fb5d4",
   "metadata": {},
   "outputs": [],
   "source": [
    "my_dict.update({'state': 'andhra pradesh'}) "
   ]
  },
  {
   "cell_type": "code",
   "execution_count": 7,
   "id": "21f81737",
   "metadata": {},
   "outputs": [
    {
     "data": {
      "text/plain": [
       "{'name': 'sanjay', 'age': '24', 'state': 'andhra pradesh'}"
      ]
     },
     "execution_count": 7,
     "metadata": {},
     "output_type": "execute_result"
    }
   ],
   "source": [
    "my_dict"
   ]
  },
  {
   "cell_type": "code",
   "execution_count": 8,
   "id": "33436e10",
   "metadata": {},
   "outputs": [],
   "source": [
    "my_dict['state2'] = 'telangana'"
   ]
  },
  {
   "cell_type": "code",
   "execution_count": 9,
   "id": "982faa01",
   "metadata": {},
   "outputs": [
    {
     "data": {
      "text/plain": [
       "{'name': 'sanjay',\n",
       " 'age': '24',\n",
       " 'state': 'andhra pradesh',\n",
       " 'state2': 'telangana'}"
      ]
     },
     "execution_count": 9,
     "metadata": {},
     "output_type": "execute_result"
    }
   ],
   "source": [
    "my_dict"
   ]
  },
  {
   "cell_type": "code",
   "execution_count": 10,
   "id": "ebb8dc57",
   "metadata": {},
   "outputs": [],
   "source": [
    "del my_dict['age']"
   ]
  },
  {
   "cell_type": "code",
   "execution_count": 17,
   "id": "f1810752",
   "metadata": {},
   "outputs": [
    {
     "data": {
      "text/plain": [
       "dict_keys(['name', 'state', 'state2'])"
      ]
     },
     "execution_count": 17,
     "metadata": {},
     "output_type": "execute_result"
    }
   ],
   "source": [
    "my_dict.keys()\n"
   ]
  },
  {
   "cell_type": "code",
   "execution_count": 16,
   "id": "74402c2c",
   "metadata": {},
   "outputs": [
    {
     "data": {
      "text/plain": [
       "dict_values(['sanjay', 'andhra pradesh', 'telangana'])"
      ]
     },
     "execution_count": 16,
     "metadata": {},
     "output_type": "execute_result"
    }
   ],
   "source": [
    "my_dict.values()"
   ]
  },
  {
   "cell_type": "code",
   "execution_count": 18,
   "id": "bb03a3eb",
   "metadata": {},
   "outputs": [],
   "source": [
    "## add a new dictionary to my_dict\n",
    "my_dict.update({'address': {'street': 'vinayaka street', 'city': 'chirala'}})"
   ]
  },
  {
   "cell_type": "code",
   "execution_count": 19,
   "id": "e6c198ce",
   "metadata": {},
   "outputs": [
    {
     "data": {
      "text/plain": [
       "{'name': 'sanjay',\n",
       " 'state': 'andhra pradesh',\n",
       " 'state2': 'telangana',\n",
       " 'address': {'street': 'vinayaka street', 'city': 'chirala'}}"
      ]
     },
     "execution_count": 19,
     "metadata": {},
     "output_type": "execute_result"
    }
   ],
   "source": [
    "my_dict"
   ]
  },
  {
   "cell_type": "code",
   "execution_count": 20,
   "id": "f9b6e136",
   "metadata": {},
   "outputs": [],
   "source": [
    "my_dict['city'] = 'chirala'"
   ]
  },
  {
   "cell_type": "code",
   "execution_count": 21,
   "id": "240fc0ec",
   "metadata": {},
   "outputs": [
    {
     "data": {
      "text/plain": [
       "{'name': 'sanjay',\n",
       " 'state': 'andhra pradesh',\n",
       " 'state2': 'telangana',\n",
       " 'address': {'street': 'vinayaka street', 'city': 'chirala'},\n",
       " 'city': 'chirala'}"
      ]
     },
     "execution_count": 21,
     "metadata": {},
     "output_type": "execute_result"
    }
   ],
   "source": [
    "my_dict"
   ]
  },
  {
   "cell_type": "code",
   "execution_count": null,
   "id": "233ca45a",
   "metadata": {},
   "outputs": [],
   "source": []
  }
 ],
 "metadata": {
  "kernelspec": {
   "display_name": "Python 3",
   "language": "python",
   "name": "python3"
  },
  "language_info": {
   "codemirror_mode": {
    "name": "ipython",
    "version": 3
   },
   "file_extension": ".py",
   "mimetype": "text/x-python",
   "name": "python",
   "nbconvert_exporter": "python",
   "pygments_lexer": "ipython3",
   "version": "3.12.0"
  }
 },
 "nbformat": 4,
 "nbformat_minor": 5
}
