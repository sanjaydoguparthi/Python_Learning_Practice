{
 "cells": [
  {
   "cell_type": "markdown",
   "id": "6e9fbf22",
   "metadata": {},
   "source": [
    "### user input"
   ]
  },
  {
   "cell_type": "code",
   "execution_count": 1,
   "id": "233d9d87",
   "metadata": {},
   "outputs": [
    {
     "name": "stdout",
     "output_type": "stream",
     "text": [
      "my name is : \n",
      "35\n"
     ]
    }
   ],
   "source": [
    "print('my name is : ')\n",
    "x = input()\n",
    "print(x)"
   ]
  },
  {
   "cell_type": "code",
   "execution_count": 2,
   "id": "8d38f6aa",
   "metadata": {},
   "outputs": [
    {
     "name": "stdout",
     "output_type": "stream",
     "text": [
      ".\n"
     ]
    }
   ],
   "source": [
    "x = input('what is your name:  ')\n",
    "print(x)"
   ]
  },
  {
   "cell_type": "code",
   "execution_count": 4,
   "id": "c7ce2d00",
   "metadata": {},
   "outputs": [
    {
     "name": "stdout",
     "output_type": "stream",
     "text": [
      "results : 33\n"
     ]
    }
   ],
   "source": [
    "x = input('enter 1st number : ')\n",
    "y = input('enter 2nd number : ')\n",
    "a = int(x)\n",
    "b = int(y)\n",
    "z = a+b\n",
    "print('results :', z)"
   ]
  },
  {
   "cell_type": "code",
   "execution_count": null,
   "id": "4319e331",
   "metadata": {},
   "outputs": [
    {
     "name": "stdout",
     "output_type": "stream",
     "text": [
      "results : 121\n"
     ]
    }
   ],
   "source": [
    "x = int(input('enter 1st number : '))\n",
    "y = int(input('enter 2nd number : '))\n",
    "z = x+y\n",
    "print('results :', z)"
   ]
  },
  {
   "cell_type": "code",
   "execution_count": null,
   "id": "de165339",
   "metadata": {},
   "outputs": [
    {
     "name": "stdout",
     "output_type": "stream",
     "text": [
      "please enter single charecter only\n",
      "sanjay\n",
      "please enter single charecter only\n",
      "vinay\n",
      "please enter single charecter only\n",
      "vamsi\n",
      "please enter single charecter only\n",
      "v\n"
     ]
    }
   ],
   "source": [
    "x = input('enter any charecter:')\n",
    "while len(x) != 1:\n",
    "    print('please enter single charecter only')\n",
    "    x = input('enter any charecter: ')\n",
    "    print(x)"
   ]
  },
  {
   "cell_type": "markdown",
   "id": "ece77160",
   "metadata": {},
   "source": [
    "### functions"
   ]
  },
  {
   "cell_type": "code",
   "execution_count": 5,
   "id": "b61a31f5",
   "metadata": {},
   "outputs": [
    {
     "name": "stdout",
     "output_type": "stream",
     "text": [
      "hello kalyan\n",
      "good morning\n",
      "what are you doing\n",
      "when do you work right now\n"
     ]
    }
   ],
   "source": [
    "def sayhello(): # create function\n",
    "    print('hello kalyan')\n",
    "    print('good morning')\n",
    "\n",
    "sayhello() # call the function\n",
    "print('what are you doing')\n",
    "print('when do you work right now')"
   ]
  },
  {
   "cell_type": "code",
   "execution_count": 6,
   "id": "18ac53ee",
   "metadata": {},
   "outputs": [
    {
     "name": "stdout",
     "output_type": "stream",
     "text": [
      "hello kalyan\n",
      "good morning\n"
     ]
    }
   ],
   "source": [
    "sayhello()"
   ]
  },
  {
   "cell_type": "code",
   "execution_count": null,
   "id": "2ffe45c0",
   "metadata": {},
   "outputs": [
    {
     "name": "stdout",
     "output_type": "stream",
     "text": [
      "hello avinash\n",
      "good morning\n",
      "hello sanjay\n",
      "good morning\n",
      "hello kalyan\n",
      "good morning\n",
      "hello user\n",
      "good morning\n"
     ]
    }
   ],
   "source": [
    "def sayhello(name= 'user'):# function name as a argument\n",
    "    print('hello',name)\n",
    "    print('good morning')\n",
    "\n",
    "user_name = ('avinash')\n",
    "sayhello(user_name)\n",
    "sayhello('sanjay')\n",
    "sayhello('kalyan')\n",
    "sayhello()"
   ]
  },
  {
   "cell_type": "code",
   "execution_count": null,
   "id": "f1db3c2d",
   "metadata": {},
   "outputs": [
    {
     "name": "stdout",
     "output_type": "stream",
     "text": [
      "hello kalyan\n",
      "good morning\n"
     ]
    }
   ],
   "source": [
    "sayhello()"
   ]
  },
  {
   "cell_type": "code",
   "execution_count": null,
   "id": "60952017",
   "metadata": {},
   "outputs": [
    {
     "name": "stdout",
     "output_type": "stream",
     "text": [
      "result : 8633\n",
      "result : 2430\n",
      "result : 3640\n"
     ]
    }
   ],
   "source": [
    "def add(num1,num2):  ##  add number of arguments\n",
    "    result = num1*num2\n",
    "    print('result :', result)\n",
    "add(97,89)\n",
    "add(54,45)\n",
    "add(65,56)"
   ]
  },
  {
   "cell_type": "code",
   "execution_count": null,
   "id": "0566a22e",
   "metadata": {},
   "outputs": [
    {
     "name": "stdout",
     "output_type": "stream",
     "text": [
      "result : 1300\n"
     ]
    }
   ],
   "source": [
    "add( 25,52)"
   ]
  },
  {
   "cell_type": "code",
   "execution_count": null,
   "id": "2560dfc6",
   "metadata": {},
   "outputs": [
    {
     "name": "stdout",
     "output_type": "stream",
     "text": [
      "result: 153\n",
      "22\n"
     ]
    }
   ],
   "source": [
    "def getsum(*x):## list of arguments\n",
    "    result = 0\n",
    "    for a in x:\n",
    "        result += a\n",
    "    print('result:',result)\n",
    "    print(x[3])\n",
    "getsum(25,5,33,22,15,12,31,10) "
   ]
  },
  {
   "cell_type": "code",
   "execution_count": null,
   "id": "be52638a",
   "metadata": {},
   "outputs": [
    {
     "name": "stdout",
     "output_type": "stream",
     "text": [
      "result: 16\n",
      "6\n"
     ]
    }
   ],
   "source": [
    "getsum(2,3,5,6,)"
   ]
  },
  {
   "cell_type": "code",
   "execution_count": null,
   "id": "32155913",
   "metadata": {},
   "outputs": [
    {
     "name": "stdout",
     "output_type": "stream",
     "text": [
      "hallo sanjay\n",
      "whats your age\n",
      " my age is :  24\n",
      "i am from india\n",
      ".\n",
      "\n",
      "hallo kalyan\n",
      "whats your age\n",
      " my age is :  28\n",
      "i am from india\n"
     ]
    }
   ],
   "source": [
    "def sayhello(name,age,country = 'india'):## formal arguments\n",
    "    print('hallo', name)\n",
    "    print('whats your age')\n",
    "    print(' my age is : ',age)\n",
    "    print('i am from',country)\n",
    "\n",
    "sayhello('sanjay',24) # actual arguments\n",
    "print('.\\n')\n",
    "sayhello('kalyan',28,'india')"
   ]
  },
  {
   "cell_type": "code",
   "execution_count": null,
   "id": "27efaf5c",
   "metadata": {},
   "outputs": [
    {
     "name": "stdout",
     "output_type": "stream",
     "text": [
      "result :  18\n",
      "result :  6\n",
      "result :  72\n",
      "result :  2.0\n"
     ]
    }
   ],
   "source": [
    "def adding(num1,num2):\n",
    "    add = num1+num2\n",
    "    subtraction = num1-num2\n",
    "    multiplication = num1*num2\n",
    "    division = num1/num2\n",
    "    print('result : ', add)\n",
    "    print('result : ', subtraction)\n",
    "    print('result : ', multiplication)\n",
    "    print('result : ', division)\n",
    "\n",
    "adding(12,6)"
   ]
  },
  {
   "cell_type": "code",
   "execution_count": null,
   "id": "54b5056f",
   "metadata": {},
   "outputs": [
    {
     "name": "stdout",
     "output_type": "stream",
     "text": [
      "result: 189.4\n"
     ]
    }
   ],
   "source": [
    "def sum(*x):## list of arguments\n",
    "    result = 0\n",
    "    for a in x:\n",
    "        result += a\n",
    "    print('result:',result)\n",
    "\n",
    "sum(25.3,5.5,3.3,2.2,15,20,35,23,56,4.1) "
   ]
  },
  {
   "cell_type": "code",
   "execution_count": 7,
   "id": "ed4a9955",
   "metadata": {},
   "outputs": [
    {
     "name": "stdout",
     "output_type": "stream",
     "text": [
      "hello kalyan\n",
      "good morning\n"
     ]
    }
   ],
   "source": [
    "sayhello()"
   ]
  },
  {
   "cell_type": "code",
   "execution_count": null,
   "id": "2148fe17",
   "metadata": {},
   "outputs": [],
   "source": []
  }
 ],
 "metadata": {
  "kernelspec": {
   "display_name": "Python 3",
   "language": "python",
   "name": "python3"
  },
  "language_info": {
   "codemirror_mode": {
    "name": "ipython",
    "version": 3
   },
   "file_extension": ".py",
   "mimetype": "text/x-python",
   "name": "python",
   "nbconvert_exporter": "python",
   "pygments_lexer": "ipython3",
   "version": "3.12.0"
  }
 },
 "nbformat": 4,
 "nbformat_minor": 5
}
