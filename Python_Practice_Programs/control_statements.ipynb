{
 "cells": [
  {
   "cell_type": "markdown",
   "id": "ae2ea9b9",
   "metadata": {},
   "source": [
    "### if_statements"
   ]
  },
  {
   "cell_type": "code",
   "execution_count": 1,
   "id": "76607780",
   "metadata": {},
   "outputs": [
    {
     "name": "stdout",
     "output_type": "stream",
     "text": [
      "a == b is False\n",
      "a != b is True\n"
     ]
    }
   ],
   "source": [
    "# rorational operators\n",
    "a = 10\n",
    "b = 20 \n",
    "# == equal to\n",
    "# != not equal to\n",
    "print(\"a == b is\", a == b)\n",
    "print(\"a != b is\", a != b)"
   ]
  },
  {
   "cell_type": "code",
   "execution_count": 1,
   "id": "abd9b75e",
   "metadata": {},
   "outputs": [
    {
     "name": "stdout",
     "output_type": "stream",
     "text": [
      "a > b is True\n",
      "a < b is False\n"
     ]
    }
   ],
   "source": [
    "a = 21\n",
    "b = 20  \n",
    "# > greater than\n",
    "# < less than\n",
    "print(\"a > b is\", a > b)\n",
    "print(\"a < b is\", a < b)"
   ]
  },
  {
   "cell_type": "code",
   "execution_count": 3,
   "id": "9b2f579f",
   "metadata": {},
   "outputs": [
    {
     "name": "stdout",
     "output_type": "stream",
     "text": [
      "a >= b is False\n",
      "a <= b is True\n"
     ]
    }
   ],
   "source": [
    "a= 10\n",
    "b = 20\n",
    "# >= greater than or equal to\n",
    "# <= less than or equal to\n",
    "print(\"a >= b is\", a >= b)\n",
    "print(\"a <= b is\", a <= b)"
   ]
  },
  {
   "cell_type": "code",
   "execution_count": 4,
   "id": "6a0636b4",
   "metadata": {},
   "outputs": [
    {
     "name": "stdout",
     "output_type": "stream",
     "text": [
      "You are 25 years old\n",
      "You are not 25 years old\n",
      "yes, you are 2 years older than me\n",
      "You are 2 years older than me\n",
      "you are not elegible for voting\n",
      "you are elegible for voting\n"
     ]
    }
   ],
   "source": [
    "age = 25\n",
    "if(age == 25):\n",
    "    print(\"You are 25 years old\")   # the condition evalution is True\n",
    "else:\n",
    "    print(\"You are not 25 years old\")# \n",
    "if(age != 25):\n",
    "        print(\"You are 25 years old\")# the condition evalution is False\n",
    "else:\n",
    "    print(\"You are not 25 years old\") # the condition evalution is True\n",
    "if(age < 23):\n",
    "    print(\"You are 2 years younger then me\") # the condition evalution is False\n",
    "else:\n",
    "    print(\"yes, you are 2 years older than me\") # the condition evalution is True\n",
    "if(age > 23):\n",
    "    print(\"You are 2 years older than me\") # the condition evalution is True\n",
    "else:\n",
    "    print(\"yes, i am  2 years younger than you\") # the condition evalution is False\n",
    "if(age <= 17):\n",
    "    print(\"you are elegible for voting\") # the condition evalution is False\n",
    "else:\n",
    "    print(\"you are not elegible for voting\") # the condition evalution is True\n",
    "if(age >= 18):  \n",
    "    print(\"you are elegible for voting\") # the condition evalution is True  \n",
    "else:\n",
    "    print(\"you are not elegible for voting\") # the condition evalution is False"
   ]
  },
  {
   "cell_type": "code",
   "execution_count": 3,
   "id": "81d229e9",
   "metadata": {},
   "outputs": [
    {
     "name": "stdout",
     "output_type": "stream",
     "text": [
      "exam results\n",
      "you pass the exam:\n",
      "None of the above\n"
     ]
    }
   ],
   "source": [
    "print('exam results')\n",
    "marks = 51\n",
    "if marks == 50:\n",
    "    print('you are promoted marks:', marks)\n",
    "elif marks > 40 and marks<=100:\n",
    "    print('you pass the exam:')\n",
    "    if marks >= 45 and marks <=50:\n",
    "        print('you have good marks:',marks)\n",
    "    elif marks >60 and marks <=80:\n",
    "        print('you have a great marks:',marks)   \n",
    "    elif marks >= 81 and marks <=96:\n",
    "        print('you got a best marks:',marks)\n",
    "    elif marks>96 and marks <= 100:\n",
    "        print('you got the first rank:', marks)\n",
    "    else:\n",
    "        print(\"None of the above\")"
   ]
  },
  {
   "cell_type": "code",
   "execution_count": 5,
   "id": "328b8f9f",
   "metadata": {},
   "outputs": [
    {
     "name": "stdout",
     "output_type": "stream",
     "text": [
      "exam results\n",
      "you pass the exam\n",
      "you have good marks: 90\n"
     ]
    }
   ],
   "source": [
    "print(\"exam results\")\n",
    "marks = 90\n",
    "if marks == 36:\n",
    "    print(\"you are pramoting the next class\")\n",
    "elif marks > 80:\n",
    "    print('you pass the exam')\n",
    "    if marks > 80:\n",
    "        print('you have good marks:',marks)\n",
    "else:\n",
    "    print('you fail the exam')\n"
   ]
  },
  {
   "cell_type": "code",
   "execution_count": 16,
   "id": "043b62a1",
   "metadata": {},
   "outputs": [
    {
     "data": {
      "text/plain": [
       "False"
      ]
     },
     "execution_count": 16,
     "metadata": {},
     "output_type": "execute_result"
    }
   ],
   "source": [
    " ## conditional operators\n",
    "age = 25\n",
    "age == 25\n",
    "age != 25   \n",
    "age < 23\n",
    "age > 23\n",
    "age <= 17\n",
    "age >= 18\n",
    "# Logical operators\n",
    "a = True\n",
    "b = False   \n",
    "# and operator\n",
    "# or operator\n",
    "# not operator\n",
    "\n",
    "a = True\n",
    "b = True\n",
    "(a and b)\n",
    "\n",
    "a = True\n",
    "b = False\n",
    "(a or b)\n",
    "\n",
    "a = True\n",
    "(not a)\n"
   ]
  },
  {
   "cell_type": "code",
   "execution_count": 7,
   "id": "5847be2a",
   "metadata": {},
   "outputs": [
    {
     "data": {
      "text/plain": [
       "True"
      ]
     },
     "execution_count": 7,
     "metadata": {},
     "output_type": "execute_result"
    }
   ],
   "source": [
    "a = True\n",
    "b = True\n",
    "(a and b)\n"
   ]
  },
  {
   "cell_type": "code",
   "execution_count": 18,
   "id": "2acf1025",
   "metadata": {},
   "outputs": [
    {
     "data": {
      "text/plain": [
       "True"
      ]
     },
     "execution_count": 18,
     "metadata": {},
     "output_type": "execute_result"
    }
   ],
   "source": [
    "a = True\n",
    "b = False\n",
    "(a or b)"
   ]
  },
  {
   "cell_type": "code",
   "execution_count": 1,
   "id": "83935b61",
   "metadata": {},
   "outputs": [
    {
     "name": "stdout",
     "output_type": "stream",
     "text": [
      "a and b is True\n"
     ]
    }
   ],
   "source": [
    "## and, or, not operators\n",
    "\n",
    "## and operator\n",
    "# The and operator returns True if both operands are True.\n",
    "a = True\n",
    "b = True\n",
    "print(\"a and b is\", a and b)"
   ]
  },
  {
   "cell_type": "markdown",
   "id": "cbca01b5",
   "metadata": {},
   "source": [
    "### while loop"
   ]
  },
  {
   "cell_type": "code",
   "execution_count": 32,
   "id": "ce8791f6",
   "metadata": {},
   "outputs": [
    {
     "name": "stdout",
     "output_type": "stream",
     "text": [
      "1 hello,sanjay\n",
      "2 hello,sanjay\n",
      "3 hello,sanjay\n",
      "c value is 3\n",
      "5 hello,sanjay\n",
      "6 hello,sanjay\n"
     ]
    }
   ],
   "source": [
    "c = 0\n",
    "while c < 6:\n",
    "    c += 1\n",
    "    if c == 4:\n",
    "        print('c value is 3')\n",
    "        continue\n",
    "    print(c,'hello,sanjay')\n",
    "    \n",
    "    \n",
    "        "
   ]
  },
  {
   "cell_type": "markdown",
   "id": "45545d15",
   "metadata": {},
   "source": [
    "### for loop"
   ]
  },
  {
   "cell_type": "code",
   "execution_count": 7,
   "id": "4afc09aa",
   "metadata": {},
   "outputs": [
    {
     "name": "stdout",
     "output_type": "stream",
     "text": [
      "1\n",
      "2\n",
      "3\n",
      "4\n",
      "5\n"
     ]
    }
   ],
   "source": [
    "for c in range(1, 6):\n",
    "    print(c)"
   ]
  },
  {
   "cell_type": "code",
   "execution_count": 8,
   "id": "19e95614",
   "metadata": {},
   "outputs": [
    {
     "name": "stdout",
     "output_type": "stream",
     "text": [
      "sanjay\n",
      "kalyan\n",
      "vikram\n",
      "harish\n",
      "ravi\n"
     ]
    }
   ],
   "source": [
    "persons = ['sanjay','kalyan','vikram','harish','ravi',]\n",
    "for name in persons:\n",
    "    print(name)"
   ]
  },
  {
   "cell_type": "code",
   "execution_count": 9,
   "id": "7a1b0b26",
   "metadata": {},
   "outputs": [
    {
     "name": "stdout",
     "output_type": "stream",
     "text": [
      "k\n",
      "a\n",
      "l\n",
      "y\n",
      "a\n",
      "n\n",
      " \n",
      "k\n",
      "u\n",
      "m\n",
      "a\n",
      "r\n"
     ]
    }
   ],
   "source": [
    "name = 'kalyan kumar'\n",
    "for x in name:\n",
    "    print(x)"
   ]
  },
  {
   "cell_type": "code",
   "execution_count": 10,
   "id": "4de0d269",
   "metadata": {},
   "outputs": [
    {
     "name": "stdout",
     "output_type": "stream",
     "text": [
      "sanjay\n",
      "kalyan\n",
      "sunil\n",
      "anil\n",
      "vinay\n",
      "sameer\n",
      "harish\n"
     ]
    }
   ],
   "source": [
    "people = ['sanjay','kalyan','sunil','anil','vinay','rahul','sameer','harish',]\n",
    "for x in people:\n",
    "    if x == 'rahul':\n",
    "        continue\n",
    "    print(x)"
   ]
  },
  {
   "cell_type": "code",
   "execution_count": 11,
   "id": "e48ee60e",
   "metadata": {},
   "outputs": [
    {
     "name": "stdout",
     "output_type": "stream",
     "text": [
      "sanjay\n",
      "kalyan\n",
      "sunil\n",
      "anil\n",
      "vinay\n",
      "rahul\n",
      "sameer\n",
      "harish\n",
      "rohith\n"
     ]
    }
   ],
   "source": [
    "people = ['sanjay','kalyan','sunil','anil','vinay','rahul','sameer','harish']\n",
    "for x in people:\n",
    "    print(x)\n",
    "else:\n",
    "    print('rohith')"
   ]
  },
  {
   "cell_type": "code",
   "execution_count": 12,
   "id": "3383574f",
   "metadata": {},
   "outputs": [
    {
     "name": "stdout",
     "output_type": "stream",
     "text": [
      "sanjay\n",
      "vinay\n",
      "arjun\n"
     ]
    }
   ],
   "source": [
    "people = ['sanjay','vinay','arjun','avinash','sai','vinay']\n",
    "for people in people:\n",
    "    if people == 'avinash':\n",
    "        break\n",
    "    print(people)"
   ]
  },
  {
   "cell_type": "code",
   "execution_count": null,
   "id": "a2a8a624",
   "metadata": {},
   "outputs": [],
   "source": []
  }
 ],
 "metadata": {
  "kernelspec": {
   "display_name": "Python 3",
   "language": "python",
   "name": "python3"
  },
  "language_info": {
   "codemirror_mode": {
    "name": "ipython",
    "version": 3
   },
   "file_extension": ".py",
   "mimetype": "text/x-python",
   "name": "python",
   "nbconvert_exporter": "python",
   "pygments_lexer": "ipython3",
   "version": "3.12.0"
  }
 },
 "nbformat": 4,
 "nbformat_minor": 5
}
