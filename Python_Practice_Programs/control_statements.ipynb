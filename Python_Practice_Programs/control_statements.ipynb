{
 "cells": [
  {
   "cell_type": "markdown",
   "id": "ae2ea9b9",
   "metadata": {},
   "source": [
    "### if_statements"
   ]
  },
  {
   "cell_type": "code",
   "execution_count": 1,
   "id": "76607780",
   "metadata": {},
   "outputs": [
    {
     "name": "stdout",
     "output_type": "stream",
     "text": [
      "a == b is False\n",
      "a != b is True\n"
     ]
    }
   ],
   "source": [
    "# rorational operators\n",
    "a = 10\n",
    "b = 20 \n",
    "# == equal to\n",
    "# != not equal to\n",
    "print(\"a == b is\", a == b)\n",
    "print(\"a != b is\", a != b)"
   ]
  },
  {
   "cell_type": "code",
   "execution_count": 1,
   "id": "abd9b75e",
   "metadata": {},
   "outputs": [
    {
     "name": "stdout",
     "output_type": "stream",
     "text": [
      "a > b is True\n",
      "a < b is False\n"
     ]
    }
   ],
   "source": [
    "a = 21\n",
    "b = 20  \n",
    "# > greater than\n",
    "# < less than\n",
    "print(\"a > b is\", a > b)\n",
    "print(\"a < b is\", a < b)"
   ]
  },
  {
   "cell_type": "code",
   "execution_count": 3,
   "id": "9b2f579f",
   "metadata": {},
   "outputs": [
    {
     "name": "stdout",
     "output_type": "stream",
     "text": [
      "a >= b is False\n",
      "a <= b is True\n"
     ]
    }
   ],
   "source": [
    "a= 10\n",
    "b = 20\n",
    "# >= greater than or equal to\n",
    "# <= less than or equal to\n",
    "print(\"a >= b is\", a >= b)\n",
    "print(\"a <= b is\", a <= b)"
   ]
  },
  {
   "cell_type": "code",
   "execution_count": 4,
   "id": "6a0636b4",
   "metadata": {},
   "outputs": [
    {
     "name": "stdout",
     "output_type": "stream",
     "text": [
      "You are 25 years old\n",
      "You are not 25 years old\n",
      "yes, you are 2 years older than me\n",
      "You are 2 years older than me\n",
      "you are not elegible for voting\n",
      "you are elegible for voting\n"
     ]
    }
   ],
   "source": [
    "age = 25\n",
    "if(age == 25):\n",
    "    print(\"You are 25 years old\")   # the condition evalution is True\n",
    "else:\n",
    "    print(\"You are not 25 years old\")# \n",
    "if(age != 25):\n",
    "        print(\"You are 25 years old\")# the condition evalution is False\n",
    "else:\n",
    "    print(\"You are not 25 years old\") # the condition evalution is True\n",
    "if(age < 23):\n",
    "    print(\"You are 2 years younger then me\") # the condition evalution is False\n",
    "else:\n",
    "    print(\"yes, you are 2 years older than me\") # the condition evalution is True\n",
    "if(age > 23):\n",
    "    print(\"You are 2 years older than me\") # the condition evalution is True\n",
    "else:\n",
    "    print(\"yes, i am  2 years younger than you\") # the condition evalution is False\n",
    "if(age <= 17):\n",
    "    print(\"you are elegible for voting\") # the condition evalution is False\n",
    "else:\n",
    "    print(\"you are not elegible for voting\") # the condition evalution is True\n",
    "if(age >= 18):  \n",
    "    print(\"you are elegible for voting\") # the condition evalution is True  \n",
    "else:\n",
    "    print(\"you are not elegible for voting\") # the condition evalution is False"
   ]
  },
  {
   "cell_type": "code",
   "execution_count": 3,
   "id": "81d229e9",
   "metadata": {},
   "outputs": [
    {
     "name": "stdout",
     "output_type": "stream",
     "text": [
      "exam results\n",
      "you pass the exam:\n",
      "None of the above\n"
     ]
    }
   ],
   "source": [
    "print('exam results')\n",
    "marks = 51\n",
    "if marks == 50:\n",
    "    print('you are promoted marks:', marks)\n",
    "elif marks > 40 and marks<=100:\n",
    "    print('you pass the exam:')\n",
    "    if marks >= 45 and marks <=50:\n",
    "        print('you have good marks:',marks)\n",
    "    elif marks >60 and marks <=80:\n",
    "        print('you have a great marks:',marks)   \n",
    "    elif marks >= 81 and marks <=96:\n",
    "        print('you got a best marks:',marks)\n",
    "    elif marks>96 and marks <= 100:\n",
    "        print('you got the first rank:', marks)\n",
    "    else:\n",
    "        print(\"None of the above\")"
   ]
  },
  {
   "cell_type": "code",
   "execution_count": 5,
   "id": "328b8f9f",
   "metadata": {},
   "outputs": [
    {
     "name": "stdout",
     "output_type": "stream",
     "text": [
      "exam results\n",
      "you pass the exam\n",
      "you have good marks: 90\n"
     ]
    }
   ],
   "source": [
    "print(\"exam results\")\n",
    "marks = 90\n",
    "if marks == 36:\n",
    "    print(\"you are pramoting the next class\")\n",
    "elif marks > 80:\n",
    "    print('you pass the exam')\n",
    "    if marks > 80:\n",
    "        print('you have good marks:',marks)\n",
    "else:\n",
    "    print('you fail the exam')\n"
   ]
  },
  {
   "cell_type": "code",
   "execution_count": 16,
   "id": "043b62a1",
   "metadata": {},
   "outputs": [
    {
     "data": {
      "text/plain": [
       "False"
      ]
     },
     "execution_count": 16,
     "metadata": {},
     "output_type": "execute_result"
    }
   ],
   "source": [
    " ## conditional operators\n",
    "age = 25\n",
    "age == 25\n",
    "age != 25   \n",
    "age < 23\n",
    "age > 23\n",
    "age <= 17\n",
    "age >= 18\n",
    "# Logical operators\n",
    "a = True\n",
    "b = False   \n",
    "# and operator\n",
    "# or operator\n",
    "# not operator\n",
    "\n",
    "a = True\n",
    "b = True\n",
    "(a and b)\n",
    "\n",
    "a = True\n",
    "b = False\n",
    "(a or b)\n",
    "\n",
    "a = True\n",
    "(not a)\n"
   ]
  },
  {
   "cell_type": "code",
   "execution_count": 7,
   "id": "5847be2a",
   "metadata": {},
   "outputs": [
    {
     "data": {
      "text/plain": [
       "True"
      ]
     },
     "execution_count": 7,
     "metadata": {},
     "output_type": "execute_result"
    }
   ],
   "source": [
    "a = True\n",
    "b = True\n",
    "(a and b)\n"
   ]
  },
  {
   "cell_type": "code",
   "execution_count": 18,
   "id": "2acf1025",
   "metadata": {},
   "outputs": [
    {
     "data": {
      "text/plain": [
       "True"
      ]
     },
     "execution_count": 18,
     "metadata": {},
     "output_type": "execute_result"
    }
   ],
   "source": [
    "a = True\n",
    "b = False\n",
    "(a or b)"
   ]
  },
  {
   "cell_type": "code",
   "execution_count": 1,
   "id": "83935b61",
   "metadata": {},
   "outputs": [
    {
     "name": "stdout",
     "output_type": "stream",
     "text": [
      "a and b is True\n"
     ]
    }
   ],
   "source": [
    "## and, or, not operators\n",
    "\n",
    "## and operator\n",
    "# The and operator returns True if both operands are True.\n",
    "a = True\n",
    "b = True\n",
    "print(\"a and b is\", a and b)"
   ]
  },
  {
   "cell_type": "markdown",
   "id": "cbca01b5",
   "metadata": {},
   "source": [
    "### while loop"
   ]
  },
  {
   "cell_type": "code",
   "execution_count": 32,
   "id": "ce8791f6",
   "metadata": {},
   "outputs": [
    {
     "name": "stdout",
     "output_type": "stream",
     "text": [
      "1 hello,sanjay\n",
      "2 hello,sanjay\n",
      "3 hello,sanjay\n",
      "c value is 3\n",
      "5 hello,sanjay\n",
      "6 hello,sanjay\n"
     ]
    }
   ],
   "source": [
    "c = 0\n",
    "while c < 6:\n",
    "    c += 1\n",
    "    if c == 4:\n",
    "        print('c value is 3')\n",
    "        continue\n",
    "    print(c,'hello,sanjay')\n",
    "    \n",
    "    \n",
    "        "
   ]
  },
  {
   "cell_type": "markdown",
   "id": "45545d15",
   "metadata": {},
   "source": [
    "### for loop"
   ]
  },
  {
   "cell_type": "code",
   "execution_count": 7,
   "id": "4afc09aa",
   "metadata": {},
   "outputs": [
    {
     "name": "stdout",
     "output_type": "stream",
     "text": [
      "1\n",
      "2\n",
      "3\n",
      "4\n",
      "5\n"
     ]
    }
   ],
   "source": [
    "for c in range(1, 6):\n",
    "    print(c)"
   ]
  },
  {
   "cell_type": "code",
   "execution_count": 8,
   "id": "19e95614",
   "metadata": {},
   "outputs": [
    {
     "name": "stdout",
     "output_type": "stream",
     "text": [
      "sanjay\n",
      "kalyan\n",
      "vikram\n",
      "harish\n",
      "ravi\n"
     ]
    }
   ],
   "source": [
    "persons = ['sanjay','kalyan','vikram','harish','ravi',]\n",
    "for name in persons:\n",
    "    print(name)"
   ]
  },
  {
   "cell_type": "code",
   "execution_count": 9,
   "id": "7a1b0b26",
   "metadata": {},
   "outputs": [
    {
     "name": "stdout",
     "output_type": "stream",
     "text": [
      "k\n",
      "a\n",
      "l\n",
      "y\n",
      "a\n",
      "n\n",
      " \n",
      "k\n",
      "u\n",
      "m\n",
      "a\n",
      "r\n"
     ]
    }
   ],
   "source": [
    "name = 'kalyan kumar'\n",
    "for x in name:\n",
    "    print(x)"
   ]
  },
  {
   "cell_type": "code",
   "execution_count": 10,
   "id": "4de0d269",
   "metadata": {},
   "outputs": [
    {
     "name": "stdout",
     "output_type": "stream",
     "text": [
      "sanjay\n",
      "kalyan\n",
      "sunil\n",
      "anil\n",
      "vinay\n",
      "sameer\n",
      "harish\n"
     ]
    }
   ],
   "source": [
    "people = ['sanjay','kalyan','sunil','anil','vinay','rahul','sameer','harish',]\n",
    "for x in people:\n",
    "    if x == 'rahul':\n",
    "        continue\n",
    "    print(x)"
   ]
  },
  {
   "cell_type": "code",
   "execution_count": 11,
   "id": "e48ee60e",
   "metadata": {},
   "outputs": [
    {
     "name": "stdout",
     "output_type": "stream",
     "text": [
      "sanjay\n",
      "kalyan\n",
      "sunil\n",
      "anil\n",
      "vinay\n",
      "rahul\n",
      "sameer\n",
      "harish\n",
      "rohith\n"
     ]
    }
   ],
   "source": [
    "people = ['sanjay','kalyan','sunil','anil','vinay','rahul','sameer','harish']\n",
    "for x in people:\n",
    "    print(x)\n",
    "else:\n",
    "    print('rohith')"
   ]
  },
  {
   "cell_type": "code",
   "execution_count": 12,
   "id": "3383574f",
   "metadata": {},
   "outputs": [
    {
     "name": "stdout",
     "output_type": "stream",
     "text": [
      "sanjay\n",
      "vinay\n",
      "arjun\n"
     ]
    }
   ],
   "source": [
    "people = ['sanjay','vinay','arjun','avinash','sai','vinay']\n",
    "for people in people:\n",
    "    if people == 'avinash':\n",
    "        break\n",
    "    print(people)"
   ]
  },
  {
   "cell_type": "code",
   "execution_count": 2,
   "id": "a2a8a624",
   "metadata": {},
   "outputs": [
    {
     "name": "stdout",
     "output_type": "stream",
     "text": [
      "Positive number\n"
     ]
    }
   ],
   "source": [
    "# Example of a control flow statement using if-elif-else\n",
    "number = 7\n",
    "if number < 0:\n",
    "    print(\"Negative number\")\n",
    "elif number == 0:\n",
    "    print(\"Zero\")\n",
    "else:\n",
    "    print(\"Positive number\")"
   ]
  },
  {
   "cell_type": "code",
   "execution_count": 1,
   "id": "febfa46a",
   "metadata": {},
   "outputs": [
    {
     "name": "stdout",
     "output_type": "stream",
     "text": [
      "x is not equal to y\n",
      "x is greater than y\n",
      "x is greater than or equal to y\n"
     ]
    }
   ],
   "source": [
    "x = 15\n",
    "y = 10\n",
    "\n",
    "if x == y:\n",
    "    print(\"x is equal to y\")\n",
    "if x != y:\n",
    "    print(\"x is not equal to y\")\n",
    "if x > y:\n",
    "    print(\"x is greater than y\")\n",
    "if x < y:\n",
    "    print(\"x is less than y\")\n",
    "if x >= y:\n",
    "    print(\"x is greater than or equal to y\")\n",
    "if x <= y:\n",
    "    print(\"x is less than or equal to y\")"
   ]
  },
  {
   "cell_type": "code",
   "execution_count": 4,
   "id": "084e56c2",
   "metadata": {},
   "outputs": [
    {
     "name": "stdout",
     "output_type": "stream",
     "text": [
      "While loop: 1\n",
      "While loop: 2\n",
      "While loop: 3\n",
      "While loop: 4\n",
      "While loop: 5\n",
      "For loop: 1\n",
      "For loop: 2\n",
      "For loop: 3\n",
      "For loop: 4\n",
      "For loop: 5\n"
     ]
    }
   ],
   "source": [
    "# While loop: print numbers from 1 to 5\n",
    "i = 1\n",
    "while i <= 5:\n",
    "    print(\"While loop:\", i)\n",
    "    i += 1\n",
    "\n",
    "# For loop: print numbers from 1 to 5\n",
    "for j in range(1, 6):\n",
    "    print(\"For loop:\", j)"
   ]
  },
  {
   "cell_type": "code",
   "execution_count": 3,
   "id": "b65355e4",
   "metadata": {},
   "outputs": [
    {
     "name": "stdout",
     "output_type": "stream",
     "text": [
      "Current value: 1\n",
      "Current value: 2\n",
      "Current value: 3\n",
      "Current value: 4\n",
      "Current value: 6\n",
      "Current value: 7\n"
     ]
    }
   ],
   "source": [
    "# Demonstrating continue and break operations in a for loop\n",
    "\n",
    "for i in range(1, 10):\n",
    "    if i == 5:\n",
    "        continue  # Skip the rest of the loop when i is 5\n",
    "    if i == 8:\n",
    "        break     # Exit the loop when i is 8\n",
    "    print(\"Current value:\", i)"
   ]
  },
  {
   "cell_type": "code",
   "execution_count": 5,
   "id": "143c6ea5",
   "metadata": {},
   "outputs": [
    {
     "name": "stdout",
     "output_type": "stream",
     "text": [
      "While loop value: 1\n",
      "While loop value: 2\n",
      "While loop value: 4\n",
      "While loop value: 5\n",
      "While loop value: 6\n",
      "While loop value: 7\n",
      "For loop value: 1\n",
      "For loop value: 2\n",
      "For loop value: 3\n",
      "For loop value: 5\n",
      "For loop value: 6\n"
     ]
    }
   ],
   "source": [
    "# Using continue and break in a while loop\n",
    "count = 0\n",
    "while count < 10:\n",
    "    count += 1\n",
    "    if count == 3:\n",
    "        continue  # Skip printing when count is 3\n",
    "    if count == 8:\n",
    "        break     # Exit loop when count is 8\n",
    "    print(\"While loop value:\", count)\n",
    "\n",
    "# Using continue and break in a for loop\n",
    "for n in range(1, 10):\n",
    "    if n == 4:\n",
    "        continue  # Skip printing when n is 4\n",
    "    if n == 7:\n",
    "        break     # Exit loop when n is 7\n",
    "    print(\"For loop value:\", n)"
   ]
  },
  {
   "cell_type": "code",
   "execution_count": 6,
   "id": "1b8c8411",
   "metadata": {},
   "outputs": [
    {
     "name": "stdout",
     "output_type": "stream",
     "text": [
      "Alice got a B grade.\n",
      "Age is present: 20\n"
     ]
    }
   ],
   "source": [
    "# Example of using conditions with dictionaries\n",
    "\n",
    "student = {'name': 'Alice', 'age': 20, 'marks': 85}\n",
    "\n",
    "if student['marks'] >= 90:\n",
    "    print(f\"{student['name']} got an A grade.\")\n",
    "elif student['marks'] >= 75:\n",
    "    print(f\"{student['name']} got a B grade.\")\n",
    "else:\n",
    "    print(f\"{student['name']} needs improvement.\")\n",
    "\n",
    "# Check if a key exists in the dictionary\n",
    "if 'age' in student:\n",
    "    print(f\"Age is present: {student['age']}\")\n",
    "else:\n",
    "    print(\"Age is not present in the dictionary.\")"
   ]
  },
  {
   "cell_type": "code",
   "execution_count": 7,
   "id": "7975b6dc",
   "metadata": {},
   "outputs": [
    {
     "name": "stdout",
     "output_type": "stream",
     "text": [
      "Keys: dict_keys(['name', 'age', 'marks'])\n",
      "Values: dict_values(['Alice', 20, 85])\n",
      "Items: dict_items([('name', 'Alice'), ('age', 20), ('marks', 85)])\n",
      "Get 'marks': 85\n",
      "Get 'grade': Not found\n",
      "After adding 'grade': {'name': 'Alice', 'age': 20, 'marks': 85, 'grade': 'B'}\n",
      "After removing 'age': {'name': 'Alice', 'marks': 85, 'grade': 'B'}\n",
      "Removed age: 20\n"
     ]
    }
   ],
   "source": [
    "# Demonstrating some common dictionary methods with the 'student' dictionary\n",
    "\n",
    "# Get all keys\n",
    "print(\"Keys:\", student.keys())\n",
    "\n",
    "# Get all values\n",
    "print(\"Values:\", student.values())\n",
    "\n",
    "# Get all key-value pairs\n",
    "print(\"Items:\", student.items())\n",
    "\n",
    "# Get value for a specific key with a default\n",
    "print(\"Get 'marks':\", student.get('marks', 'Not found'))\n",
    "print(\"Get 'grade':\", student.get('grade', 'Not found'))\n",
    "\n",
    "# Add a new key-value pair\n",
    "student['grade'] = 'B'\n",
    "print(\"After adding 'grade':\", student)\n",
    "\n",
    "# Remove a key-value pair\n",
    "removed_age = student.pop('age', None)\n",
    "print(\"After removing 'age':\", student)\n",
    "print(\"Removed age:\", removed_age)\n",
    "\n",
    "# Clear all items\n",
    "# student.clear()\n",
    "# print(\"After clearing:\", student)"
   ]
  },
  {
   "cell_type": "code",
   "execution_count": 8,
   "id": "b6cce167",
   "metadata": {},
   "outputs": [
    {
     "name": "stdout",
     "output_type": "stream",
     "text": [
      "Employee Name: John Doe\n",
      "Department: IT\n",
      "After adding location: {'id': 101, 'name': 'John Doe', 'department': 'IT', 'salary': 75000, 'location': 'New York'}\n",
      "After salary update: {'id': 101, 'name': 'John Doe', 'department': 'IT', 'salary': 80000, 'location': 'New York'}\n",
      "After removing department: {'id': 101, 'name': 'John Doe', 'salary': 80000, 'location': 'New York'}\n",
      "Removed department: IT\n",
      "id: 101\n",
      "name: John Doe\n",
      "salary: 80000\n",
      "location: New York\n"
     ]
    }
   ],
   "source": [
    "# Creating a new dictionary with some sample data\n",
    "employee = {\n",
    "    'id': 101,\n",
    "    'name': 'John Doe',\n",
    "    'department': 'IT',\n",
    "    'salary': 75000\n",
    "}\n",
    "\n",
    "# Accessing values\n",
    "print(\"Employee Name:\", employee['name'])\n",
    "print(\"Department:\", employee.get('department'))\n",
    "\n",
    "# Adding a new key-value pair\n",
    "employee['location'] = 'New York'\n",
    "print(\"After adding location:\", employee)\n",
    "\n",
    "# Updating a value\n",
    "employee['salary'] = 80000\n",
    "print(\"After salary update:\", employee)\n",
    "\n",
    "# Removing a key-value pair\n",
    "removed_department = employee.pop('department', None)\n",
    "print(\"After removing department:\", employee)\n",
    "print(\"Removed department:\", removed_department)\n",
    "\n",
    "# Iterating over keys and values\n",
    "for key, value in employee.items():\n",
    "    print(f\"{key}: {value}\")"
   ]
  },
  {
   "cell_type": "code",
   "execution_count": 13,
   "id": "72bac18d",
   "metadata": {},
   "outputs": [
    {
     "name": "stdout",
     "output_type": "stream",
     "text": [
      "x (15) is greater than y (10)\n",
      "Alice has grade: B\n",
      "John Doe has a high salary: 80000\n",
      "Count has reached or exceeded 8.\n"
     ]
    }
   ],
   "source": [
    "# Example of a control statement program using the variables defined above\n",
    "\n",
    "if x > y:\n",
    "    print(f\"x ({x}) is greater than y ({y})\")\n",
    "elif x < y:\n",
    "    print(f\"x ({x}) is less than y ({y})\")\n",
    "else:\n",
    "    print(f\"x ({x}) is equal to y ({y})\")\n",
    "\n",
    "if 'grade' in student:\n",
    "    print(f\"{student['name']} has grade: {student['grade']}\")\n",
    "else:\n",
    "    print(f\"{student['name']} does not have a grade assigned.\")\n",
    "\n",
    "if employee['salary'] > 75000:\n",
    "    print(f\"{employee['name']} has a high salary: {employee['salary']}\")\n",
    "else:\n",
    "    print(f\"{employee['name']} has a salary: {employee['salary']}\")\n",
    "\n",
    "if count >= 8:\n",
    "    print(\"Count has reached or exceeded 8.\")\n",
    "else:\n",
    "    print(\"Count is less than 8.\")"
   ]
  },
  {
   "cell_type": "code",
   "execution_count": 28,
   "id": "b461f6f3",
   "metadata": {},
   "outputs": [
    {
     "name": "stdout",
     "output_type": "stream",
     "text": [
      "a(20) is greater then b (15)\n",
      "sanjay has year: 2\n",
      "kalyan kumar has a high salary: 45000\n",
      "Count has reached or exceeded 8.\n"
     ]
    }
   ],
   "source": [
    "a = 20\n",
    "b = 15\n",
    "student = {'name': 'sanjay','year': 2}\n",
    "employee = {'name': 'kalyan kumar', 'salary': 45000} \n",
    "if a > b:\n",
    "    print(f\"a({a}) is greater then b ({b})\")\n",
    "elif a < b:\n",
    "    print(f\"a {a} is less then b {b}\")\n",
    "else:\n",
    "    print(f\"a {a} is equal to b {b}\")\n",
    "\n",
    "if 'year' in student:\n",
    "    print(f\"{student['name']} has year: {student['year']}\")\n",
    "else:\n",
    "    print(f\"{student['name']} does not have a grade assigned.\")\n",
    "\n",
    "if employee:\n",
    "    print(f\"{employee['name']} has a high salary: {employee['salary']}\")\n",
    "else:\n",
    "    print(f\"{employee['name']} has a salary: {employee['salary']}\")\n",
    "\n",
    "if count >= 8:\n",
    "    print(\"Count has reached or exceeded 8.\")\n",
    "else:\n",
    "    print(\"Count is less than 8.\")"
   ]
  },
  {
   "cell_type": "code",
   "execution_count": null,
   "id": "c8f9c5d4",
   "metadata": {},
   "outputs": [],
   "source": []
  },
  {
   "cell_type": "code",
   "execution_count": null,
   "id": "9c4e62dd",
   "metadata": {},
   "outputs": [],
   "source": []
  },
  {
   "cell_type": "code",
   "execution_count": 10,
   "id": "d0193f4f",
   "metadata": {},
   "outputs": [
    {
     "name": "stdout",
     "output_type": "stream",
     "text": [
      "Current number: 1\n",
      "Current number: 2\n",
      "Current number: 3\n",
      "Current number: 4\n",
      "Breaking the loop at num = 5\n",
      "Number: 1\n",
      "Number: 2\n",
      "Skipping number 3\n",
      "Number: 4\n",
      "Number: 5\n",
      "Pass example, num = 1\n",
      "Pass example, num = 2\n",
      "Pass example, num = 3\n"
     ]
    }
   ],
   "source": [
    "# Example of loop control statements: break, continue, and pass\n",
    "\n",
    "# Using break\n",
    "for num in range(1, 10):\n",
    "    if num == 5:\n",
    "        print(\"Breaking the loop at num =\", num)\n",
    "        break\n",
    "    print(\"Current number:\", num)\n",
    "\n",
    "# Using continue\n",
    "for num in range(1, 6):\n",
    "    if num == 3:\n",
    "        print(\"Skipping number 3\")\n",
    "        continue\n",
    "    print(\"Number:\", num)\n",
    "\n",
    "# Using pass\n",
    "for num in range(1, 4):\n",
    "    if num == 2:\n",
    "        pass  # Placeholder for future code\n",
    "    print(\"Pass example, num =\", num)"
   ]
  }
 ],
 "metadata": {
  "kernelspec": {
   "display_name": "Python 3",
   "language": "python",
   "name": "python3"
  },
  "language_info": {
   "codemirror_mode": {
    "name": "ipython",
    "version": 3
   },
   "file_extension": ".py",
   "mimetype": "text/x-python",
   "name": "python",
   "nbconvert_exporter": "python",
   "pygments_lexer": "ipython3",
   "version": "3.12.11"
  }
 },
 "nbformat": 4,
 "nbformat_minor": 5
}
